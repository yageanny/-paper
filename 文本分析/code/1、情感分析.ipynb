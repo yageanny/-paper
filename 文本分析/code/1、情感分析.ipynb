{
 "cells": [
  {
   "cell_type": "markdown",
   "metadata": {},
   "source": [
    "# 情感分析"
   ]
  },
  {
   "cell_type": "markdown",
   "metadata": {},
   "source": [
    "# 情感分析：基于词典法  基于机器学习方法"
   ]
  },
  {
   "cell_type": "markdown",
   "metadata": {},
   "source": [
    "例子1：基于自建词典法"
   ]
  },
  {
   "cell_type": "code",
   "execution_count": 1,
   "metadata": {},
   "outputs": [],
   "source": [
    "import jieba"
   ]
  },
  {
   "cell_type": "code",
   "execution_count": 2,
   "metadata": {},
   "outputs": [
    {
     "data": {
      "text/plain": [
       "['开心', '快乐', '好评', '很赞']"
      ]
     },
     "execution_count": 2,
     "metadata": {},
     "output_type": "execute_result"
    }
   ],
   "source": [
    "###定义词典读取\n",
    "def read_dict(file, encoding):\n",
    "    text = open(file, 'r', encoding=encoding).read()\n",
    "    wordlist = text.split('\\n')\n",
    "    wordlist = [w for w in wordlist if w]\n",
    "    return wordlist\n",
    "\n",
    "read_dict('D:\\wenben\\8月12下午 文本分析\\data\\positive.txt', encoding='gbk')"
   ]
  },
  {
   "cell_type": "code",
   "execution_count": 3,
   "metadata": {},
   "outputs": [],
   "source": [
    "def sentiment(text):\n",
    "    #情感词语计数\n",
    "    pos_num = 0\n",
    "    neg_num = 0\n",
    "    \n",
    "    #导入情感词典\n",
    "    positives = read_dict('D:\\wenben\\8月12下午 文本分析\\data\\positive.txt', encoding='gbk')\n",
    "    negatives = read_dict('D:\\wenben\\8月12下午 文本分析\\data\\positive.txt', encoding='gbk')\n",
    "    \n",
    "    #对待分析文本进行分词\n",
    "    wordlist = jieba.lcut(text)\n",
    "\n",
    "    #判断词语类别。正面、负面、中性\n",
    "    for word in wordlist:\n",
    "        if word in positives:\n",
    "            pos_num = pos_num + 1\n",
    "        elif word in negatives:\n",
    "            neg_num = neg_num + 1\n",
    "        else:\n",
    "            #中性词\n",
    "            pass\n",
    "    \n",
    "    #最后判断句子的情感极性（方向）\n",
    "    if pos_num > neg_num:\n",
    "        return 'Pos'\n",
    "    elif pos_num < neg_num:\n",
    "        return 'Neg'\n",
    "    else:\n",
    "        return 'Neo'"
   ]
  },
  {
   "cell_type": "code",
   "execution_count": 4,
   "metadata": {},
   "outputs": [
    {
     "name": "stderr",
     "output_type": "stream",
     "text": [
      "Building prefix dict from the default dictionary ...\n",
      "Loading model from cache D:\\TEMP\\jieba.cache\n",
      "Loading model cost 1.502 seconds.\n",
      "Prefix dict has been built successfully.\n"
     ]
    },
    {
     "data": {
      "text/plain": [
       "'Pos'"
      ]
     },
     "execution_count": 4,
     "metadata": {},
     "output_type": "execute_result"
    }
   ],
   "source": [
    "test1 = '书质量很好，好评'\n",
    "sentiment(test1)"
   ]
  },
  {
   "cell_type": "code",
   "execution_count": 5,
   "metadata": {},
   "outputs": [
    {
     "data": {
      "text/plain": [
       "'Pos'"
      ]
     },
     "execution_count": 5,
     "metadata": {},
     "output_type": "execute_result"
    }
   ],
   "source": [
    "test2 = '我今天不开心'\n",
    "sentiment(test2)"
   ]
  },
  {
   "cell_type": "markdown",
   "metadata": {},
   "source": [
    "# 例子2：基于snownlp"
   ]
  },
  {
   "cell_type": "code",
   "execution_count": 12,
   "metadata": {},
   "outputs": [
    {
     "name": "stdout",
     "output_type": "stream",
     "text": [
      "Collecting snownlp\n",
      "  Downloading snownlp-0.12.3.tar.gz (37.6 MB)\n",
      "     ---------------------------------------- 37.6/37.6 MB 2.0 MB/s eta 0:00:00\n",
      "  Preparing metadata (setup.py): started\n",
      "  Preparing metadata (setup.py): finished with status 'done'\n",
      "Building wheels for collected packages: snownlp\n",
      "  Building wheel for snownlp (setup.py): started\n",
      "  Building wheel for snownlp (setup.py): finished with status 'done'\n",
      "  Created wheel for snownlp: filename=snownlp-0.12.3-py3-none-any.whl size=37760962 sha256=65c5bbe8ac9405febbd2dd1d2b0732306e60004ace985c9b1a0f81e8ec84d57e\n",
      "  Stored in directory: c:\\users\\颖颖真的可爱\\appdata\\local\\pip\\cache\\wheels\\09\\14\\c5\\ea9aee34229caa97c6f6ff78c82c7f2b1a3423c1f37227b6a6\n",
      "Successfully built snownlp\n",
      "Installing collected packages: snownlp\n",
      "Successfully installed snownlp-0.12.3\n",
      "Note: you may need to restart the kernel to use updated packages.\n"
     ]
    },
    {
     "name": "stderr",
     "output_type": "stream",
     "text": [
      "WARNING: Ignoring invalid distribution -qdm (d:\\programdata\\anaconda3\\lib\\site-packages)\n",
      "WARNING: Ignoring invalid distribution -qdm (d:\\programdata\\anaconda3\\lib\\site-packages)\n",
      "DEPRECATION: pyodbc 4.0.0-unsupported has a non-standard version number. pip 23.3 will enforce this behaviour change. A possible replacement is to upgrade to a newer version of pyodbc or contact the author to suggest that they release a version with a conforming version number. Discussion can be found at https://github.com/pypa/pip/issues/12063\n"
     ]
    }
   ],
   "source": []
  },
  {
   "attachments": {},
   "cell_type": "markdown",
   "metadata": {},
   "source": [
    "pip install snownlp"
   ]
  },
  {
   "cell_type": "code",
   "execution_count": 1,
   "metadata": {},
   "outputs": [
    {
     "name": "stderr",
     "output_type": "stream",
     "text": [
      "d:\\ProgramData\\Anaconda3\\lib\\site-packages\\pandas\\core\\computation\\expressions.py:20: UserWarning: Pandas requires version '2.7.3' or newer of 'numexpr' (version '2.7.1' currently installed).\n",
      "  from pandas.core.computation.check import NUMEXPR_INSTALLED\n"
     ]
    }
   ],
   "source": [
    "from snownlp import SnowNLP\n",
    "import pandas as pd\n",
    "\n",
    "# 读取Excel文件\n",
    "excel_data = pd.read_excel('D:\\\\wenben\\\\8月12下午 文本分析\\\\2022镇街转派.xlsx')\n",
    "\n",
    "# 假设数据位于名为 'column_name' 的列中\n",
    "text_data = excel_data['回复内容'].tolist()\n",
    "\n",
    "from snownlp import SnowNLP\n",
    "\n",
    "# 创建一个情感分析器\n",
    "def analyze_sentiment(text):\n",
    "    s = SnowNLP(text)\n",
    "    return s.sentiments\n",
    "\n",
    "# 对每个文本进行情感分析\n",
    "sentiment_scores = [analyze_sentiment(text) for text in text_data]\n",
    "\n",
    "\n",
    "\n",
    "excel_data['情感分析结果'] = sentiment_scores  # 添加新列\n",
    "\n",
    "# 将更新后的数据保存回Excel文件\n",
    "excel_data.to_excel('D:\\\\wenben\\\\8月12下午 文本分析\\\\2022镇街转派.xlsx', index=False)\n",
    "\n"
   ]
  },
  {
   "cell_type": "code",
   "execution_count": null,
   "metadata": {},
   "outputs": [],
   "source": [
    "pip install textblob\n"
   ]
  },
  {
   "cell_type": "code",
   "execution_count": null,
   "metadata": {},
   "outputs": [],
   "source": [
    "# 打印情感分析结果\n",
    "for i, score in enumerate(sentiment_scores):\n",
    "    print(f\"Text {i+1}: Sentiment Score = {score}\")"
   ]
  },
  {
   "cell_type": "code",
   "execution_count": 7,
   "metadata": {},
   "outputs": [],
   "source": [
    "text1 = '书质量很好，好评'\n",
    "text2 = '我今天不开心'\n",
    "s1 = SnowNLP(text1)\n",
    "s2 = SnowNLP(text2)"
   ]
  },
  {
   "cell_type": "code",
   "execution_count": 8,
   "metadata": {},
   "outputs": [
    {
     "name": "stdout",
     "output_type": "stream",
     "text": [
      "书质量很好，好评 0.7746653991091202\n"
     ]
    }
   ],
   "source": [
    "print(text1, s1.sentiments)"
   ]
  },
  {
   "cell_type": "code",
   "execution_count": 9,
   "metadata": {},
   "outputs": [
    {
     "name": "stdout",
     "output_type": "stream",
     "text": [
      "我今天不开心 0.6037259783171506\n"
     ]
    }
   ],
   "source": [
    "print(text2, s2.sentiments)"
   ]
  },
  {
   "cell_type": "markdown",
   "metadata": {},
   "source": [
    "# 例子3：基于百度深度学习平台"
   ]
  },
  {
   "cell_type": "code",
   "execution_count": 11,
   "metadata": {},
   "outputs": [],
   "source": [
    "##调用相关包\n",
    "from aip import AipNlp"
   ]
  },
  {
   "cell_type": "code",
   "execution_count": null,
   "metadata": {},
   "outputs": [],
   "source": []
  },
  {
   "attachments": {},
   "cell_type": "markdown",
   "metadata": {},
   "source": [
    "pip install baidu-aip"
   ]
  },
  {
   "cell_type": "code",
   "execution_count": 35,
   "metadata": {},
   "outputs": [],
   "source": [
    "##常量APP_ID在百度云控制台中创建，常量API_KEY与SECRET_KEY是在创建完毕应用后，系统分配给用户的，均为字符串，用于标识用户，为访问做签名验证，可在AI服务控制台中的应用列表中查看。\n",
    "##获取说明见链接：https://ai.baidu.com/ai-doc/REFERENCE/Ck3dwjgn3\n",
    "APP_ID = '****'\n",
    "API_KEY = '****'\n",
    "SECRET_KEY = '****'\n",
    "client = AipNlp(APP_ID, API_KEY, SECRET_KEY)"
   ]
  },
  {
   "cell_type": "code",
   "execution_count": null,
   "metadata": {},
   "outputs": [],
   "source": [
    "def chat(content):\n",
    "\n",
    "    url = ''\n",
    "\n",
    "    payload\n",
    "    \n"
   ]
  },
  {
   "cell_type": "code",
   "execution_count": 36,
   "metadata": {},
   "outputs": [
    {
     "data": {
      "text/plain": [
       "{'log_id': 1681349535620574932,\n",
       " 'items': [{'sentiment': 2,\n",
       "   'abstract': '华为手机<span>拍照很给力</span>',\n",
       "   'prop': '拍照',\n",
       "   'begin_pos': 8,\n",
       "   'end_pos': 18,\n",
       "   'adj': '给力'}]}"
      ]
     },
     "execution_count": 36,
     "metadata": {},
     "output_type": "execute_result"
    }
   ],
   "source": [
    "##评论观点抽取接口用来提取一条评论句子的关注点和评论观点，并输出评论观点标签及评论观点极性。\n",
    "##prop为属性词\n",
    "##adj为匹配上的描述词\n",
    "##sentiment 该情感搭配的极性（0表示消极，1表示中性，2表示积极）\n",
    "text = \"华为手机拍照很给力\"\n",
    "\n",
    "\"\"\" 调用评论观点抽取 \"\"\"\n",
    "client.commentTag(text);\n",
    "\n",
    "\"\"\" 如果有可选参数 \"\"\"\n",
    "options = {}\n",
    "options[\"type\"] = 13\n",
    "\n",
    "\"\"\" 带参数调用评论观点抽取 \"\"\"\n",
    "client.commentTag(text, options)"
   ]
  },
  {
   "cell_type": "code",
   "execution_count": 38,
   "metadata": {},
   "outputs": [
    {
     "data": {
      "text/plain": [
       "{'log_id': 9147594264271834964,\n",
       " 'items': [{'sentiment': 2,\n",
       "   'abstract': '书<span>质量很好</span>',\n",
       "   'prop': '质量',\n",
       "   'begin_pos': 2,\n",
       "   'end_pos': 10,\n",
       "   'adj': '好'}]}"
      ]
     },
     "execution_count": 38,
     "metadata": {},
     "output_type": "execute_result"
    }
   ],
   "source": [
    "##评论观点抽取接口用来提取一条评论句子的关注点和评论观点，并输出评论观点标签及评论观点极性。\n",
    "##prop为属性词\n",
    "##adj为匹配上的描述词\n",
    "##sentiment 该情感搭配的极性（0表示消极，1表示中性，2表示积极）\n",
    "text = \"书质量很好，好评\"\n",
    "\n",
    "\"\"\" 调用评论观点抽取 \"\"\"\n",
    "client.commentTag(text);\n",
    "\n",
    "\"\"\" 如果有可选参数 \"\"\"\n",
    "options = {}\n",
    "options[\"type\"] = 13\n",
    "\n",
    "\"\"\" 带参数调用评论观点抽取 \"\"\"\n",
    "client.commentTag(text, options)"
   ]
  },
  {
   "cell_type": "code",
   "execution_count": 41,
   "metadata": {},
   "outputs": [
    {
     "data": {
      "text/plain": [
       "{'log_id': 6612940800568206932, 'items': []}"
      ]
     },
     "execution_count": 41,
     "metadata": {},
     "output_type": "execute_result"
    }
   ],
   "source": [
    "##评论观点抽取接口用来提取一条评论句子的关注点和评论观点，并输出评论观点标签及评论观点极性。\n",
    "##prop为属性词\n",
    "##adj为匹配上的描述词\n",
    "##sentiment 该情感搭配的极性（0表示消极，1表示中性，2表示积极）\n",
    "text = \"我今天不开心\"\n",
    "\n",
    "\"\"\" 调用评论观点抽取 \"\"\"\n",
    "client.commentTag(text);\n",
    "\n",
    "\"\"\" 如果有可选参数 \"\"\"\n",
    "options = {}\n",
    "options[\"type\"] = 13\n",
    "\n",
    "\"\"\" 带参数调用评论观点抽取 \"\"\"\n",
    "client.commentTag(text, options)"
   ]
  },
  {
   "cell_type": "code",
   "execution_count": 42,
   "metadata": {},
   "outputs": [
    {
     "data": {
      "text/plain": [
       "{'log_id': 4906178446520024980,\n",
       " 'text': '书质量很好，好评',\n",
       " 'items': [{'positive_prob': 0.99999,\n",
       "   'confidence': 0.999977,\n",
       "   'negative_prob': 1.0274e-05,\n",
       "   'sentiment': 2}]}"
      ]
     },
     "execution_count": 42,
     "metadata": {},
     "output_type": "execute_result"
    }
   ],
   "source": [
    "text = \"书质量很好，好评\"\n",
    "\n",
    "\"\"\" 调用情感倾向分析 \"\"\"\n",
    "client.sentimentClassify(text)"
   ]
  },
  {
   "cell_type": "code",
   "execution_count": 43,
   "metadata": {},
   "outputs": [
    {
     "data": {
      "text/plain": [
       "{'log_id': 6259700630664126644,\n",
       " 'text': '我今天不开心',\n",
       " 'items': [{'positive_prob': 0.0755886,\n",
       "   'confidence': 0.832025,\n",
       "   'negative_prob': 0.924411,\n",
       "   'sentiment': 0}]}"
      ]
     },
     "execution_count": 43,
     "metadata": {},
     "output_type": "execute_result"
    }
   ],
   "source": [
    "text = \"我今天不开心\"\n",
    "\n",
    "\"\"\" 调用情感倾向分析 \"\"\"\n",
    "client.sentimentClassify(text)"
   ]
  },
  {
   "cell_type": "code",
   "execution_count": null,
   "metadata": {},
   "outputs": [],
   "source": []
  }
 ],
 "metadata": {
  "kernelspec": {
   "display_name": "base",
   "language": "python",
   "name": "python3"
  },
  "language_info": {
   "codemirror_mode": {
    "name": "ipython",
    "version": 3
   },
   "file_extension": ".py",
   "mimetype": "text/x-python",
   "name": "python",
   "nbconvert_exporter": "python",
   "pygments_lexer": "ipython3",
   "version": "3.8.5"
  },
  "vscode": {
   "interpreter": {
    "hash": "e42634819b8c191a5d07eaf23810ff32516dd8d3875f28ec3e488928fbd3c187"
   }
  }
 },
 "nbformat": 4,
 "nbformat_minor": 2
}
