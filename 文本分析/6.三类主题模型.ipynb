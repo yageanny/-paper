{
 "cells": [
  {
   "cell_type": "code",
   "execution_count": null,
   "metadata": {},
   "outputs": [],
   "source": []
  },
  {
   "cell_type": "markdown",
   "metadata": {},
   "source": [
    "## LDA（Latent Dirichlet Allocation）"
   ]
  },
  {
   "cell_type": "markdown",
   "metadata": {},
   "source": [
    "LDA（Latent Dirichlet Allocation）是一种非常流行的文本主题模型。它可以从大量的文本文档中发现潜在的主题。\n",
    "\n",
    "以下是LDA模型的基本原理：\n",
    "\n",
    "1. **假设**:\n",
    "    - 文档是由主题的混合所产生的。\n",
    "    - 主题是词的分布。\n",
    "    - 每个文档都可以由一组主题的混合表示，其中每个主题都有一个权重。\n",
    "\n",
    "2. **文档生成过程**:\n",
    "    LDA假设每篇文档的生成遵循以下过程：\n",
    "    - 选择文档的长度。\n",
    "    - 选择一个主题的混合（例如，主题A的权重为30%，主题B的权重为70%）。\n",
    "    - 对于文档中的每一个词：\n",
    "        - 选择一个主题（基于文档的主题混合）。\n",
    "        - 从该主题的分布中选择一个词。\n",
    "\n",
    "3. **反向工程**:\n",
    "    在实际应用中，我们已经有了文档，目标是找出主题。LDA的任务是反向工程这个生成过程，找出每篇文档的主题混合以及每个主题的词分布。\n",
    "\n",
    "4. **Dirichlet分布**:\n",
    "    LDA中的\"D\"指的是Dirichlet分布，它是用于描述主题混合和词分布的先验概率分布。在实际应用中，Dirichlet分布有助于平滑主题和词分布。\n",
    "\n",
    "5. **参数估计**:\n",
    "    LDA使用变分推断或吉布斯抽样来估计模型参数。这些方法都试图最大化观测到的文档和词在给定主题、词分布和主题混合下的联合概率。\n",
    "\n",
    "6. **输出**:\n",
    "    LDA的输出包括每个文档的主题混合和每个主题的词分布。\n",
    "\n",
    "#### 缺点\n",
    "1.主题个数是个超参，需要事先指定\n",
    "\n",
    "2.使用 bag-of-words 去表示文本，忽略了词的顺序和深层次的语义，表征能力有限\n",
    "\n",
    "3.stopwords/stemming/lemmatization，都要处理，这也是 bag-of-words 带来的缺点"
   ]
  },
  {
   "cell_type": "code",
   "execution_count": null,
   "metadata": {},
   "outputs": [],
   "source": [
    "import pandas as pd\n",
    "import jieba\n",
    "\n",
    "\n",
    "df = pd.read_csv('明星信息.csv', encoding='utf-8')\n",
    "\n",
    "\n",
    "df.dropna(subset=['judge'], inplace=True)\n",
    "\n",
    "stopwords = [line.strip() for line in open('停用词表.txt',encoding='UTF-8').readlines()]\n",
    "\n",
    "\n",
    "def jieba_cut_remove_stopwords(text):\n",
    "    \"\"\"结巴分词，并去除停用词\n",
    "    \"\"\"\n",
    "    words = jieba.lcut(text)\n",
    "    results = []\n",
    "    for word in words:\n",
    "        # 去除停用词和空元素\n",
    "        if word not in stopwords and word.strip():\n",
    "            results.append(word)\n",
    "    return ' '.join(results)\n",
    "\n",
    "df['judge_cut'] = df[\"judge\"].apply(lambda x:jieba_cut_remove_stopwords(str(x)))\n",
    "\n",
    "df.to_csv('明星信息1.csv', encoding='utf-8')"
   ]
  },
  {
   "cell_type": "code",
   "execution_count": 2,
   "metadata": {},
   "outputs": [
    {
     "data": {
      "text/plain": [
       "[(0, '0.017*\"电影\" + 0.008*\"中\" + 0.006*\"导演\" + 0.005*\"评\" + 0.004*\"中国\"'),\n",
       " (1, '0.008*\"中国\" + 0.006*\"中\" + 0.005*\"评\" + 0.004*\"说\" + 0.004*\"齐达内\"'),\n",
       " (2, '0.010*\"电影\" + 0.009*\"中\" + 0.009*\"评\" + 0.005*\"时\" + 0.005*\"观众\"'),\n",
       " (3, '0.018*\"评\" + 0.011*\"中\" + 0.008*\"电影\" + 0.005*\"娱乐\" + 0.005*\"角色\"'),\n",
       " (4, '0.029*\"评\" + 0.020*\"中\" + 0.010*\"角色\" + 0.009*\"观众\" + 0.008*\"表演\"'),\n",
       " (5, '0.015*\"评\" + 0.014*\"中\" + 0.005*\"娱乐\" + 0.004*\"形象\" + 0.004*\"角色\"'),\n",
       " (6, '0.012*\"贺敬之\" + 0.008*\"中\" + 0.006*\"评\" + 0.006*\"中国\" + 0.005*\"评价\"'),\n",
       " (7, '0.011*\"中\" + 0.009*\"评\" + 0.009*\"节目\" + 0.006*\"主持\" + 0.005*\"年\"'),\n",
       " (8, '0.021*\"评\" + 0.014*\"中\" + 0.006*\"演员\" + 0.005*\"娱乐\" + 0.005*\"表演\"'),\n",
       " (9, '0.013*\"评\" + 0.012*\"中\" + 0.007*\"音乐\" + 0.005*\"演员\" + 0.004*\"娱乐\"')]"
      ]
     },
     "execution_count": 2,
     "metadata": {},
     "output_type": "execute_result"
    }
   ],
   "source": [
    "import pandas as pd\n",
    "import gensim\n",
    "from gensim import corpora\n",
    "from gensim.models import LdaModel\n",
    "import jieba\n",
    "\n",
    "\n",
    "df = pd.read_csv('明星信息1.csv', encoding='utf-8')\n",
    "\n",
    "# 2. 预处理数据\n",
    "\n",
    "# 分词\n",
    "\n",
    "\n",
    "texts = [[word for word in text.split(' ') ] for text in df['judge_cut']]\n",
    "# print(texts)\n",
    "# 构建词典\n",
    "dictionary = corpora.Dictionary(texts)\n",
    "\n",
    "# 使用上面的词典，将转换文档列表（语料）变成 DT 矩阵\n",
    "corpus = [dictionary.doc2bow(text) for text in texts]\n",
    "\n",
    "texts, dictionary, corpus\n",
    "\n",
    "\n",
    "# 3. 训练模型\n",
    "lda_model = LdaModel(corpus, num_topics=10, id2word=dictionary, passes=15)\n",
    "\n",
    "# 4. 展示结果\n",
    "topics = lda_model.print_topics(num_words=5)\n",
    "topics\n"
   ]
  },
  {
   "cell_type": "code",
   "execution_count": 59,
   "metadata": {},
   "outputs": [
    {
     "data": {
      "text/html": [
       "<div>\n",
       "<style scoped>\n",
       "    .dataframe tbody tr th:only-of-type {\n",
       "        vertical-align: middle;\n",
       "    }\n",
       "\n",
       "    .dataframe tbody tr th {\n",
       "        vertical-align: top;\n",
       "    }\n",
       "\n",
       "    .dataframe thead th {\n",
       "        text-align: right;\n",
       "    }\n",
       "</style>\n",
       "<table border=\"1\" class=\"dataframe\">\n",
       "  <thead>\n",
       "    <tr style=\"text-align: right;\">\n",
       "      <th></th>\n",
       "      <th>Topic_0</th>\n",
       "      <th>Topic_1</th>\n",
       "      <th>Topic_2</th>\n",
       "      <th>Topic_3</th>\n",
       "      <th>Topic_4</th>\n",
       "      <th>Topic_5</th>\n",
       "      <th>Topic_6</th>\n",
       "      <th>Topic_7</th>\n",
       "      <th>Topic_8</th>\n",
       "      <th>Topic_9</th>\n",
       "    </tr>\n",
       "  </thead>\n",
       "  <tbody>\n",
       "    <tr>\n",
       "      <th>0</th>\n",
       "      <td>0.000000</td>\n",
       "      <td>0.0</td>\n",
       "      <td>0.736969</td>\n",
       "      <td>0.0</td>\n",
       "      <td>0.000000</td>\n",
       "      <td>0.0</td>\n",
       "      <td>0.0</td>\n",
       "      <td>0.000000</td>\n",
       "      <td>0.0</td>\n",
       "      <td>0.260547</td>\n",
       "    </tr>\n",
       "    <tr>\n",
       "      <th>1</th>\n",
       "      <td>0.000000</td>\n",
       "      <td>0.0</td>\n",
       "      <td>0.000000</td>\n",
       "      <td>0.0</td>\n",
       "      <td>0.000000</td>\n",
       "      <td>0.0</td>\n",
       "      <td>0.0</td>\n",
       "      <td>0.981585</td>\n",
       "      <td>0.0</td>\n",
       "      <td>0.000000</td>\n",
       "    </tr>\n",
       "    <tr>\n",
       "      <th>2</th>\n",
       "      <td>0.000000</td>\n",
       "      <td>0.0</td>\n",
       "      <td>0.000000</td>\n",
       "      <td>0.0</td>\n",
       "      <td>0.000000</td>\n",
       "      <td>0.0</td>\n",
       "      <td>0.0</td>\n",
       "      <td>0.000000</td>\n",
       "      <td>0.0</td>\n",
       "      <td>0.994537</td>\n",
       "    </tr>\n",
       "    <tr>\n",
       "      <th>3</th>\n",
       "      <td>0.000000</td>\n",
       "      <td>0.0</td>\n",
       "      <td>0.990067</td>\n",
       "      <td>0.0</td>\n",
       "      <td>0.000000</td>\n",
       "      <td>0.0</td>\n",
       "      <td>0.0</td>\n",
       "      <td>0.000000</td>\n",
       "      <td>0.0</td>\n",
       "      <td>0.000000</td>\n",
       "    </tr>\n",
       "    <tr>\n",
       "      <th>4</th>\n",
       "      <td>0.678995</td>\n",
       "      <td>0.0</td>\n",
       "      <td>0.000000</td>\n",
       "      <td>0.0</td>\n",
       "      <td>0.184383</td>\n",
       "      <td>0.0</td>\n",
       "      <td>0.0</td>\n",
       "      <td>0.000000</td>\n",
       "      <td>0.0</td>\n",
       "      <td>0.132638</td>\n",
       "    </tr>\n",
       "  </tbody>\n",
       "</table>\n",
       "</div>"
      ],
      "text/plain": [
       "    Topic_0  Topic_1   Topic_2  Topic_3   Topic_4  Topic_5  Topic_6   Topic_7  \\\n",
       "0  0.000000      0.0  0.736969      0.0  0.000000      0.0      0.0  0.000000   \n",
       "1  0.000000      0.0  0.000000      0.0  0.000000      0.0      0.0  0.981585   \n",
       "2  0.000000      0.0  0.000000      0.0  0.000000      0.0      0.0  0.000000   \n",
       "3  0.000000      0.0  0.990067      0.0  0.000000      0.0      0.0  0.000000   \n",
       "4  0.678995      0.0  0.000000      0.0  0.184383      0.0      0.0  0.000000   \n",
       "\n",
       "   Topic_8   Topic_9  \n",
       "0      0.0  0.260547  \n",
       "1      0.0  0.000000  \n",
       "2      0.0  0.994537  \n",
       "3      0.0  0.000000  \n",
       "4      0.0  0.132638  "
      ]
     },
     "execution_count": 59,
     "metadata": {},
     "output_type": "execute_result"
    }
   ],
   "source": [
    "###查看每个文档主题分布\n",
    "import pandas as pd\n",
    "\n",
    "doc_topic_distributions = [lda_model[bow] for bow in corpus]\n",
    "fixed_distributions = []\n",
    "\n",
    "for distribution in doc_topic_distributions:\n",
    "    fixed_distribution = [0] * lda_model.num_topics\n",
    "    for topic_id, prob in distribution:\n",
    "        fixed_distribution[topic_id] = prob\n",
    "    fixed_distributions.append(fixed_distribution)\n",
    "\n",
    "\n",
    "\n",
    "# Convert the fixed_distributions list into a DataFrame\n",
    "df = pd.DataFrame(fixed_distributions, columns=[f\"Topic_{i}\" for i in range(lda_model.num_topics)])\n",
    "\n",
    "df.head()  # Display the first few rows of the dataframe for review\n"
   ]
  },
  {
   "cell_type": "code",
   "execution_count": 60,
   "metadata": {},
   "outputs": [],
   "source": [
    "# from gensim.models.ldamodel import LdaModel\n",
    "# lda_model.save('my_lda_model')\n",
    "# lda_model = LdaModel.load('my_lda_model')"
   ]
  },
  {
   "cell_type": "markdown",
   "metadata": {},
   "source": [
    "## 模型评估：\n",
    "\n",
    "\n",
    "Coherence：这是一个常用的指标，用于评估主题模型的质量。一个高的 coherence 分数意味着在一个主题内的词汇之间有很强的语义关系，这通常意味着该主题是有意义的。\n",
    "\n",
    "Diversity：这是指主题之间的差异性。如果我们有许多相似的主题，那么整体的多样性会降低。理想情况下，我们希望每个主题都是独特和有区分性的。，取值范围[0,1]，0表示主题冗余，1表示更加多样的主题。"
   ]
  },
  {
   "cell_type": "code",
   "execution_count": 3,
   "metadata": {},
   "outputs": [
    {
     "data": {
      "text/plain": [
       "({2: 0.46748332852071084, 3: 0.38223937219549436, 4: 0.425892888851095},\n",
       " {2: 0.6, 3: 0.4, 4: 0.35})"
      ]
     },
     "execution_count": 3,
     "metadata": {},
     "output_type": "execute_result"
    }
   ],
   "source": [
    "import gensim\n",
    "from gensim import corpora\n",
    "from gensim.models import LdaModel, CoherenceModel\n",
    "from collections import defaultdict\n",
    "\n",
    "\n",
    "# 3. 训练LDA模型\n",
    "topic_range = list(range(2, 5))\n",
    "ldamodels = {k: LdaModel(corpus, num_topics=k, id2word=dictionary, passes=15) for k in topic_range}\n",
    "\n",
    "# 4. 计算Coherence\n",
    "coherence_values = {}\n",
    "for k, model in ldamodels.items():\n",
    "    coherence_model = CoherenceModel(model=model, texts=texts, dictionary=dictionary, coherence='c_v')\n",
    "    coherence_values[k] = coherence_model.get_coherence()\n",
    "\n",
    "# 5. 计算Diversity\n",
    "def compute_diversity(model):\n",
    "    num_topics = model.num_topics\n",
    "    topics = [model.show_topic(i) for i in range(num_topics)]\n",
    "    word_sets = [set([word for word, _ in topic]) for topic in topics]\n",
    "    \n",
    "    total_pairs = num_topics * (num_topics - 1) / 2\n",
    "    overlapping_word_count = sum(len(word_sets[i].intersection(word_sets[j])) for i in range(num_topics) for j in range(i+1, num_topics))\n",
    "    \n",
    "    # diversity is defined as 1 minus average overlap\n",
    "    diversity = 1 - overlapping_word_count / (10 * total_pairs)  # each topic has 10 words by default\n",
    "    return diversity\n",
    "\n",
    "diversity_values = {k: compute_diversity(model) for k, model in ldamodels.items()}\n",
    "\n",
    "coherence_values, diversity_values\n"
   ]
  },
  {
   "cell_type": "code",
   "execution_count": null,
   "metadata": {},
   "outputs": [],
   "source": [
    "\n"
   ]
  },
  {
   "cell_type": "code",
   "execution_count": 4,
   "metadata": {},
   "outputs": [
    {
     "data": {
      "image/png": "[encoded data removed]",
      "text/plain": [
       "<Figure size 864x432 with 1 Axes>"
      ]
     },
     "metadata": {
      "needs_background": "light"
     },
     "output_type": "display_data"
    }
   ],
   "source": [
    "import matplotlib.pyplot as plt\n",
    "\n",
    "# 绘制Coherence和Diversity值的图表\n",
    "plt.figure(figsize=(12, 6))\n",
    "\n",
    "# Coherence折线图\n",
    "plt.plot(list(coherence_values.keys()), list(coherence_values.values()), '-o', label=\"Coherence\", color='blue')\n",
    "\n",
    "# Diversity折线图\n",
    "plt.plot(list(diversity_values.keys()), list(diversity_values.values()), '-o', label=\"Diversity\", color='green')\n",
    "\n",
    "plt.xlabel(\"Number of Topics\")\n",
    "plt.ylabel(\"Score\")\n",
    "plt.title(\"Coherence and Diversity Scores for Different Number of Topics\")\n",
    "plt.xticks(topic_range)\n",
    "plt.legend()\n",
    "plt.grid(True, which='both', linestyle='--', linewidth=0.5)\n",
    "plt.show()\n"
   ]
  },
  {
   "cell_type": "code",
   "execution_count": null,
   "metadata": {},
   "outputs": [],
   "source": []
  },
  {
   "cell_type": "code",
   "execution_count": 55,
   "metadata": {},
   "outputs": [
    {
     "data": {
      "text/plain": [
       "(0.42032030577929663, 0.4)"
      ]
     },
     "execution_count": 55,
     "metadata": {},
     "output_type": "execute_result"
    }
   ],
   "source": [
    "from gensim import corpora\n",
    "from gensim.models import LdaModel, CoherenceModel\n",
    "\n",
    "\n",
    "# 训练LDA模型\n",
    "num_topics = 10\n",
    "lda_model = LdaModel(corpus=corpus, id2word=dictionary, num_topics=num_topics, random_state=42)\n",
    "\n",
    "# 获取模型的主题词汇\n",
    "topic_words_list = [lda_model.show_topic(topicid, topn=10) for topicid in range(lda_model.num_topics)]\n",
    "topic_words_list = [[word for word, _ in topic] for topic in topic_words_list]\n",
    "\n",
    "# 使用 Gensim 的 CoherenceModel 计算 coherence\n",
    "coherence_model_lda = CoherenceModel(model=lda_model, texts=texts, dictionary=dictionary, coherence='c_v')\n",
    "coherence = coherence_model_lda.get_coherence()\n",
    "\n",
    "# 计算 diversity\n",
    "def compute_diversity(topics):\n",
    "    num_topics = len(topics)\n",
    "    topic_sets = [set(topic) for topic in topics]\n",
    "    total_pairs = num_topics * (num_topics - 1) / 2\n",
    "    overlapping_word_count = sum(len(topic_sets[i].intersection(topic_sets[j])) for i in range(num_topics) for j in range(i+1, num_topics))\n",
    "    # diversity is defined as 1 minus average overlap\n",
    "    diversity = 1 - overlapping_word_count / (10 * total_pairs)  # assuming each topic has 10 words\n",
    "    return diversity\n",
    "\n",
    "diversity = compute_diversity(topic_words_list)\n",
    "\n",
    "coherence, diversity"
   ]
  },
  {
   "cell_type": "code",
   "execution_count": null,
   "metadata": {},
   "outputs": [],
   "source": []
  },
  {
   "cell_type": "markdown",
   "metadata": {},
   "source": [
    "## Topic2Vec模型"
   ]
  },
  {
   "cell_type": "markdown",
   "metadata": {},
   "source": [
    "#### 原理：用 Doc2vec 技术，把文档和词都映射到同一个语义向量空间。对文档向量进行聚类，分成不同的簇，每个簇就代表一个主题，同一个簇的文档向量求 average，得到的向量作为该主题的 Topic 表示，再用离该 topic vector 最近的 个词作为该 Topic 的表示。\n",
    "\n",
    "1.使用 Doc2Vec 创建文档和字的联合向量空间（也称为embedding 嵌入空间）\n",
    "\n",
    "2.对文档向量使用 UMAP 进行降维\n",
    "\n",
    "3.使用 HDBSCAN 进行聚类\n",
    "\n",
    "4.聚类得到的每个簇为一个主题，对同一个簇的所有文档向量求平均，得到该主题的向量\n",
    "\n",
    "5.每个主题离该主题向量最近的词向量对应的词来作为主题表示\n",
    "\n",
    "\n",
    "#### 优点\n",
    "-通过 HDBSCAN 自动发现主题数\n",
    "\n",
    "-不需要停用词表\n",
    "\n",
    "-不需要 stemming/lemmatization，因为这里是用 embedding 来表示一个文档，而不是用 bags-of-words\n",
    "\n",
    "-相比于 bags-of-words，用 embedding 无疑对文本的表征能力更强\n",
    "\n",
    "-把词、文档、主题都用同一个 embedding 空间表示，能实现一些实用的功能。如搜索一个词的相似词、一个文档的相似文档、输入主题搜索最相关的文档、输入词搜于文档等，由于有向量，这些搜索都能相当丝滑\n",
    "#### 缺点\n",
    "一个很有意思的点是。聚类选择的是 HDBSCAN 这种 density-based 的聚类方法，但是在求主题向量时，是从 centroid-based 的角度，即是通过同一簇下的向量求平均得到主题向量，这会导致得到的主题向量是不准确的，从而造成主题表示是不准确的。\n"
   ]
  },
  {
   "cell_type": "code",
   "execution_count": 10,
   "metadata": {},
   "outputs": [
    {
     "name": "stderr",
     "output_type": "stream",
     "text": [
      "2023-08-10 23:06:09,206 - top2vec - INFO - Pre-processing documents for training\n",
      "2023-08-10 23:06:09,227 - top2vec - INFO - Creating joint document/word embedding\n",
      "2023-08-10 23:06:15,833 - top2vec - INFO - Creating lower dimension embedding of documents\n",
      "2023-08-10 23:06:28,151 - top2vec - INFO - Finding dense areas of documents\n",
      "2023-08-10 23:06:28,468 - top2vec - INFO - Finding topics\n"
     ]
    },
    {
     "name": "stdout",
     "output_type": "stream",
     "text": [
      "主题数：7\n",
      "前2主题的主题词：[['真的' '做' '把握' '一位' '令人' '充满' '关注' '内心' '强' '前' '扎实' '美女' '合作' '搜狐网'\n",
      "  '个性' '网友' '低调' '女人' '风格' '演出' '成熟' '感觉' '人民网' '成功' '荧屏' '男人' '里' '明星'\n",
      "  '外' '突破' '那种' '道' '中' '艺人' '女孩' '梦想' '一种' '经历' '电视' '专业' '外表' '表现' '形象'\n",
      "  '演' '传统' '阳光' '凤凰网' '带来' '称' '深刻']\n",
      " ['多部' '娱乐' '敬业' '精湛' '拥有' '新浪' '活泼' '扮演' '眼神' '新浪网' '演员' '演绎' '功底' '出演'\n",
      "  '喜剧' '饰演' '清新' '笑容' '甜美' '塑造' '性感' '高' '角色' '身材' '剧中' '话剧' '导演' '女性'\n",
      "  '网易娱乐' '努力' '凤凰网' '艺人' '淋漓尽致' '众多' '无论是' '突破' '中' '出色' '经典' '爱' '拍'\n",
      "  '功夫' '评' '演技' '造型' '台湾' '荧屏' '天赋' '评价' '形象']]\n",
      "前2主题的主题词分布：[[0.99465954 0.9934133  0.98727214 0.9871391  0.98667246 0.98577\n",
      "  0.9841653  0.98404396 0.9828611  0.9828324  0.98043996 0.98015535\n",
      "  0.9795731  0.97911155 0.97804546 0.9775733  0.97714055 0.9770751\n",
      "  0.9750125  0.9749476  0.96922064 0.9686963  0.968486   0.9668024\n",
      "  0.9652476  0.96513236 0.96493703 0.962173   0.9613473  0.9612657\n",
      "  0.9605085  0.95959413 0.9587963  0.9585065  0.9571024  0.95673335\n",
      "  0.95660686 0.956074   0.9556532  0.9551326  0.95350933 0.94985515\n",
      "  0.94858575 0.9479868  0.94635713 0.9457996  0.9443951  0.94385743\n",
      "  0.9428208  0.94274473]\n",
      " [0.9833437  0.97620934 0.9627154  0.9615167  0.9564906  0.95458215\n",
      "  0.9541894  0.9523287  0.95200694 0.9517023  0.9515974  0.95063144\n",
      "  0.94977576 0.9423014  0.94114435 0.93953586 0.9385935  0.9382574\n",
      "  0.9321184  0.92769146 0.9256177  0.9242312  0.9185185  0.9152385\n",
      "  0.9085003  0.9077952  0.90733963 0.90444434 0.8898132  0.88271636\n",
      "  0.88042957 0.87832767 0.8782461  0.87693715 0.8757278  0.87426734\n",
      "  0.87135    0.8710465  0.86950207 0.86715734 0.86697054 0.866003\n",
      "  0.8597239  0.8557804  0.85553753 0.85326135 0.85311264 0.8519914\n",
      "  0.84916854 0.84549373]]\n"
     ]
    }
   ],
   "source": [
    "from top2vec import Top2Vec\n",
    "import pandas as pd\n",
    "\n",
    "df = pd.read_csv('明星信息1.csv', encoding='utf-8')\n",
    "# documents = [[word for word in text.split(' ') ] for text in df['judge_cut']]\n",
    "documents = [text for text in df['judge_cut']]\n",
    "\n",
    "def cut(text):\n",
    "    return text.split(\" \")\n",
    "\n",
    "model = Top2Vec(documents=documents,\n",
    "                embedding_model='doc2vec',\n",
    "                speed=\"learn\",\n",
    "                workers=8,\n",
    "                tokenizer=cut)\n",
    "\n",
    "# 得到主题数\n",
    "print(f\"主题数：{model.get_num_topics()}\")\n",
    "\n",
    "# 文档数量最多的 N 个主题的主题词，主题词得分，主题下的文档数\n",
    "# topic_words, word_scores, topic_nums = model.get_topics(7)\n",
    "# print(f\"前2主题的主题词：{topic_words}\")\n",
    "# print(f\"前2主题的主题词分布：{word_scores}\")"
   ]
  },
  {
   "cell_type": "code",
   "execution_count": null,
   "metadata": {},
   "outputs": [],
   "source": [
    "# from top2vec import Top2Vec\n",
    "\n",
    "# # 加载模型\n",
    "# model = Top2Vec.load(\"my_top2vec\")\n"
   ]
  },
  {
   "cell_type": "markdown",
   "metadata": {},
   "source": []
  },
  {
   "cell_type": "code",
   "execution_count": 11,
   "metadata": {},
   "outputs": [
    {
     "name": "stdout",
     "output_type": "stream",
     "text": [
      "前2主题的主题词：[['真的' '做' '把握' '一位' '令人' '充满' '关注' '内心' '强' '前' '扎实' '美女' '合作' '搜狐网'\n",
      "  '个性' '网友' '低调' '女人' '风格' '演出' '成熟' '感觉' '人民网' '成功' '荧屏' '男人' '里' '明星'\n",
      "  '外' '突破' '那种' '道' '中' '艺人' '女孩' '梦想' '一种' '经历' '电视' '专业' '外表' '表现' '形象'\n",
      "  '演' '传统' '阳光' '凤凰网' '带来' '称' '深刻']\n",
      " ['多部' '娱乐' '敬业' '精湛' '拥有' '新浪' '活泼' '扮演' '眼神' '新浪网' '演员' '演绎' '功底' '出演'\n",
      "  '喜剧' '饰演' '清新' '笑容' '甜美' '塑造' '性感' '高' '角色' '身材' '剧中' '话剧' '导演' '女性'\n",
      "  '网易娱乐' '努力' '凤凰网' '艺人' '淋漓尽致' '众多' '无论是' '突破' '中' '出色' '经典' '爱' '拍'\n",
      "  '功夫' '评' '演技' '造型' '台湾' '荧屏' '天赋' '评价' '形象']\n",
      " ['出演' '搜狐' '多部' '娱乐' '电视剧' '写真' '演技' '显得' '喜剧' '拥有' '角色' '饰演' '评' '网易娱乐'\n",
      "  '剧中' '塑造' '话剧' '新浪' '新浪网' '敬业' '清纯' '精湛' '笑容' '淋漓尽致' '眼神' '活泼' '高' '扮演'\n",
      "  '到位' '经典' '女性' '功底' '功夫' '演员' '清新' '演绎' '影坛' '甜美' '年代' '诠释' '导演' '无论是'\n",
      "  '性感' '细腻' '香港' '身材' '人物' '天赋' '感' '外形']\n",
      " ['少年' '唱' '杂志' '学习' '多年' '创作' '代表' '眼睛' '年' '自然' '追求' '成' '发展' '生活' '文艺'\n",
      "  '青年' '青春' '剧' '令' '岁' '爱情' '喜爱' '贺敬之' '一名' '时代' '历史' '作品' '世界' '优秀'\n",
      "  '新闻网' '更是' '美' '成长' '面对' '工作' '朋友' '中国' '媒体' '能力' '月' '特别' '选择' '参加'\n",
      "  '留下' '喜欢' '说' '故事' '新' '歌曲' '情感']\n",
      " ['作品' '优雅' '喜欢' '喜爱' '世界' '更是' '艺术' '富有' '美' '气质' '时代' '令' '面对' '展现'\n",
      "  '自然' '剧' '生活' '成长' '一名' '腾讯网' '时尚' '追求' '身上' '电影' '善良' '独特' '多年' '情感'\n",
      "  '成' '媒体' '发展' '人物' '眼睛' '优秀' '能力' '模特' '少年' '历史' '心' '朋友' '细腻' '唱' '性格'\n",
      "  '杂志' '外形' '态度' '爱情' '选择' '青春' '人生']\n",
      " ['清纯' '演技' '年代' '搜狐' '细腻' '电视剧' '写真' '显得' '影坛' '香港' '人物' '善良' '态度' '经典'\n",
      "  '外形' '剧中' '塑造' '腾讯网' '电影' '角色' '感' '饰演' '展现' '台湾' '网易' '喜剧' '戏' '女性'\n",
      "  '拥有' '演戏' '话剧' '优雅' '评价' '功夫' '高' '天赋' '气质' '诠释' '性格' '肯定' '身上' '出色'\n",
      "  '新浪' '新浪网' '表演' '敬业' '影视' '艺术' '事业' '导演']\n",
      " ['气质' '剧' '成' '更是' '代表' '少年' '学习' '自然' '文艺' '贺敬之' '生活' '追求' '多年' '发展'\n",
      "  '喜爱' '杂志' '作品' '世界' '眼睛' '唱' '优雅' '创作' '令' '青春' '年' '青年' '展现' '时代' '电影'\n",
      "  '美' '喜欢' '善良' '面对' '一名' '成长' '人物' '艺术' '爱情' '富有' '优秀' '细腻' '历史' '身上'\n",
      "  '时尚' '搜狐' '朋友' '腾讯网' '新闻网' '岁' '模特']]\n",
      "前2主题的主题词分布：[[ 9.94659543e-01  9.93413329e-01  9.87272143e-01  9.87139106e-01\n",
      "   9.86672461e-01  9.85769987e-01  9.84165311e-01  9.84043956e-01\n",
      "   9.82861102e-01  9.82832372e-01  9.80439961e-01  9.80155349e-01\n",
      "   9.79573071e-01  9.79111552e-01  9.78045464e-01  9.77573276e-01\n",
      "   9.77140546e-01  9.77075100e-01  9.75012481e-01  9.74947572e-01\n",
      "   9.69220638e-01  9.68696296e-01  9.68486011e-01  9.66802418e-01\n",
      "   9.65247571e-01  9.65132356e-01  9.64937031e-01  9.62172985e-01\n",
      "   9.61347282e-01  9.61265683e-01  9.60508525e-01  9.59594131e-01\n",
      "   9.58796322e-01  9.58506525e-01  9.57102418e-01  9.56733346e-01\n",
      "   9.56606865e-01  9.56073999e-01  9.55653191e-01  9.55132604e-01\n",
      "   9.53509331e-01  9.49855149e-01  9.48585749e-01  9.47986782e-01\n",
      "   9.46357131e-01  9.45799589e-01  9.44395125e-01  9.43857431e-01\n",
      "   9.42820787e-01  9.42744732e-01]\n",
      " [ 9.83343720e-01  9.76209342e-01  9.62715387e-01  9.61516678e-01\n",
      "   9.56490576e-01  9.54582155e-01  9.54189420e-01  9.52328682e-01\n",
      "   9.52006936e-01  9.51702297e-01  9.51597393e-01  9.50631440e-01\n",
      "   9.49775755e-01  9.42301393e-01  9.41144347e-01  9.39535856e-01\n",
      "   9.38593507e-01  9.38257396e-01  9.32118416e-01  9.27691460e-01\n",
      "   9.25617695e-01  9.24231172e-01  9.18518484e-01  9.15238500e-01\n",
      "   9.08500314e-01  9.07795191e-01  9.07339633e-01  9.04444337e-01\n",
      "   8.89813185e-01  8.82716358e-01  8.80429566e-01  8.78327668e-01\n",
      "   8.78246129e-01  8.76937151e-01  8.75727773e-01  8.74267340e-01\n",
      "   8.71349990e-01  8.71046484e-01  8.69502068e-01  8.67157340e-01\n",
      "   8.66970539e-01  8.66002977e-01  8.59723926e-01  8.55780423e-01\n",
      "   8.55537534e-01  8.53261352e-01  8.53112638e-01  8.51991415e-01\n",
      "   8.49168539e-01  8.45493734e-01]\n",
      " [ 4.52397168e-01  3.73362601e-01  3.59103173e-01  3.48619401e-01\n",
      "   3.35118920e-01  3.18676353e-01  3.06296200e-01  3.04117411e-01\n",
      "   2.97123969e-01  2.80817896e-01  2.79316723e-01  2.40761086e-01\n",
      "   2.14013547e-01  2.05491915e-01  2.04612166e-01  1.97081223e-01\n",
      "   1.89317957e-01  1.72206864e-01  1.53652981e-01  1.31581947e-01\n",
      "   1.18586056e-01  1.12989217e-01  9.76135582e-02  9.07832384e-02\n",
      "   8.04197416e-02  7.24118948e-02  6.85225204e-02  5.19303232e-02\n",
      "   4.77978475e-02  3.90268750e-02  3.31550166e-02  2.43834238e-02\n",
      "   2.42616758e-02  2.22006552e-02  1.84354633e-02  8.99244193e-03\n",
      "   5.31245423e-05 -1.02362325e-02 -1.37687325e-02 -1.59411747e-02\n",
      "  -2.61289105e-02 -2.65979934e-02 -3.10236737e-02 -4.48066182e-02\n",
      "  -4.62486707e-02 -5.02394885e-02 -5.24612218e-02 -5.30184805e-02\n",
      "  -6.61118180e-02 -6.79532215e-02]\n",
      " [ 9.92130876e-01  9.91788447e-01  9.91501391e-01  9.83812690e-01\n",
      "   9.83625889e-01  9.80636537e-01  9.79656875e-01  9.79382992e-01\n",
      "   9.78191018e-01  9.77653205e-01  9.75734890e-01  9.75601912e-01\n",
      "   9.75043476e-01  9.74992990e-01  9.68450248e-01  9.64966953e-01\n",
      "   9.64700341e-01  9.61807430e-01  9.61029649e-01  9.57931697e-01\n",
      "   9.57323194e-01  9.54236984e-01  9.52576041e-01  9.40811396e-01\n",
      "   9.40512598e-01  9.37773645e-01  9.35161412e-01  9.33910847e-01\n",
      "   9.33089733e-01  9.28887546e-01  9.28351879e-01  9.28256810e-01\n",
      "   9.28054571e-01  9.27989423e-01  9.23320889e-01  9.15532231e-01\n",
      "   9.07032490e-01  9.04071987e-01  8.97401333e-01  8.93955529e-01\n",
      "   8.85982037e-01  8.84447753e-01  8.84051323e-01  8.76240075e-01\n",
      "   8.64708006e-01  8.58179271e-01  8.57165635e-01  8.53430510e-01\n",
      "   8.53355110e-01  8.42102587e-01]\n",
      " [ 9.78557587e-01  9.77830410e-01  9.76887345e-01  9.76588309e-01\n",
      "   9.76583004e-01  9.73342896e-01  9.66774523e-01  9.61605608e-01\n",
      "   9.60242629e-01  9.58788931e-01  9.55397904e-01  9.54731822e-01\n",
      "   9.46743309e-01  9.46466565e-01  9.46341336e-01  9.45259690e-01\n",
      "   9.43147480e-01  9.42629755e-01  9.39093411e-01  9.38487828e-01\n",
      "   9.38059390e-01  9.37764585e-01  9.36041534e-01  9.32213962e-01\n",
      "   9.31700289e-01  9.26546395e-01  9.26135182e-01  9.25936282e-01\n",
      "   9.24192786e-01  9.20066118e-01  9.18675363e-01  9.18240070e-01\n",
      "   9.16427135e-01  9.15624499e-01  9.14771736e-01  9.14769709e-01\n",
      "   9.13987398e-01  9.13506806e-01  9.11587298e-01  9.07405972e-01\n",
      "   9.05775487e-01  8.99864852e-01  8.99316549e-01  8.98072720e-01\n",
      "   8.95058393e-01  8.94396305e-01  8.93766165e-01  8.86627436e-01\n",
      "   8.82619739e-01  8.81338596e-01]\n",
      " [ 9.70314324e-01  9.59809959e-01  9.59670126e-01  9.59285080e-01\n",
      "   9.58426535e-01  9.56968367e-01  9.56163883e-01  9.55141842e-01\n",
      "   9.43590581e-01  9.27809298e-01  9.27183330e-01  9.24558222e-01\n",
      "   9.22966123e-01  9.22045171e-01  9.12775040e-01  9.04443741e-01\n",
      "   9.03101563e-01  9.01460588e-01  9.00871158e-01  8.99871290e-01\n",
      "   8.97690117e-01  8.87348711e-01  8.84419799e-01  8.80513787e-01\n",
      "   8.80116820e-01  8.79624069e-01  8.77036512e-01  8.75560641e-01\n",
      "   8.71542275e-01  8.70776534e-01  8.70691597e-01  8.68206680e-01\n",
      "   8.66766334e-01  8.63230348e-01  8.61625671e-01  8.61566186e-01\n",
      "   8.61140788e-01  8.56491506e-01  8.56325328e-01  8.51740479e-01\n",
      "   8.51599514e-01  8.50063562e-01  8.48884344e-01  8.47273052e-01\n",
      "   8.43740284e-01  8.43612194e-01  8.42640102e-01  8.41905713e-01\n",
      "   8.41343641e-01  8.40872467e-01]\n",
      " [ 8.17611873e-01  8.05260241e-01  7.86722720e-01  7.82957315e-01\n",
      "   7.45477021e-01  7.29348540e-01  7.10272312e-01  6.99789286e-01\n",
      "   6.99138224e-01  6.97379470e-01  6.88568354e-01  6.69664443e-01\n",
      "   6.68724120e-01  6.68116868e-01  6.60843253e-01  6.59833193e-01\n",
      "   6.48836672e-01  6.46328866e-01  6.39686167e-01  6.38971686e-01\n",
      "   6.36512637e-01  6.32470369e-01  6.14377916e-01  6.06886566e-01\n",
      "   5.96953988e-01  5.91173053e-01  5.90917826e-01  5.86118817e-01\n",
      "   5.84199965e-01  5.60257137e-01  5.55029094e-01  5.39082229e-01\n",
      "   5.28398216e-01  5.24051070e-01  5.21500945e-01  5.13974905e-01\n",
      "   5.13311863e-01  5.12833238e-01  4.98124212e-01  4.90088075e-01\n",
      "   4.85138535e-01  4.85073060e-01  4.83177781e-01  4.82855827e-01\n",
      "   4.75741893e-01  4.63255465e-01  4.61367607e-01  4.60472465e-01\n",
      "   4.59087223e-01  4.44027245e-01]]\n"
     ]
    }
   ],
   "source": [
    "# 文档数量最多的 N 个主题的主题词，主题词得分，主题下的文档数\n",
    "topic_words, word_scores, topic_nums = model.get_topics(7)\n",
    "print(f\"前2主题的主题词：{topic_words}\")\n",
    "print(f\"前2主题的主题词分布：{word_scores}\")"
   ]
  },
  {
   "cell_type": "code",
   "execution_count": 30,
   "metadata": {},
   "outputs": [
    {
     "data": {
      "text/plain": [
       "(array([5, 3, 0, ..., 1, 0, 0]),\n",
       " array([0.93441  , 0.8190176, 0.8906607, ..., 0.8461004, 0.933901 ,\n",
       "        0.9376   ], dtype=float32),\n",
       " array([['清纯', '演技', '年代', ..., '艺术', '事业', '导演'],\n",
       "        ['少年', '唱', '杂志', ..., '新', '歌曲', '情感'],\n",
       "        ['真的', '做', '把握', ..., '带来', '称', '深刻'],\n",
       "        ...,\n",
       "        ['多部', '娱乐', '敬业', ..., '天赋', '评价', '形象'],\n",
       "        ['真的', '做', '把握', ..., '带来', '称', '深刻'],\n",
       "        ['真的', '做', '把握', ..., '带来', '称', '深刻']], dtype='<U4'),\n",
       " array([[0.9703143 , 0.95980996, 0.9596701 , ..., 0.8419057 , 0.84134364,\n",
       "         0.84087247],\n",
       "        [0.9921309 , 0.99178845, 0.9915014 , ..., 0.8534305 , 0.8533551 ,\n",
       "         0.8421026 ],\n",
       "        [0.99465954, 0.9934133 , 0.98727214, ..., 0.94385743, 0.9428208 ,\n",
       "         0.94274473],\n",
       "        ...,\n",
       "        [0.9833437 , 0.97620934, 0.9627154 , ..., 0.8519914 , 0.84916854,\n",
       "         0.84549373],\n",
       "        [0.99465954, 0.9934133 , 0.98727214, ..., 0.94385743, 0.9428208 ,\n",
       "         0.94274473],\n",
       "        [0.99465954, 0.9934133 , 0.98727214, ..., 0.94385743, 0.9428208 ,\n",
       "         0.94274473]], dtype=float32))"
      ]
     },
     "execution_count": 30,
     "metadata": {},
     "output_type": "execute_result"
    }
   ],
   "source": [
    "# 查每一条文档的主题归属\n",
    "model.get_documents_topics(doc_ids=list(range(len(documents))), num_topics=1)\n",
    "\n"
   ]
  },
  {
   "cell_type": "code",
   "execution_count": 33,
   "metadata": {},
   "outputs": [
    {
     "data": {
      "text/plain": [
       "{'topic_sizes': array([435, 200, 149, 123, 109,  89,  59], dtype=int64),\n",
       " 'topic_ids': array([0, 1, 2, 3, 4, 5, 6], dtype=int64)}"
      ]
     },
     "execution_count": 33,
     "metadata": {},
     "output_type": "execute_result"
    }
   ],
   "source": [
    "# 各话题数量\n",
    "topic_sizes, topic_nums = model.get_topic_sizes()\n",
    "\n",
    "{\"topic_sizes\":topic_sizes, \n",
    " \"topic_ids\":topic_nums}\n",
    "\n"
   ]
  },
  {
   "cell_type": "code",
   "execution_count": 34,
   "metadata": {},
   "outputs": [
    {
     "data": {
      "text/plain": [
       "0.3436548653890365"
      ]
     },
     "execution_count": 34,
     "metadata": {},
     "output_type": "execute_result"
    }
   ],
   "source": [
    "# 假设我们已经有了一个 Top2Vec 模型实例 \"model\"\n",
    "# 获取主题的词汇\n",
    "topic_words, _, _ = model.get_topics(model.get_num_topics())\n",
    "\n",
    "# Coherence 计算需要原始文档和词汇表，所以我们首先进行文档的预处理\n",
    "from gensim import corpora\n",
    "from gensim.models import CoherenceModel\n",
    "\n",
    "texts = [doc.split() for doc in documents]\n",
    "dictionary = corpora.Dictionary(texts)\n",
    "corpus = [dictionary.doc2bow(text) for text in texts]\n",
    "\n",
    "# 使用 Gensim 的 CoherenceModel 计算 coherence\n",
    "coherence_model = CoherenceModel(topics=topic_words, texts=texts, dictionary=dictionary, coherence='c_v')\n",
    "coherence = coherence_model.get_coherence()\n",
    "\n",
    "coherence\n"
   ]
  },
  {
   "cell_type": "code",
   "execution_count": 36,
   "metadata": {},
   "outputs": [
    {
     "data": {
      "text/plain": [
       "-0.09047619047619038"
      ]
     },
     "execution_count": 36,
     "metadata": {},
     "output_type": "execute_result"
    }
   ],
   "source": [
    "def compute_diversity(topics):\n",
    "    num_topics = len(topics)\n",
    "    topic_sets = [set(topic) for topic in topics]\n",
    "\n",
    "    total_pairs = num_topics * (num_topics - 1) / 2\n",
    "    overlapping_word_count = sum(len(topic_sets[i].intersection(topic_sets[j])) for i in range(num_topics) for j in range(i+1, num_topics))\n",
    "\n",
    "    # diversity is defined as 1 minus average overlap\n",
    "    diversity = 1 - overlapping_word_count / (10 * total_pairs)  # assuming each topic has 10 words\n",
    "    return diversity\n",
    "\n",
    "diversity = compute_diversity(topic_words)\n",
    "diversity"
   ]
  },
  {
   "cell_type": "code",
   "execution_count": 48,
   "metadata": {},
   "outputs": [],
   "source": [
    "model.save(\"my_top2vec\") "
   ]
  },
  {
   "cell_type": "markdown",
   "metadata": {},
   "source": [
    "## BertTopic 模型"
   ]
  },
  {
   "attachments": {
    "image-2.png": {
     "image/png": "[encoded data removed]"
    },
    "image-3.png": {
     "image/png": "[encoded data removed]"
    },
    "image-4.png": {
     "image/png": "[encoded data removed]"
    },
    "image-5.png": {
     "image/png": "[encoded data removed]"
    },
    "image.png": {
     "image/png": "[encoded data removed]"
    }
   },
   "cell_type": "markdown",
   "metadata": {},
   "source": [
    "#### 原理\n",
    "为了克服 Top2Vec 的缺点，BertTopic 并不是把文档和词都嵌入到同一个空间，而是单独对文档进行 embedding 编码，然后同样过降维和聚类，得到不同的主题。但在寻找主题表示时，是把同一个主题下的所有文档看成一个大文档，然后通过 c-TF-IDF 最高的 个词作为该主题表示。简单点说，BerTopic 寻找主题表示时用的是 bags-of-words。\n",
    "\n",
    "算法流程\n",
    "1.把文档映射到 embedding 空间\n",
    "\n",
    "2.这里可以用预训练模型，像 BERT、RoBERTa，或者经过 fine tuning 的预训练模型进行文档编码，相对于 Top2Vec 用的Doc2Vec，预训练模型无疑表征能力更强\n",
    "\n",
    "3.降维。同 Top2Vec，用的 UMAP\n",
    "\n",
    "4.聚类。同 Top2Vec，用的 HDBSCAN\n",
    "\n",
    "5.主题表示。如上面所提，把属于同一个 topic 的所有文档看成一个大文档。然后算 c-TF-IDF，公式如下，变量含义可以看论文\n",
    "\n",
    "\n",
    "\n",
    "五个步骤如下：\n",
    "\n",
    "![image.png](attachment:image.png)\n",
    "\n",
    "\n",
    "\n",
    "虽然这些步骤是默认步骤，但 BERTopic 有一些模块化。这个过程中的每个步骤都经过精心挑选，使它们在某种程度上彼此独立。\n",
    "\n",
    "BERTopic 是相当模块化的，可以在各种子模型中保持其主题生成的质量。换句话说，BERTopic 本质上允许您构建自己的主题模型：\n",
    "\n",
    "![image-2.png](attachment:image-2.png)\n",
    "\n",
    "  **代码示例**：   \n",
    "  ```python\n",
    "from umap import UMAP\n",
    "from hdbscan import HDBSCAN\n",
    "from sentence_transformers import SentenceTransformer\n",
    "from sklearn.feature_extraction.text import CountVectorizer\n",
    "\n",
    "from bertopic import BERTopic\n",
    "from bertopic.representation import KeyBERTInspired\n",
    "from bertopic.vectorizers import ClassTfidfTransformer\n",
    "\n",
    "\n",
    "# Step 1 - Extract embeddings\n",
    "embedding_model = SentenceTransformer(\"all-MiniLM-L6-v2\")\n",
    "\n",
    "# Step 2 - Reduce dimensionality\n",
    "umap_model = UMAP(n_neighbors=15, n_components=5, min_dist=0.0, metric='cosine')\n",
    "\n",
    "# Step 3 - Cluster reduced embeddings\n",
    "hdbscan_model = HDBSCAN(min_cluster_size=15, metric='euclidean', cluster_selection_method='eom', prediction_data=True)\n",
    "\n",
    "# Step 4 - Tokenize topics\n",
    "vectorizer_model = CountVectorizer(stop_words=\"english\")\n",
    "\n",
    "# Step 5 - Create topic representation\n",
    "ctfidf_model = ClassTfidfTransformer()\n",
    "\n",
    "# Step 6 - (Optional) Fine-tune topic representations with \n",
    "# a `bertopic.representation` model\n",
    "representation_model = KeyBERTInspired()\n",
    "\n",
    "# All steps together\n",
    "topic_model = BERTopic(\n",
    "  embedding_model=embedding_model,          # Step 1 - Extract embeddings\n",
    "  umap_model=umap_model,                    # Step 2 - Reduce dimensionality\n",
    "  hdbscan_model=hdbscan_model,              # Step 3 - Cluster reduced embeddings\n",
    "  vectorizer_model=vectorizer_model,        # Step 4 - Tokenize topics\n",
    "  ctfidf_model=ctfidf_model,                # Step 5 - Extract topic words\n",
    "  representation_model=representation_model # Step 6 - (Optional) Fine-tune topic represenations\n",
    ")\n",
    "\n",
    "```\n",
    "### 1. 嵌入文档\n",
    "\n",
    "我们首先将文档转换为数字表示。尽管有许多方法可以做到这一点，但BERTopic中的默认值是句子转换器。这些模型通常针对语义相似性进行了优化，这对我们的聚类任务有很大帮助。此外，它们非常适合创建文档或句子嵌入。\n",
    "在 BERTopic 中，您可以选择任何句子转换器模型，但有两个模型设置为默认值：\n",
    "\n",
    "\"all-MiniLM-L6-v2\"\n",
    "\"paraphrase-multilingual-MiniLM-L12-v2\"\n",
    "第一个是专门为语义相似性任务训练的英语语言模型，它工作得很好 适用于大多数用例。第二个模型与第一个模型非常相似，但一个主要区别是这些模型适用于 50+ 种语言。此模型比第一个模型大很多，只有在以下情况下才会选择该模型 您可以选择英语以外的任何语言。\n",
    "\n",
    "\n",
    "BERTopic 随着任何新型号的发布而增长。 开箱即用，BERTopic 支持多种嵌入技术:\n",
    "Sentence Transformers、\n",
    "🤗 Hugging Face Transformers、\n",
    "Flair、\n",
    "Spacy、\n",
    "Universal Sentence Encoder (USE)、\n",
    "Gensim、\n",
    "Scikit-Learn Embeddings、\n",
    "OpenAI、\n",
    "Cohere、\n",
    "Multimodal、\n",
    "Custom Backend、\n",
    "Custom Embeddings、\n",
    "TF-IDF\n",
    "\n",
    "### 2.降维\n",
    "在创建文档的数字表示之后，我们必须降低这些表示的维度。由于维度的诅咒，聚类模型通常难以处理高维数据。有一些很好的方法可以降低维数，例如PCA，但是在BERTopic中选择了默认的UMAP作为默认的UMAP。这是一种技术，可以在降低数据集的维数时保留数据集的某些局部和全局结构。\n",
    "\n",
    "支持的降维技术包括：\n",
    "UMAP、\n",
    "PCA、\n",
    "Truncated SVD、\n",
    "cuML UMAP、\n",
    "Skip dimensionality reduction\n",
    "\n",
    "\n",
    "### 3. 聚类文档\n",
    "降维后，我们可以开始对数据进行聚类。为此，我们利用基于密度的聚类技术HDBSCAN。它可以找到不同形状的簇，并具有在可能的情况下识别异常值的良好功能。因此，我们不会将文档强制放入它们可能不属于的集群中。这将改进生成的主题表示形式，因为要提取的噪声更少。\n",
    "\n",
    "支持的聚类技术包括：\n",
    "HDBSCAN、\n",
    "k-Means、\n",
    "Agglomerative Clustering、\n",
    "cuML HDBSCAN\n",
    "\n",
    "### 4. 词袋\n",
    "在我们开始创建主题表示之前，我们首先需要选择一种允许BERTopic算法模块化的技术。当我们使用 HDBSCAN 作为聚类模型时，我们可能会假设我们的集群具有不同程度的密度和不同的形状。这意味着基于质心的主题表示技术可能不是最佳拟合模型。换句话说，我们想要一种主题表示技术，它对集群的预期结构几乎没有假设。\n",
    "为此，我们首先将集群中的所有文档合并为一个文档。然后，该很长的文档表示群集。然后，我们可以计算每个单词在每个集群中出现的频率。这会产生一种称为词袋表示的东西，其中可以找到每个集群中每个单词的频率。因此，这种词袋表示形式是在集群级别而不是在文档级别。这种区别很重要，因为我们对主题级别（即集群级别）的单词感兴趣。通过使用词袋表示，不会对集群的结构做出任何假设。此外，词袋表示是 L1 规范化的，以考虑具有不同大小的集群。\n",
    "\n",
    "### 5. 主题表示\n",
    "从生成的词袋表示中，我们想知道是什么使一个集群与另一个集群不同。哪些词对于聚类 1 是典型的，而对于所有其他聚类来说不是那么多？为了解决这个问题，我们需要修改TF-IDF，使其考虑主题（即集群）而不是文档。\n",
    "\n",
    "当您像往常一样在一组文档上应用 TF-IDF 时，您所做的是比较 文档之间的单词。现在，如果我们改为将单个类别（例如，集群）中的所有文档视为单个文档，然后应用 TF-IDF，该怎么办？结果将是聚类中单词的重要性分数。集群中重要的词越多，它就越能代表该主题。换句话说，如果我们提取每个集群中最重要的单词，我们就会得到主题的描述！此模型称为基于类的 TF-IDF：\n",
    "\n",
    "![image-3.png](attachment:image-3.png)\n",
    "\n",
    "其他的表示方法：\n",
    "bm25_weighting、\n",
    "reduce_frequent_words\n",
    "\n",
    "基于类的 BM-25 权重：\n",
    "\n",
    "![image-4.png](attachment:image-4.png)\n",
    "\n",
    "在较小的数据集中，此变体对停用词来说更稳健。\n",
    "代码：\n",
    "```python\n",
    "from bertopic import BERTopic\n",
    "from bertopic.vectorizers import ClassTfidfTransformer\n",
    "\n",
    "ctfidf_model = ClassTfidfTransformer(bm25_weighting=True)\n",
    "topic_model = BERTopic(ctfidf_model=ctfidf_model )\n",
    "```\n",
    "\n",
    "基于reduce_frequent_words：\n",
    "\n",
    "在对频率矩阵进行归一化后，我们取频率项的平方根：\n",
    "![image-5.png](attachment:image-5.png)\n",
    "\n",
    "有些词经常出现在每个主题中，但通常不被视为列表中的停用词。为了进一步减少这些常用词，我们可以在应用加权方案后使用术语频率的平方根。\n",
    "\n",
    "代码：\n",
    "```python\n",
    "from bertopic import BERTopic\n",
    "from bertopic.vectorizers import ClassTfidfTransformer\n",
    "\n",
    "ctfidf_model = ClassTfidfTransformer(reduce_frequent_words=True)\n",
    "topic_model = BERTopic(ctfidf_model=ctfidf_model )\n",
    "\n",
    "```\n",
    "### 6. （可选）微调主题表示\n",
    "生成 c-TF-IDF 表示后，我们有一组描述文档集合的单词。c-TF-IDF 是一种可以快速生成准确主题表示的方法。然而，随着NLP世界的快速发展，每周都会发布令人兴奋的新方法。为了跟上正在发生的事情，有可能使用GPT，T5，KeyBERT，Spacy和其他技术进一步微调这些c-TF-IDF主题。\n",
    "\n",
    "更具体地说，我们可以将 c-TF-IDF 生成的主题视为候选主题。它们每个都包含一组关键字和 我们可以用来进一步微调主题表示的代表性文档。拥有一套代表性文件 对于每个主题都是巨大的优势，因为它允许对少量的文档进行微调。这减少了计算量，因为它们只需要对每个主题的那一小部分代表性文档进行操作。结果， 像 GPT 和 T5 这样的大语言模型在生产环境中变得可行。\n",
    "\n",
    "以下模型在可以中实现：bertopic.representation、\n",
    "MaximalMarginalRelevance、\n",
    "PartOfSpeech、\n",
    "KeyBERTInspired、\n",
    "ZeroShotClassification、\n",
    "TextGeneration、\n",
    "Cohere、\n",
    "OpenAI、\n",
    "LangChain\n",
    "\n",
    "\n",
    "\n",
    "#### 优点\n",
    "简单易用的超参调节：暴露了 UMAP 和 HDBSCAN 的超参，具体可以看调节超参的建议\n",
    "\n",
    "模块解耦，更加灵活：语义表示模型、降维模型、聚类模型、主题表示模型、c-TF-IDF公式，这些子模块都是可以替换的，如聚类模型可以用 k-Means 或层次聚类，主题表示模型那里可以用 n_gram 词袋模型…\n",
    "\n",
    "丰富的可视化API：主题的相似度、主题词的分布、主题的层次化结构…\n",
    "\n",
    "更丰富的场景：提供主题模型的变体，如时序主题主题，半监督/有监督的主题模型，导向性主题模型等…\n",
    "\n",
    "用上了预训练模型，表征能力强\n",
    "\n",
    "把文档 embedding 编码跟主题表示分开来，更加灵活。embedding 这步是不需要去除停用词表这些操作的，而主题表示这一步由于用的是 bags-of-words，还是需要处理 stopwords/stemming/lemmatization的，而且可以试验 n-gram 等方式，由于跟文档编码分开了，所以不需要重新计算 embedding\n",
    "#### 劣势\n",
    "每个文档只分到一个topic，但实际情况下，部分文档涉及多个主题\n",
    "\n",
    "主题表示那步用的 bags-of-words，可能会导致很多冗余词，想想假如某个主题表示是【好，棒，优秀，真好…】这些词，这就是冗余。这个问题其实 Top2Vec 也会出现，但论文里也提到了一种 maximal marginal relevance 的算法能减少主题表示的冗余度"
   ]
  },
  {
   "cell_type": "code",
   "execution_count": null,
   "metadata": {},
   "outputs": [],
   "source": []
  },
  {
   "cell_type": "code",
   "execution_count": null,
   "metadata": {},
   "outputs": [],
   "source": [
    "!pip3 install -i https://pypi.tuna.tsinghua.edu.cn/simple bertopic"
   ]
  },
  {
   "cell_type": "code",
   "execution_count": null,
   "metadata": {},
   "outputs": [],
   "source": [
    "# Choose an embedding backend\n",
    "!pip3 install -i https://pypi.tuna.tsinghua.edu.cn/simple bertopic[flair, gensim, spacy, use]\n",
    "\n",
    "# Topic modeling with images\n",
    "!pip3 install -i https://pypi.tuna.tsinghua.edu.cn/simple bertopic[vision]\n"
   ]
  },
  {
   "cell_type": "code",
   "execution_count": 38,
   "metadata": {},
   "outputs": [],
   "source": [
    "import pandas as pd\n",
    "import jieba\n",
    "from bertopic import BERTopic\n",
    "from sentence_transformers import SentenceTransformer\n",
    "from sklearn.feature_extraction.text import CountVectorizer\n",
    "\n",
    "\n",
    "df = pd.read_csv('明星信息1.csv', encoding='utf-8')\n",
    "\n",
    "\n",
    "# df.dropna(subset=['judge'], inplace=True)\n",
    "\n",
    "\n",
    "\n",
    "documents = df[\"judge_cut\"]\n",
    "\n",
    "\n",
    "# stopwords = [line.strip() for line in open('停用词表.txt',encoding='UTF-8').readlines()]\n",
    "\n",
    "\n",
    "# def jieba_cut_remove_stopwords(text):\n",
    "#     \"\"\"结巴分词，并去除停用词\n",
    "#     \"\"\"\n",
    "#     words = jieba.lcut(text)\n",
    "#     results = []\n",
    "#     for word in words:\n",
    "#         # 去除停用词和空元素\n",
    "#         if word not in stopwords and word.strip():\n",
    "#             results.append(word)\n",
    "#     return results\n",
    "\n",
    "def cut(text):\n",
    "    return text.split(\" \")\n",
    "\n",
    "vectorizer = CountVectorizer(tokenizer=cut, ngram_range=(1, 1))\n",
    "\n"
   ]
  },
  {
   "cell_type": "code",
   "execution_count": 39,
   "metadata": {},
   "outputs": [],
   "source": [
    "# embedding_model = SentenceTransformer(\"sentence-transformers/paraphrase-multilingual-MiniLM-L12-v2\")\n",
    "\n",
    "# import os\n",
    "# os.environ['CURL_CA_BUNDLE'] = ''\n",
    "###https://huggingface.co/下载到本地- paraphrase-multilingual-MiniLM-L12-v2\n",
    "embedding_model = SentenceTransformer(\"paraphrase-multilingual-MiniLM-L12-v2\")\n",
    "\n",
    "\n",
    "topic_model = BERTopic(\n",
    "                        embedding_model=embedding_model, \n",
    "                        language=\"Chinese-simple\",\n",
    "                      \n",
    "                        vectorizer_model=vectorizer,\n",
    "                        nr_topics=\"auto\"#自动减少主题数量\n",
    "                        )\n",
    "topics, probs = topic_model.fit_transform(documents)"
   ]
  },
  {
   "cell_type": "code",
   "execution_count": null,
   "metadata": {},
   "outputs": [],
   "source": [
    "# from bertopic import BERTopic\n",
    "\n",
    "# # 加载模型\n",
    "# topic_model = BERTopic.load(\"my_bert\")\n"
   ]
  },
  {
   "cell_type": "code",
   "execution_count": null,
   "metadata": {},
   "outputs": [],
   "source": []
  },
  {
   "cell_type": "code",
   "execution_count": 40,
   "metadata": {},
   "outputs": [
    {
     "data": {
      "text/html": [
       "<div>\n",
       "<style scoped>\n",
       "    .dataframe tbody tr th:only-of-type {\n",
       "        vertical-align: middle;\n",
       "    }\n",
       "\n",
       "    .dataframe tbody tr th {\n",
       "        vertical-align: top;\n",
       "    }\n",
       "\n",
       "    .dataframe thead th {\n",
       "        text-align: right;\n",
       "    }\n",
       "</style>\n",
       "<table border=\"1\" class=\"dataframe\">\n",
       "  <thead>\n",
       "    <tr style=\"text-align: right;\">\n",
       "      <th></th>\n",
       "      <th>Topic</th>\n",
       "      <th>Count</th>\n",
       "      <th>Name</th>\n",
       "      <th>Representation</th>\n",
       "      <th>Representative_Docs</th>\n",
       "    </tr>\n",
       "  </thead>\n",
       "  <tbody>\n",
       "    <tr>\n",
       "      <th>0</th>\n",
       "      <td>-1</td>\n",
       "      <td>577</td>\n",
       "      <td>-1_评_中_角色_观众</td>\n",
       "      <td>[评, 中, 角色, 观众, 演员, 表演, 中国, 娱乐, 形象, 电影]</td>\n",
       "      <td>[佟丽娅 微博照 佟丽娅 位 美丽 锡伯族 姑娘 艺术 浓厚兴趣 执着 追求 勤奋 刻苦 言...</td>\n",
       "    </tr>\n",
       "    <tr>\n",
       "      <th>1</th>\n",
       "      <td>0</td>\n",
       "      <td>107</td>\n",
       "      <td>0_中_评_角色_形象</td>\n",
       "      <td>[中, 评, 角色, 形象, 观众, 里, 娱乐, 电视剧, 郭昶, 性格]</td>\n",
       "      <td>[陈数 才艺 气质 出众 镜头 前 眉梢 眼角 风情 饰演 角色 回味无穷 无论是 暗算 中...</td>\n",
       "    </tr>\n",
       "    <tr>\n",
       "      <th>2</th>\n",
       "      <td>1</td>\n",
       "      <td>73</td>\n",
       "      <td>1_评_性感_气质_中</td>\n",
       "      <td>[评, 性感, 气质, 中, 身材, 赵薇, 时尚, 娱乐, 甜美, 可爱]</td>\n",
       "      <td>[陈语 安 外型 酷似 日本 女星 北川 景子 独特 清新 气质 姣好 身材 男生 喜欢 宅...</td>\n",
       "    </tr>\n",
       "    <tr>\n",
       "      <th>3</th>\n",
       "      <td>2</td>\n",
       "      <td>68</td>\n",
       "      <td>2_电影_香港_导演_中</td>\n",
       "      <td>[电影, 香港, 导演, 中, 作品, 评, 文化, 影坛, 中国, 艺术]</td>\n",
       "      <td>[徐克 徐克 香港 武侠 电影 代表 人物 香港 华语 武侠 电影 导演 群中 举足轻重 地...</td>\n",
       "    </tr>\n",
       "    <tr>\n",
       "      <th>4</th>\n",
       "      <td>3</td>\n",
       "      <td>64</td>\n",
       "      <td>3_音乐_歌曲_演唱_评</td>\n",
       "      <td>[音乐, 歌曲, 演唱, 评, 歌手, 声音, 嗓音, 评价, 歌声, 创作]</td>\n",
       "      <td>[华人 音乐 力量 听 侯旭 中国 东方 侯旭 新声 代 花样 美男 内地 乐坛 实力 宠儿...</td>\n",
       "    </tr>\n",
       "    <tr>\n",
       "      <th>5</th>\n",
       "      <td>4</td>\n",
       "      <td>47</td>\n",
       "      <td>4_评_中_导演_电影</td>\n",
       "      <td>[评, 中, 导演, 电影, 胡歌, 王晓晨, 演技, 角色, 演员, 元奎]</td>\n",
       "      <td>[著名 影视 演员 李明 实力 导演 李海锋 执导 中视 传媒 股份 有限公司 投资 范明 ...</td>\n",
       "    </tr>\n",
       "    <tr>\n",
       "      <th>6</th>\n",
       "      <td>5</td>\n",
       "      <td>44</td>\n",
       "      <td>5_表演_评_演员_演技</td>\n",
       "      <td>[表演, 评, 演员, 演技, 中, 角色, 饰演, 张默, 张一山, 观众]</td>\n",
       "      <td>[张世 演戏 享受 有种 说不出来 感觉 吸引 观众 目光 演出 太 自然 一点 痕迹 天平...</td>\n",
       "    </tr>\n",
       "    <tr>\n",
       "      <th>7</th>\n",
       "      <td>6</td>\n",
       "      <td>36</td>\n",
       "      <td>6_主持_主持人_新闻_节目</td>\n",
       "      <td>[主持, 主持人, 新闻, 节目, 风格, 央视, 播音, 观众, 中, 播报]</td>\n",
       "      <td>[写真 图册 张纯烨 主持 风格 舒服 亲切 风趣 幽默 活力 性感 集合 台下 自然 清新...</td>\n",
       "    </tr>\n",
       "    <tr>\n",
       "      <th>8</th>\n",
       "      <td>7</td>\n",
       "      <td>34</td>\n",
       "      <td>7_评_中国_模特_气质</td>\n",
       "      <td>[评, 中国, 模特, 气质, 娱乐, 身材, 车模, 宁辛, 时尚, 超模]</td>\n",
       "      <td>[张钧 甯 素有 台湾 第一 气质 美女 之称 高学历 冠以 演艺圈 女学霸 标签 一向 知...</td>\n",
       "    </tr>\n",
       "    <tr>\n",
       "      <th>9</th>\n",
       "      <td>8</td>\n",
       "      <td>31</td>\n",
       "      <td>8_齐达内_技术_球员_能力</td>\n",
       "      <td>[齐达内, 技术, 球员, 能力, 评, 比赛, 体育, 传球, 扎卡, 足球]</td>\n",
       "      <td>[周琦 是从 后卫 几年 队里 身体 单薄 持续 对抗 能力差 未来 路 很长 宫鲁鸣 评 ...</td>\n",
       "    </tr>\n",
       "    <tr>\n",
       "      <th>10</th>\n",
       "      <td>9</td>\n",
       "      <td>26</td>\n",
       "      <td>9_节目_主持人_杨帆_主持</td>\n",
       "      <td>[节目, 主持人, 杨帆, 主持, 央视, 月, 年, 孟鑫, 报道, 秒]</td>\n",
       "      <td>[颜泽玉 中国 家庭 生活 电视节目 主持 第一 10 年前 偶然 打开 中央电视台 一套 ...</td>\n",
       "    </tr>\n",
       "    <tr>\n",
       "      <th>11</th>\n",
       "      <td>10</td>\n",
       "      <td>20</td>\n",
       "      <td>10_刘烨_角色_评_人物</td>\n",
       "      <td>[刘烨, 角色, 评, 人物, 演员, 导演, 中, 表演, 娱乐, 演技]</td>\n",
       "      <td>[人物 毕业 2016 07 21 出演 多部 影视剧 角色 导演 认可 观众 喜爱 腾讯 ...</td>\n",
       "    </tr>\n",
       "    <tr>\n",
       "      <th>12</th>\n",
       "      <td>11</td>\n",
       "      <td>15</td>\n",
       "      <td>11_舞蹈_瑜伽_易_烊</td>\n",
       "      <td>[舞蹈, 瑜伽, 易, 烊, 中, 武术, 千玺, 评, 娱乐, 王智]</td>\n",
       "      <td>[母其弥雅 靓丽 外形 精彩 瑜伽 动作 越来越 关注 喜爱 外形 亮丽 气质 独特 接触 ...</td>\n",
       "    </tr>\n",
       "    <tr>\n",
       "      <th>13</th>\n",
       "      <td>12</td>\n",
       "      <td>12</td>\n",
       "      <td>12_马思纯_周迅_魏千翔_表演</td>\n",
       "      <td>[马思纯, 周迅, 魏千翔, 表演, 中, 观众, 电视剧, 角色, 娄烨, 电影]</td>\n",
       "      <td>[娄烨 影片 弥幻 感觉 无限 遐想 中 夹杂着 现实 烙印 感觉 思想 另类 肩 扛 拍 ...</td>\n",
       "    </tr>\n",
       "    <tr>\n",
       "      <th>14</th>\n",
       "      <td>13</td>\n",
       "      <td>10</td>\n",
       "      <td>13_中国_赵本山_企业_商业</td>\n",
       "      <td>[中国, 赵本山, 企业, 商业, 评价, 刘强, 小品, 马云, 东, 资本]</td>\n",
       "      <td>[王健林 身上 军人 特质 很强 做事 干脆 柳传志 评 埋头苦干 精明 善于 抓住机会 雄...</td>\n",
       "    </tr>\n",
       "  </tbody>\n",
       "</table>\n",
       "</div>"
      ],
      "text/plain": [
       "    Topic  Count              Name  \\\n",
       "0      -1    577      -1_评_中_角色_观众   \n",
       "1       0    107       0_中_评_角色_形象   \n",
       "2       1     73       1_评_性感_气质_中   \n",
       "3       2     68      2_电影_香港_导演_中   \n",
       "4       3     64      3_音乐_歌曲_演唱_评   \n",
       "5       4     47       4_评_中_导演_电影   \n",
       "6       5     44      5_表演_评_演员_演技   \n",
       "7       6     36    6_主持_主持人_新闻_节目   \n",
       "8       7     34      7_评_中国_模特_气质   \n",
       "9       8     31    8_齐达内_技术_球员_能力   \n",
       "10      9     26    9_节目_主持人_杨帆_主持   \n",
       "11     10     20     10_刘烨_角色_评_人物   \n",
       "12     11     15      11_舞蹈_瑜伽_易_烊   \n",
       "13     12     12  12_马思纯_周迅_魏千翔_表演   \n",
       "14     13     10   13_中国_赵本山_企业_商业   \n",
       "\n",
       "                                Representation  \\\n",
       "0       [评, 中, 角色, 观众, 演员, 表演, 中国, 娱乐, 形象, 电影]   \n",
       "1       [中, 评, 角色, 形象, 观众, 里, 娱乐, 电视剧, 郭昶, 性格]   \n",
       "2       [评, 性感, 气质, 中, 身材, 赵薇, 时尚, 娱乐, 甜美, 可爱]   \n",
       "3       [电影, 香港, 导演, 中, 作品, 评, 文化, 影坛, 中国, 艺术]   \n",
       "4      [音乐, 歌曲, 演唱, 评, 歌手, 声音, 嗓音, 评价, 歌声, 创作]   \n",
       "5      [评, 中, 导演, 电影, 胡歌, 王晓晨, 演技, 角色, 演员, 元奎]   \n",
       "6      [表演, 评, 演员, 演技, 中, 角色, 饰演, 张默, 张一山, 观众]   \n",
       "7     [主持, 主持人, 新闻, 节目, 风格, 央视, 播音, 观众, 中, 播报]   \n",
       "8      [评, 中国, 模特, 气质, 娱乐, 身材, 车模, 宁辛, 时尚, 超模]   \n",
       "9     [齐达内, 技术, 球员, 能力, 评, 比赛, 体育, 传球, 扎卡, 足球]   \n",
       "10      [节目, 主持人, 杨帆, 主持, 央视, 月, 年, 孟鑫, 报道, 秒]   \n",
       "11      [刘烨, 角色, 评, 人物, 演员, 导演, 中, 表演, 娱乐, 演技]   \n",
       "12        [舞蹈, 瑜伽, 易, 烊, 中, 武术, 千玺, 评, 娱乐, 王智]   \n",
       "13  [马思纯, 周迅, 魏千翔, 表演, 中, 观众, 电视剧, 角色, 娄烨, 电影]   \n",
       "14    [中国, 赵本山, 企业, 商业, 评价, 刘强, 小品, 马云, 东, 资本]   \n",
       "\n",
       "                                  Representative_Docs  \n",
       "0   [佟丽娅 微博照 佟丽娅 位 美丽 锡伯族 姑娘 艺术 浓厚兴趣 执着 追求 勤奋 刻苦 言...  \n",
       "1   [陈数 才艺 气质 出众 镜头 前 眉梢 眼角 风情 饰演 角色 回味无穷 无论是 暗算 中...  \n",
       "2   [陈语 安 外型 酷似 日本 女星 北川 景子 独特 清新 气质 姣好 身材 男生 喜欢 宅...  \n",
       "3   [徐克 徐克 香港 武侠 电影 代表 人物 香港 华语 武侠 电影 导演 群中 举足轻重 地...  \n",
       "4   [华人 音乐 力量 听 侯旭 中国 东方 侯旭 新声 代 花样 美男 内地 乐坛 实力 宠儿...  \n",
       "5   [著名 影视 演员 李明 实力 导演 李海锋 执导 中视 传媒 股份 有限公司 投资 范明 ...  \n",
       "6   [张世 演戏 享受 有种 说不出来 感觉 吸引 观众 目光 演出 太 自然 一点 痕迹 天平...  \n",
       "7   [写真 图册 张纯烨 主持 风格 舒服 亲切 风趣 幽默 活力 性感 集合 台下 自然 清新...  \n",
       "8   [张钧 甯 素有 台湾 第一 气质 美女 之称 高学历 冠以 演艺圈 女学霸 标签 一向 知...  \n",
       "9   [周琦 是从 后卫 几年 队里 身体 单薄 持续 对抗 能力差 未来 路 很长 宫鲁鸣 评 ...  \n",
       "10  [颜泽玉 中国 家庭 生活 电视节目 主持 第一 10 年前 偶然 打开 中央电视台 一套 ...  \n",
       "11  [人物 毕业 2016 07 21 出演 多部 影视剧 角色 导演 认可 观众 喜爱 腾讯 ...  \n",
       "12  [母其弥雅 靓丽 外形 精彩 瑜伽 动作 越来越 关注 喜爱 外形 亮丽 气质 独特 接触 ...  \n",
       "13  [娄烨 影片 弥幻 感觉 无限 遐想 中 夹杂着 现实 烙印 感觉 思想 另类 肩 扛 拍 ...  \n",
       "14  [王健林 身上 军人 特质 很强 做事 干脆 柳传志 评 埋头苦干 精明 善于 抓住机会 雄...  "
      ]
     },
     "execution_count": 40,
     "metadata": {},
     "output_type": "execute_result"
    }
   ],
   "source": [
    "topic_model.get_topic_info()"
   ]
  },
  {
   "cell_type": "code",
   "execution_count": 41,
   "metadata": {},
   "outputs": [
    {
     "data": {
      "text/plain": [
       "[('中', 0.04112773440282275),\n",
       " ('评', 0.02857389052303046),\n",
       " ('角色', 0.019936032032159462),\n",
       " ('形象', 0.017490249461191328),\n",
       " ('观众', 0.017300203508898847),\n",
       " ('里', 0.016088024152230186),\n",
       " ('娱乐', 0.01547994493237869),\n",
       " ('电视剧', 0.014669100118137823),\n",
       " ('郭昶', 0.014516661689950769),\n",
       " ('性格', 0.01355356868416589)]"
      ]
     },
     "execution_count": 41,
     "metadata": {},
     "output_type": "execute_result"
    }
   ],
   "source": [
    "topic_model.get_topic(0)"
   ]
  },
  {
   "cell_type": "code",
   "execution_count": 42,
   "metadata": {},
   "outputs": [
    {
     "data": {
      "text/html": [
       "<div>\n",
       "<style scoped>\n",
       "    .dataframe tbody tr th:only-of-type {\n",
       "        vertical-align: middle;\n",
       "    }\n",
       "\n",
       "    .dataframe tbody tr th {\n",
       "        vertical-align: top;\n",
       "    }\n",
       "\n",
       "    .dataframe thead th {\n",
       "        text-align: right;\n",
       "    }\n",
       "</style>\n",
       "<table border=\"1\" class=\"dataframe\">\n",
       "  <thead>\n",
       "    <tr style=\"text-align: right;\">\n",
       "      <th></th>\n",
       "      <th>Document</th>\n",
       "      <th>Topic</th>\n",
       "      <th>Name</th>\n",
       "      <th>Representation</th>\n",
       "      <th>Representative_Docs</th>\n",
       "      <th>Top_n_words</th>\n",
       "      <th>Probability</th>\n",
       "      <th>Representative_document</th>\n",
       "    </tr>\n",
       "  </thead>\n",
       "  <tbody>\n",
       "    <tr>\n",
       "      <th>0</th>\n",
       "      <td>登上 纽约时代广场 赵丽颖 一位 人气 实力 兼具 演员 清丽 可爱 外貌 深得 观众 喜欢...</td>\n",
       "      <td>-1</td>\n",
       "      <td>-1_评_中_角色_观众</td>\n",
       "      <td>[评, 中, 角色, 观众, 演员, 表演, 中国, 娱乐, 形象, 电影]</td>\n",
       "      <td>[佟丽娅 微博照 佟丽娅 位 美丽 锡伯族 姑娘 艺术 浓厚兴趣 执着 追求 勤奋 刻苦 言...</td>\n",
       "      <td>评 - 中 - 角色 - 观众 - 演员 - 表演 - 中国 - 娱乐 - 形象 - 电影</td>\n",
       "      <td>0.000000</td>\n",
       "      <td>False</td>\n",
       "    </tr>\n",
       "    <tr>\n",
       "      <th>1</th>\n",
       "      <td>离婚 碰上 天后 告白 碰到 恒大 汪峰 注定 一生 抢镜 汪峰 歌 铿锵有力 演员 李晨评...</td>\n",
       "      <td>-1</td>\n",
       "      <td>-1_评_中_角色_观众</td>\n",
       "      <td>[评, 中, 角色, 观众, 演员, 表演, 中国, 娱乐, 形象, 电影]</td>\n",
       "      <td>[佟丽娅 微博照 佟丽娅 位 美丽 锡伯族 姑娘 艺术 浓厚兴趣 执着 追求 勤奋 刻苦 言...</td>\n",
       "      <td>评 - 中 - 角色 - 观众 - 演员 - 表演 - 中国 - 娱乐 - 形象 - 电影</td>\n",
       "      <td>0.000000</td>\n",
       "      <td>False</td>\n",
       "    </tr>\n",
       "    <tr>\n",
       "      <th>2</th>\n",
       "      <td>沈腾 写真 剧照 沈腾 思维 灵敏 语言 犀利 幽默 笑 帅气 脸上 自觉 几条 可爱 褶皱...</td>\n",
       "      <td>-1</td>\n",
       "      <td>-1_评_中_角色_观众</td>\n",
       "      <td>[评, 中, 角色, 观众, 演员, 表演, 中国, 娱乐, 形象, 电影]</td>\n",
       "      <td>[佟丽娅 微博照 佟丽娅 位 美丽 锡伯族 姑娘 艺术 浓厚兴趣 执着 追求 勤奋 刻苦 言...</td>\n",
       "      <td>评 - 中 - 角色 - 观众 - 演员 - 表演 - 中国 - 娱乐 - 形象 - 电影</td>\n",
       "      <td>0.000000</td>\n",
       "      <td>False</td>\n",
       "    </tr>\n",
       "    <tr>\n",
       "      <th>3</th>\n",
       "      <td>黄秋生 香港 影坛 异类 香港 商业 土壤 中 诞生 一位 实力派 人物 令人 庆幸 那种 ...</td>\n",
       "      <td>2</td>\n",
       "      <td>2_电影_香港_导演_中</td>\n",
       "      <td>[电影, 香港, 导演, 中, 作品, 评, 文化, 影坛, 中国, 艺术]</td>\n",
       "      <td>[徐克 徐克 香港 武侠 电影 代表 人物 香港 华语 武侠 电影 导演 群中 举足轻重 地...</td>\n",
       "      <td>电影 - 香港 - 导演 - 中 - 作品 - 评 - 文化 - 影坛 - 中国 - 艺术</td>\n",
       "      <td>0.602165</td>\n",
       "      <td>False</td>\n",
       "    </tr>\n",
       "    <tr>\n",
       "      <th>4</th>\n",
       "      <td>郑伊健 唯一 长发 好看 男子 唱歌 慢 声底 试放 多些 时间 练声 练唱 早已 上位 跳...</td>\n",
       "      <td>2</td>\n",
       "      <td>2_电影_香港_导演_中</td>\n",
       "      <td>[电影, 香港, 导演, 中, 作品, 评, 文化, 影坛, 中国, 艺术]</td>\n",
       "      <td>[徐克 徐克 香港 武侠 电影 代表 人物 香港 华语 武侠 电影 导演 群中 举足轻重 地...</td>\n",
       "      <td>电影 - 香港 - 导演 - 中 - 作品 - 评 - 文化 - 影坛 - 中国 - 艺术</td>\n",
       "      <td>0.419836</td>\n",
       "      <td>False</td>\n",
       "    </tr>\n",
       "    <tr>\n",
       "      <th>...</th>\n",
       "      <td>...</td>\n",
       "      <td>...</td>\n",
       "      <td>...</td>\n",
       "      <td>...</td>\n",
       "      <td>...</td>\n",
       "      <td>...</td>\n",
       "      <td>...</td>\n",
       "      <td>...</td>\n",
       "    </tr>\n",
       "    <tr>\n",
       "      <th>1159</th>\n",
       "      <td>美在 花城 决赛 选手 中 赵荣长 最矮 66 米 美在 花城 历届 女 冠军 中 最矮 容...</td>\n",
       "      <td>7</td>\n",
       "      <td>7_评_中国_模特_气质</td>\n",
       "      <td>[评, 中国, 模特, 气质, 娱乐, 身材, 车模, 宁辛, 时尚, 超模]</td>\n",
       "      <td>[张钧 甯 素有 台湾 第一 气质 美女 之称 高学历 冠以 演艺圈 女学霸 标签 一向 知...</td>\n",
       "      <td>评 - 中国 - 模特 - 气质 - 娱乐 - 身材 - 车模 - 宁辛 - 时尚 - 超模</td>\n",
       "      <td>0.958798</td>\n",
       "      <td>False</td>\n",
       "    </tr>\n",
       "    <tr>\n",
       "      <th>1160</th>\n",
       "      <td>李成儒 大器晚成 型 演员 演戏 投入 生活 北京 爷们 本色 演出 成功 马丁 评 10 ...</td>\n",
       "      <td>-1</td>\n",
       "      <td>-1_评_中_角色_观众</td>\n",
       "      <td>[评, 中, 角色, 观众, 演员, 表演, 中国, 娱乐, 形象, 电影]</td>\n",
       "      <td>[佟丽娅 微博照 佟丽娅 位 美丽 锡伯族 姑娘 艺术 浓厚兴趣 执着 追求 勤奋 刻苦 言...</td>\n",
       "      <td>评 - 中 - 角色 - 观众 - 演员 - 表演 - 中国 - 娱乐 - 形象 - 电影</td>\n",
       "      <td>0.000000</td>\n",
       "      <td>False</td>\n",
       "    </tr>\n",
       "    <tr>\n",
       "      <th>1161</th>\n",
       "      <td>龚海铭 毕业 上海戏剧学院 龚海铭 拥有 酷似 黄晓明 帅气 外形 冠以 黄晓明 之称 荧屏...</td>\n",
       "      <td>-1</td>\n",
       "      <td>-1_评_中_角色_观众</td>\n",
       "      <td>[评, 中, 角色, 观众, 演员, 表演, 中国, 娱乐, 形象, 电影]</td>\n",
       "      <td>[佟丽娅 微博照 佟丽娅 位 美丽 锡伯族 姑娘 艺术 浓厚兴趣 执着 追求 勤奋 刻苦 言...</td>\n",
       "      <td>评 - 中 - 角色 - 观众 - 演员 - 表演 - 中国 - 娱乐 - 形象 - 电影</td>\n",
       "      <td>0.000000</td>\n",
       "      <td>False</td>\n",
       "    </tr>\n",
       "    <tr>\n",
       "      <th>1162</th>\n",
       "      <td>潘仪 君 台湾 全能型 女艺人 唱歌 演戏 主持 样样精通 演戏 一块 潘仪 君 饰演 19...</td>\n",
       "      <td>-1</td>\n",
       "      <td>-1_评_中_角色_观众</td>\n",
       "      <td>[评, 中, 角色, 观众, 演员, 表演, 中国, 娱乐, 形象, 电影]</td>\n",
       "      <td>[佟丽娅 微博照 佟丽娅 位 美丽 锡伯族 姑娘 艺术 浓厚兴趣 执着 追求 勤奋 刻苦 言...</td>\n",
       "      <td>评 - 中 - 角色 - 观众 - 演员 - 表演 - 中国 - 娱乐 - 形象 - 电影</td>\n",
       "      <td>0.000000</td>\n",
       "      <td>False</td>\n",
       "    </tr>\n",
       "    <tr>\n",
       "      <th>1163</th>\n",
       "      <td>徐睿 拥有 俊朗 外表 极佳 口才 富 才情 男主播 歌手 徐睿以 极富 特质 声线 感动 ...</td>\n",
       "      <td>-1</td>\n",
       "      <td>-1_评_中_角色_观众</td>\n",
       "      <td>[评, 中, 角色, 观众, 演员, 表演, 中国, 娱乐, 形象, 电影]</td>\n",
       "      <td>[佟丽娅 微博照 佟丽娅 位 美丽 锡伯族 姑娘 艺术 浓厚兴趣 执着 追求 勤奋 刻苦 言...</td>\n",
       "      <td>评 - 中 - 角色 - 观众 - 演员 - 表演 - 中国 - 娱乐 - 形象 - 电影</td>\n",
       "      <td>0.000000</td>\n",
       "      <td>False</td>\n",
       "    </tr>\n",
       "  </tbody>\n",
       "</table>\n",
       "<p>1164 rows × 8 columns</p>\n",
       "</div>"
      ],
      "text/plain": [
       "                                               Document  Topic          Name  \\\n",
       "0     登上 纽约时代广场 赵丽颖 一位 人气 实力 兼具 演员 清丽 可爱 外貌 深得 观众 喜欢...     -1  -1_评_中_角色_观众   \n",
       "1     离婚 碰上 天后 告白 碰到 恒大 汪峰 注定 一生 抢镜 汪峰 歌 铿锵有力 演员 李晨评...     -1  -1_评_中_角色_观众   \n",
       "2     沈腾 写真 剧照 沈腾 思维 灵敏 语言 犀利 幽默 笑 帅气 脸上 自觉 几条 可爱 褶皱...     -1  -1_评_中_角色_观众   \n",
       "3     黄秋生 香港 影坛 异类 香港 商业 土壤 中 诞生 一位 实力派 人物 令人 庆幸 那种 ...      2  2_电影_香港_导演_中   \n",
       "4     郑伊健 唯一 长发 好看 男子 唱歌 慢 声底 试放 多些 时间 练声 练唱 早已 上位 跳...      2  2_电影_香港_导演_中   \n",
       "...                                                 ...    ...           ...   \n",
       "1159  美在 花城 决赛 选手 中 赵荣长 最矮 66 米 美在 花城 历届 女 冠军 中 最矮 容...      7  7_评_中国_模特_气质   \n",
       "1160  李成儒 大器晚成 型 演员 演戏 投入 生活 北京 爷们 本色 演出 成功 马丁 评 10 ...     -1  -1_评_中_角色_观众   \n",
       "1161  龚海铭 毕业 上海戏剧学院 龚海铭 拥有 酷似 黄晓明 帅气 外形 冠以 黄晓明 之称 荧屏...     -1  -1_评_中_角色_观众   \n",
       "1162  潘仪 君 台湾 全能型 女艺人 唱歌 演戏 主持 样样精通 演戏 一块 潘仪 君 饰演 19...     -1  -1_评_中_角色_观众   \n",
       "1163  徐睿 拥有 俊朗 外表 极佳 口才 富 才情 男主播 歌手 徐睿以 极富 特质 声线 感动 ...     -1  -1_评_中_角色_观众   \n",
       "\n",
       "                               Representation  \\\n",
       "0      [评, 中, 角色, 观众, 演员, 表演, 中国, 娱乐, 形象, 电影]   \n",
       "1      [评, 中, 角色, 观众, 演员, 表演, 中国, 娱乐, 形象, 电影]   \n",
       "2      [评, 中, 角色, 观众, 演员, 表演, 中国, 娱乐, 形象, 电影]   \n",
       "3      [电影, 香港, 导演, 中, 作品, 评, 文化, 影坛, 中国, 艺术]   \n",
       "4      [电影, 香港, 导演, 中, 作品, 评, 文化, 影坛, 中国, 艺术]   \n",
       "...                                       ...   \n",
       "1159  [评, 中国, 模特, 气质, 娱乐, 身材, 车模, 宁辛, 时尚, 超模]   \n",
       "1160   [评, 中, 角色, 观众, 演员, 表演, 中国, 娱乐, 形象, 电影]   \n",
       "1161   [评, 中, 角色, 观众, 演员, 表演, 中国, 娱乐, 形象, 电影]   \n",
       "1162   [评, 中, 角色, 观众, 演员, 表演, 中国, 娱乐, 形象, 电影]   \n",
       "1163   [评, 中, 角色, 观众, 演员, 表演, 中国, 娱乐, 形象, 电影]   \n",
       "\n",
       "                                    Representative_Docs  \\\n",
       "0     [佟丽娅 微博照 佟丽娅 位 美丽 锡伯族 姑娘 艺术 浓厚兴趣 执着 追求 勤奋 刻苦 言...   \n",
       "1     [佟丽娅 微博照 佟丽娅 位 美丽 锡伯族 姑娘 艺术 浓厚兴趣 执着 追求 勤奋 刻苦 言...   \n",
       "2     [佟丽娅 微博照 佟丽娅 位 美丽 锡伯族 姑娘 艺术 浓厚兴趣 执着 追求 勤奋 刻苦 言...   \n",
       "3     [徐克 徐克 香港 武侠 电影 代表 人物 香港 华语 武侠 电影 导演 群中 举足轻重 地...   \n",
       "4     [徐克 徐克 香港 武侠 电影 代表 人物 香港 华语 武侠 电影 导演 群中 举足轻重 地...   \n",
       "...                                                 ...   \n",
       "1159  [张钧 甯 素有 台湾 第一 气质 美女 之称 高学历 冠以 演艺圈 女学霸 标签 一向 知...   \n",
       "1160  [佟丽娅 微博照 佟丽娅 位 美丽 锡伯族 姑娘 艺术 浓厚兴趣 执着 追求 勤奋 刻苦 言...   \n",
       "1161  [佟丽娅 微博照 佟丽娅 位 美丽 锡伯族 姑娘 艺术 浓厚兴趣 执着 追求 勤奋 刻苦 言...   \n",
       "1162  [佟丽娅 微博照 佟丽娅 位 美丽 锡伯族 姑娘 艺术 浓厚兴趣 执着 追求 勤奋 刻苦 言...   \n",
       "1163  [佟丽娅 微博照 佟丽娅 位 美丽 锡伯族 姑娘 艺术 浓厚兴趣 执着 追求 勤奋 刻苦 言...   \n",
       "\n",
       "                                         Top_n_words  Probability  \\\n",
       "0      评 - 中 - 角色 - 观众 - 演员 - 表演 - 中国 - 娱乐 - 形象 - 电影     0.000000   \n",
       "1      评 - 中 - 角色 - 观众 - 演员 - 表演 - 中国 - 娱乐 - 形象 - 电影     0.000000   \n",
       "2      评 - 中 - 角色 - 观众 - 演员 - 表演 - 中国 - 娱乐 - 形象 - 电影     0.000000   \n",
       "3      电影 - 香港 - 导演 - 中 - 作品 - 评 - 文化 - 影坛 - 中国 - 艺术     0.602165   \n",
       "4      电影 - 香港 - 导演 - 中 - 作品 - 评 - 文化 - 影坛 - 中国 - 艺术     0.419836   \n",
       "...                                              ...          ...   \n",
       "1159  评 - 中国 - 模特 - 气质 - 娱乐 - 身材 - 车模 - 宁辛 - 时尚 - 超模     0.958798   \n",
       "1160   评 - 中 - 角色 - 观众 - 演员 - 表演 - 中国 - 娱乐 - 形象 - 电影     0.000000   \n",
       "1161   评 - 中 - 角色 - 观众 - 演员 - 表演 - 中国 - 娱乐 - 形象 - 电影     0.000000   \n",
       "1162   评 - 中 - 角色 - 观众 - 演员 - 表演 - 中国 - 娱乐 - 形象 - 电影     0.000000   \n",
       "1163   评 - 中 - 角色 - 观众 - 演员 - 表演 - 中国 - 娱乐 - 形象 - 电影     0.000000   \n",
       "\n",
       "      Representative_document  \n",
       "0                       False  \n",
       "1                       False  \n",
       "2                       False  \n",
       "3                       False  \n",
       "4                       False  \n",
       "...                       ...  \n",
       "1159                    False  \n",
       "1160                    False  \n",
       "1161                    False  \n",
       "1162                    False  \n",
       "1163                    False  \n",
       "\n",
       "[1164 rows x 8 columns]"
      ]
     },
     "execution_count": 42,
     "metadata": {},
     "output_type": "execute_result"
    }
   ],
   "source": [
    "topic_model.get_document_info(documents)"
   ]
  },
  {
   "cell_type": "code",
   "execution_count": 43,
   "metadata": {},
   "outputs": [
    {
     "data": {
      "application/vnd.plotly.v1+json": {
       "config": {
        "plotlyServerURL": "https://plot.ly"
       },
       "data": [
        {
         "customdata": [
          [
           0,
           "中 | 评 | 角色 | 形象 | 观众",
           107
          ],
          [
           1,
           "评 | 性感 | 气质 | 中 | 身材",
           73
          ],
          [
           2,
           "电影 | 香港 | 导演 | 中 | 作品",
           68
          ],
          [
           3,
           "音乐 | 歌曲 | 演唱 | 评 | 歌手",
           64
          ],
          [
           4,
           "评 | 中 | 导演 | 电影 | 胡歌",
           47
          ],
          [
           5,
           "表演 | 评 | 演员 | 演技 | 中",
           44
          ],
          [
           6,
           "主持 | 主持人 | 新闻 | 节目 | 风格",
           36
          ],
          [
           7,
           "评 | 中国 | 模特 | 气质 | 娱乐",
           34
          ],
          [
           8,
           "齐达内 | 技术 | 球员 | 能力 | 评",
           31
          ],
          [
           9,
           "节目 | 主持人 | 杨帆 | 主持 | 央视",
           26
          ],
          [
           10,
           "刘烨 | 角色 | 评 | 人物 | 演员",
           20
          ],
          [
           11,
           "舞蹈 | 瑜伽 | 易 | 烊 | 中",
           15
          ],
          [
           12,
           "马思纯 | 周迅 | 魏千翔 | 表演 | 中",
           12
          ],
          [
           13,
           "中国 | 赵本山 | 企业 | 商业 | 评价",
           10
          ]
         ],
         "hovertemplate": "<b>Topic %{customdata[0]}</b><br>%{customdata[1]}<br>Size: %{customdata[2]}",
         "legendgroup": "",
         "marker": {
          "color": "#B0BEC5",
          "line": {
           "color": "DarkSlateGrey",
           "width": 2
          },
          "size": [
           107,
           73,
           68,
           64,
           47,
           44,
           36,
           34,
           31,
           26,
           20,
           15,
           12,
           10
          ],
          "sizemode": "area",
          "sizeref": 0.066875,
          "symbol": "circle"
         },
         "mode": "markers",
         "name": "",
         "orientation": "v",
         "showlegend": false,
         "type": "scatter",
         "x": [
          7.557225227355957,
          2.3055381774902344,
          -11.062934875488281,
          7.222475528717041,
          8.290374755859375,
          2.5183281898498535,
          10.135015487670898,
          2.225628137588501,
          1.9736316204071045,
          9.904996871948242,
          -10.73139762878418,
          8.57597541809082,
          7.767099380493164,
          -11.324318885803223
         ],
         "xaxis": "x",
         "y": [
          9.809577941894531,
          35.726558685302734,
          17.503684997558594,
          10.089613914489746,
          9.825571060180664,
          36.17878723144531,
          -11.565427780151367,
          35.315773010253906,
          35.173099517822266,
          -11.335408210754395,
          17.835063934326172,
          9.647994995117188,
          10.3299560546875,
          17.242172241210938
         ],
         "yaxis": "y"
        }
       ],
       "layout": {
        "annotations": [
         {
          "showarrow": false,
          "text": "D1",
          "x": -13.022966718673706,
          "y": 14.15268168449402,
          "yshift": 10
         },
         {
          "showarrow": false,
          "text": "D2",
          "x": -0.6838494539260864,
          "xshift": 10,
          "y": 41.60560531616211
         }
        ],
        "height": 650,
        "hoverlabel": {
         "bgcolor": "white",
         "font": {
          "family": "Rockwell",
          "size": 16
         }
        },
        "legend": {
         "itemsizing": "constant",
         "tracegroupgap": 0
        },
        "margin": {
         "t": 60
        },
        "shapes": [
         {
          "line": {
           "color": "#CFD8DC",
           "width": 2
          },
          "type": "line",
          "x0": -0.6838494539260864,
          "x1": -0.6838494539260864,
          "y0": -13.300241947174072,
          "y1": 41.60560531616211
         },
         {
          "line": {
           "color": "#9E9E9E",
           "width": 2
          },
          "type": "line",
          "x0": -13.022966718673706,
          "x1": 11.655267810821533,
          "y0": 14.15268168449402,
          "y1": 14.15268168449402
         }
        ],
        "sliders": [
         {
          "active": 0,
          "pad": {
           "t": 50
          },
          "steps": [
           {
            "args": [
             {
              "marker.color": [
               [
                "red",
                "#B0BEC5",
                "#B0BEC5",
                "#B0BEC5",
                "#B0BEC5",
                "#B0BEC5",
                "#B0BEC5",
                "#B0BEC5",
                "#B0BEC5",
                "#B0BEC5",
                "#B0BEC5",
                "#B0BEC5",
                "#B0BEC5",
                "#B0BEC5"
               ]
              ]
             }
            ],
            "label": "Topic 0",
            "method": "update"
           },
           {
            "args": [
             {
              "marker.color": [
               [
                "#B0BEC5",
                "red",
                "#B0BEC5",
                "#B0BEC5",
                "#B0BEC5",
                "#B0BEC5",
                "#B0BEC5",
                "#B0BEC5",
                "#B0BEC5",
                "#B0BEC5",
                "#B0BEC5",
                "#B0BEC5",
                "#B0BEC5",
                "#B0BEC5"
               ]
              ]
             }
            ],
            "label": "Topic 1",
            "method": "update"
           },
           {
            "args": [
             {
              "marker.color": [
               [
                "#B0BEC5",
                "#B0BEC5",
                "red",
                "#B0BEC5",
                "#B0BEC5",
                "#B0BEC5",
                "#B0BEC5",
                "#B0BEC5",
                "#B0BEC5",
                "#B0BEC5",
                "#B0BEC5",
                "#B0BEC5",
                "#B0BEC5",
                "#B0BEC5"
               ]
              ]
             }
            ],
            "label": "Topic 2",
            "method": "update"
           },
           {
            "args": [
             {
              "marker.color": [
               [
                "#B0BEC5",
                "#B0BEC5",
                "#B0BEC5",
                "red",
                "#B0BEC5",
                "#B0BEC5",
                "#B0BEC5",
                "#B0BEC5",
                "#B0BEC5",
                "#B0BEC5",
                "#B0BEC5",
                "#B0BEC5",
                "#B0BEC5",
                "#B0BEC5"
               ]
              ]
             }
            ],
            "label": "Topic 3",
            "method": "update"
           },
           {
            "args": [
             {
              "marker.color": [
               [
                "#B0BEC5",
                "#B0BEC5",
                "#B0BEC5",
                "#B0BEC5",
                "red",
                "#B0BEC5",
                "#B0BEC5",
                "#B0BEC5",
                "#B0BEC5",
                "#B0BEC5",
                "#B0BEC5",
                "#B0BEC5",
                "#B0BEC5",
                "#B0BEC5"
               ]
              ]
             }
            ],
            "label": "Topic 4",
            "method": "update"
           },
           {
            "args": [
             {
              "marker.color": [
               [
                "#B0BEC5",
                "#B0BEC5",
                "#B0BEC5",
                "#B0BEC5",
                "#B0BEC5",
                "red",
                "#B0BEC5",
                "#B0BEC5",
                "#B0BEC5",
                "#B0BEC5",
                "#B0BEC5",
                "#B0BEC5",
                "#B0BEC5",
                "#B0BEC5"
               ]
              ]
             }
            ],
            "label": "Topic 5",
            "method": "update"
           },
           {
            "args": [
             {
              "marker.color": [
               [
                "#B0BEC5",
                "#B0BEC5",
                "#B0BEC5",
                "#B0BEC5",
                "#B0BEC5",
                "#B0BEC5",
                "red",
                "#B0BEC5",
                "#B0BEC5",
                "#B0BEC5",
                "#B0BEC5",
                "#B0BEC5",
                "#B0BEC5",
                "#B0BEC5"
               ]
              ]
             }
            ],
            "label": "Topic 6",
            "method": "update"
           },
           {
            "args": [
             {
              "marker.color": [
               [
                "#B0BEC5",
                "#B0BEC5",
                "#B0BEC5",
                "#B0BEC5",
                "#B0BEC5",
                "#B0BEC5",
                "#B0BEC5",
                "red",
                "#B0BEC5",
                "#B0BEC5",
                "#B0BEC5",
                "#B0BEC5",
                "#B0BEC5",
                "#B0BEC5"
               ]
              ]
             }
            ],
            "label": "Topic 7",
            "method": "update"
           },
           {
            "args": [
             {
              "marker.color": [
               [
                "#B0BEC5",
                "#B0BEC5",
                "#B0BEC5",
                "#B0BEC5",
                "#B0BEC5",
                "#B0BEC5",
                "#B0BEC5",
                "#B0BEC5",
                "red",
                "#B0BEC5",
                "#B0BEC5",
                "#B0BEC5",
                "#B0BEC5",
                "#B0BEC5"
               ]
              ]
             }
            ],
            "label": "Topic 8",
            "method": "update"
           },
           {
            "args": [
             {
              "marker.color": [
               [
                "#B0BEC5",
                "#B0BEC5",
                "#B0BEC5",
                "#B0BEC5",
                "#B0BEC5",
                "#B0BEC5",
                "#B0BEC5",
                "#B0BEC5",
                "#B0BEC5",
                "red",
                "#B0BEC5",
                "#B0BEC5",
                "#B0BEC5",
                "#B0BEC5"
               ]
              ]
             }
            ],
            "label": "Topic 9",
            "method": "update"
           },
           {
            "args": [
             {
              "marker.color": [
               [
                "#B0BEC5",
                "#B0BEC5",
                "#B0BEC5",
                "#B0BEC5",
                "#B0BEC5",
                "#B0BEC5",
                "#B0BEC5",
                "#B0BEC5",
                "#B0BEC5",
                "#B0BEC5",
                "red",
                "#B0BEC5",
                "#B0BEC5",
                "#B0BEC5"
               ]
              ]
             }
            ],
            "label": "Topic 10",
            "method": "update"
           },
           {
            "args": [
             {
              "marker.color": [
               [
                "#B0BEC5",
                "#B0BEC5",
                "#B0BEC5",
                "#B0BEC5",
                "#B0BEC5",
                "#B0BEC5",
                "#B0BEC5",
                "#B0BEC5",
                "#B0BEC5",
                "#B0BEC5",
                "#B0BEC5",
                "red",
                "#B0BEC5",
                "#B0BEC5"
               ]
              ]
             }
            ],
            "label": "Topic 11",
            "method": "update"
           },
           {
            "args": [
             {
              "marker.color": [
               [
                "#B0BEC5",
                "#B0BEC5",
                "#B0BEC5",
                "#B0BEC5",
                "#B0BEC5",
                "#B0BEC5",
                "#B0BEC5",
                "#B0BEC5",
                "#B0BEC5",
                "#B0BEC5",
                "#B0BEC5",
                "#B0BEC5",
                "red",
                "#B0BEC5"
               ]
              ]
             }
            ],
            "label": "Topic 12",
            "method": "update"
           },
           {
            "args": [
             {
              "marker.color": [
               [
                "#B0BEC5",
                "#B0BEC5",
                "#B0BEC5",
                "#B0BEC5",
                "#B0BEC5",
                "#B0BEC5",
                "#B0BEC5",
                "#B0BEC5",
                "#B0BEC5",
                "#B0BEC5",
                "#B0BEC5",
                "#B0BEC5",
                "#B0BEC5",
                "red"
               ]
              ]
             }
            ],
            "label": "Topic 13",
            "method": "update"
           }
          ]
         }
        ],
        "template": {
         "data": {
          "bar": [
           {
            "error_x": {
             "color": "rgb(36,36,36)"
            },
            "error_y": {
             "color": "rgb(36,36,36)"
            },
            "marker": {
             "line": {
              "color": "white",
              "width": 0.5
             },
             "pattern": {
              "fillmode": "overlay",
              "size": 10,
              "solidity": 0.2
             }
            },
            "type": "bar"
           }
          ],
          "barpolar": [
           {
            "marker": {
             "line": {
              "color": "white",
              "width": 0.5
             },
             "pattern": {
              "fillmode": "overlay",
              "size": 10,
              "solidity": 0.2
             }
            },
            "type": "barpolar"
           }
          ],
          "carpet": [
           {
            "aaxis": {
             "endlinecolor": "rgb(36,36,36)",
             "gridcolor": "white",
             "linecolor": "white",
             "minorgridcolor": "white",
             "startlinecolor": "rgb(36,36,36)"
            },
            "baxis": {
             "endlinecolor": "rgb(36,36,36)",
             "gridcolor": "white",
             "linecolor": "white",
             "minorgridcolor": "white",
             "startlinecolor": "rgb(36,36,36)"
            },
            "type": "carpet"
           }
          ],
          "choropleth": [
           {
            "colorbar": {
             "outlinewidth": 1,
             "tickcolor": "rgb(36,36,36)",
             "ticks": "outside"
            },
            "type": "choropleth"
           }
          ],
          "contour": [
           {
            "colorbar": {
             "outlinewidth": 1,
             "tickcolor": "rgb(36,36,36)",
             "ticks": "outside"
            },
            "colorscale": [
             [
              0,
              "#440154"
             ],
             [
              0.1111111111111111,
              "#482878"
             ],
             [
              0.2222222222222222,
              "#3e4989"
             ],
             [
              0.3333333333333333,
              "#31688e"
             ],
             [
              0.4444444444444444,
              "#26828e"
             ],
             [
              0.5555555555555556,
              "#1f9e89"
             ],
             [
              0.6666666666666666,
              "#35b779"
             ],
             [
              0.7777777777777778,
              "#6ece58"
             ],
             [
              0.8888888888888888,
              "#b5de2b"
             ],
             [
              1,
              "#fde725"
             ]
            ],
            "type": "contour"
           }
          ],
          "contourcarpet": [
           {
            "colorbar": {
             "outlinewidth": 1,
             "tickcolor": "rgb(36,36,36)",
             "ticks": "outside"
            },
            "type": "contourcarpet"
           }
          ],
          "heatmap": [
           {
            "colorbar": {
             "outlinewidth": 1,
             "tickcolor": "rgb(36,36,36)",
             "ticks": "outside"
            },
            "colorscale": [
             [
              0,
              "#440154"
             ],
             [
              0.1111111111111111,
              "#482878"
             ],
             [
              0.2222222222222222,
              "#3e4989"
             ],
             [
              0.3333333333333333,
              "#31688e"
             ],
             [
              0.4444444444444444,
              "#26828e"
             ],
             [
              0.5555555555555556,
              "#1f9e89"
             ],
             [
              0.6666666666666666,
              "#35b779"
             ],
             [
              0.7777777777777778,
              "#6ece58"
             ],
             [
              0.8888888888888888,
              "#b5de2b"
             ],
             [
              1,
              "#fde725"
             ]
            ],
            "type": "heatmap"
           }
          ],
          "heatmapgl": [
           {
            "colorbar": {
             "outlinewidth": 1,
             "tickcolor": "rgb(36,36,36)",
             "ticks": "outside"
            },
            "colorscale": [
             [
              0,
              "#440154"
             ],
             [
              0.1111111111111111,
              "#482878"
             ],
             [
              0.2222222222222222,
              "#3e4989"
             ],
             [
              0.3333333333333333,
              "#31688e"
             ],
             [
              0.4444444444444444,
              "#26828e"
             ],
             [
              0.5555555555555556,
              "#1f9e89"
             ],
             [
              0.6666666666666666,
              "#35b779"
             ],
             [
              0.7777777777777778,
              "#6ece58"
             ],
             [
              0.8888888888888888,
              "#b5de2b"
             ],
             [
              1,
              "#fde725"
             ]
            ],
            "type": "heatmapgl"
           }
          ],
          "histogram": [
           {
            "marker": {
             "line": {
              "color": "white",
              "width": 0.6
             }
            },
            "type": "histogram"
           }
          ],
          "histogram2d": [
           {
            "colorbar": {
             "outlinewidth": 1,
             "tickcolor": "rgb(36,36,36)",
             "ticks": "outside"
            },
            "colorscale": [
             [
              0,
              "#440154"
             ],
             [
              0.1111111111111111,
              "#482878"
             ],
             [
              0.2222222222222222,
              "#3e4989"
             ],
             [
              0.3333333333333333,
              "#31688e"
             ],
             [
              0.4444444444444444,
              "#26828e"
             ],
             [
              0.5555555555555556,
              "#1f9e89"
             ],
             [
              0.6666666666666666,
              "#35b779"
             ],
             [
              0.7777777777777778,
              "#6ece58"
             ],
             [
              0.8888888888888888,
              "#b5de2b"
             ],
             [
              1,
              "#fde725"
             ]
            ],
            "type": "histogram2d"
           }
          ],
          "histogram2dcontour": [
           {
            "colorbar": {
             "outlinewidth": 1,
             "tickcolor": "rgb(36,36,36)",
             "ticks": "outside"
            },
            "colorscale": [
             [
              0,
              "#440154"
             ],
             [
              0.1111111111111111,
              "#482878"
             ],
             [
              0.2222222222222222,
              "#3e4989"
             ],
             [
              0.3333333333333333,
              "#31688e"
             ],
             [
              0.4444444444444444,
              "#26828e"
             ],
             [
              0.5555555555555556,
              "#1f9e89"
             ],
             [
              0.6666666666666666,
              "#35b779"
             ],
             [
              0.7777777777777778,
              "#6ece58"
             ],
             [
              0.8888888888888888,
              "#b5de2b"
             ],
             [
              1,
              "#fde725"
             ]
            ],
            "type": "histogram2dcontour"
           }
          ],
          "mesh3d": [
           {
            "colorbar": {
             "outlinewidth": 1,
             "tickcolor": "rgb(36,36,36)",
             "ticks": "outside"
            },
            "type": "mesh3d"
           }
          ],
          "parcoords": [
           {
            "line": {
             "colorbar": {
              "outlinewidth": 1,
              "tickcolor": "rgb(36,36,36)",
              "ticks": "outside"
             }
            },
            "type": "parcoords"
           }
          ],
          "pie": [
           {
            "automargin": true,
            "type": "pie"
           }
          ],
          "scatter": [
           {
            "fillpattern": {
             "fillmode": "overlay",
             "size": 10,
             "solidity": 0.2
            },
            "type": "scatter"
           }
          ],
          "scatter3d": [
           {
            "line": {
             "colorbar": {
              "outlinewidth": 1,
              "tickcolor": "rgb(36,36,36)",
              "ticks": "outside"
             }
            },
            "marker": {
             "colorbar": {
              "outlinewidth": 1,
              "tickcolor": "rgb(36,36,36)",
              "ticks": "outside"
             }
            },
            "type": "scatter3d"
           }
          ],
          "scattercarpet": [
           {
            "marker": {
             "colorbar": {
              "outlinewidth": 1,
              "tickcolor": "rgb(36,36,36)",
              "ticks": "outside"
             }
            },
            "type": "scattercarpet"
           }
          ],
          "scattergeo": [
           {
            "marker": {
             "colorbar": {
              "outlinewidth": 1,
              "tickcolor": "rgb(36,36,36)",
              "ticks": "outside"
             }
            },
            "type": "scattergeo"
           }
          ],
          "scattergl": [
           {
            "marker": {
             "colorbar": {
              "outlinewidth": 1,
              "tickcolor": "rgb(36,36,36)",
              "ticks": "outside"
             }
            },
            "type": "scattergl"
           }
          ],
          "scattermapbox": [
           {
            "marker": {
             "colorbar": {
              "outlinewidth": 1,
              "tickcolor": "rgb(36,36,36)",
              "ticks": "outside"
             }
            },
            "type": "scattermapbox"
           }
          ],
          "scatterpolar": [
           {
            "marker": {
             "colorbar": {
              "outlinewidth": 1,
              "tickcolor": "rgb(36,36,36)",
              "ticks": "outside"
             }
            },
            "type": "scatterpolar"
           }
          ],
          "scatterpolargl": [
           {
            "marker": {
             "colorbar": {
              "outlinewidth": 1,
              "tickcolor": "rgb(36,36,36)",
              "ticks": "outside"
             }
            },
            "type": "scatterpolargl"
           }
          ],
          "scatterternary": [
           {
            "marker": {
             "colorbar": {
              "outlinewidth": 1,
              "tickcolor": "rgb(36,36,36)",
              "ticks": "outside"
             }
            },
            "type": "scatterternary"
           }
          ],
          "surface": [
           {
            "colorbar": {
             "outlinewidth": 1,
             "tickcolor": "rgb(36,36,36)",
             "ticks": "outside"
            },
            "colorscale": [
             [
              0,
              "#440154"
             ],
             [
              0.1111111111111111,
              "#482878"
             ],
             [
              0.2222222222222222,
              "#3e4989"
             ],
             [
              0.3333333333333333,
              "#31688e"
             ],
             [
              0.4444444444444444,
              "#26828e"
             ],
             [
              0.5555555555555556,
              "#1f9e89"
             ],
             [
              0.6666666666666666,
              "#35b779"
             ],
             [
              0.7777777777777778,
              "#6ece58"
             ],
             [
              0.8888888888888888,
              "#b5de2b"
             ],
             [
              1,
              "#fde725"
             ]
            ],
            "type": "surface"
           }
          ],
          "table": [
           {
            "cells": {
             "fill": {
              "color": "rgb(237,237,237)"
             },
             "line": {
              "color": "white"
             }
            },
            "header": {
             "fill": {
              "color": "rgb(217,217,217)"
             },
             "line": {
              "color": "white"
             }
            },
            "type": "table"
           }
          ]
         },
         "layout": {
          "annotationdefaults": {
           "arrowhead": 0,
           "arrowwidth": 1
          },
          "autotypenumbers": "strict",
          "coloraxis": {
           "colorbar": {
            "outlinewidth": 1,
            "tickcolor": "rgb(36,36,36)",
            "ticks": "outside"
           }
          },
          "colorscale": {
           "diverging": [
            [
             0,
             "rgb(103,0,31)"
            ],
            [
             0.1,
             "rgb(178,24,43)"
            ],
            [
             0.2,
             "rgb(214,96,77)"
            ],
            [
             0.3,
             "rgb(244,165,130)"
            ],
            [
             0.4,
             "rgb(253,219,199)"
            ],
            [
             0.5,
             "rgb(247,247,247)"
            ],
            [
             0.6,
             "rgb(209,229,240)"
            ],
            [
             0.7,
             "rgb(146,197,222)"
            ],
            [
             0.8,
             "rgb(67,147,195)"
            ],
            [
             0.9,
             "rgb(33,102,172)"
            ],
            [
             1,
             "rgb(5,48,97)"
            ]
           ],
           "sequential": [
            [
             0,
             "#440154"
            ],
            [
             0.1111111111111111,
             "#482878"
            ],
            [
             0.2222222222222222,
             "#3e4989"
            ],
            [
             0.3333333333333333,
             "#31688e"
            ],
            [
             0.4444444444444444,
             "#26828e"
            ],
            [
             0.5555555555555556,
             "#1f9e89"
            ],
            [
             0.6666666666666666,
             "#35b779"
            ],
            [
             0.7777777777777778,
             "#6ece58"
            ],
            [
             0.8888888888888888,
             "#b5de2b"
            ],
            [
             1,
             "#fde725"
            ]
           ],
           "sequentialminus": [
            [
             0,
             "#440154"
            ],
            [
             0.1111111111111111,
             "#482878"
            ],
            [
             0.2222222222222222,
             "#3e4989"
            ],
            [
             0.3333333333333333,
             "#31688e"
            ],
            [
             0.4444444444444444,
             "#26828e"
            ],
            [
             0.5555555555555556,
             "#1f9e89"
            ],
            [
             0.6666666666666666,
             "#35b779"
            ],
            [
             0.7777777777777778,
             "#6ece58"
            ],
            [
             0.8888888888888888,
             "#b5de2b"
            ],
            [
             1,
             "#fde725"
            ]
           ]
          },
          "colorway": [
           "#1F77B4",
           "#FF7F0E",
           "#2CA02C",
           "#D62728",
           "#9467BD",
           "#8C564B",
           "#E377C2",
           "#7F7F7F",
           "#BCBD22",
           "#17BECF"
          ],
          "font": {
           "color": "rgb(36,36,36)"
          },
          "geo": {
           "bgcolor": "white",
           "lakecolor": "white",
           "landcolor": "white",
           "showlakes": true,
           "showland": true,
           "subunitcolor": "white"
          },
          "hoverlabel": {
           "align": "left"
          },
          "hovermode": "closest",
          "mapbox": {
           "style": "light"
          },
          "paper_bgcolor": "white",
          "plot_bgcolor": "white",
          "polar": {
           "angularaxis": {
            "gridcolor": "rgb(232,232,232)",
            "linecolor": "rgb(36,36,36)",
            "showgrid": false,
            "showline": true,
            "ticks": "outside"
           },
           "bgcolor": "white",
           "radialaxis": {
            "gridcolor": "rgb(232,232,232)",
            "linecolor": "rgb(36,36,36)",
            "showgrid": false,
            "showline": true,
            "ticks": "outside"
           }
          },
          "scene": {
           "xaxis": {
            "backgroundcolor": "white",
            "gridcolor": "rgb(232,232,232)",
            "gridwidth": 2,
            "linecolor": "rgb(36,36,36)",
            "showbackground": true,
            "showgrid": false,
            "showline": true,
            "ticks": "outside",
            "zeroline": false,
            "zerolinecolor": "rgb(36,36,36)"
           },
           "yaxis": {
            "backgroundcolor": "white",
            "gridcolor": "rgb(232,232,232)",
            "gridwidth": 2,
            "linecolor": "rgb(36,36,36)",
            "showbackground": true,
            "showgrid": false,
            "showline": true,
            "ticks": "outside",
            "zeroline": false,
            "zerolinecolor": "rgb(36,36,36)"
           },
           "zaxis": {
            "backgroundcolor": "white",
            "gridcolor": "rgb(232,232,232)",
            "gridwidth": 2,
            "linecolor": "rgb(36,36,36)",
            "showbackground": true,
            "showgrid": false,
            "showline": true,
            "ticks": "outside",
            "zeroline": false,
            "zerolinecolor": "rgb(36,36,36)"
           }
          },
          "shapedefaults": {
           "fillcolor": "black",
           "line": {
            "width": 0
           },
           "opacity": 0.3
          },
          "ternary": {
           "aaxis": {
            "gridcolor": "rgb(232,232,232)",
            "linecolor": "rgb(36,36,36)",
            "showgrid": false,
            "showline": true,
            "ticks": "outside"
           },
           "baxis": {
            "gridcolor": "rgb(232,232,232)",
            "linecolor": "rgb(36,36,36)",
            "showgrid": false,
            "showline": true,
            "ticks": "outside"
           },
           "bgcolor": "white",
           "caxis": {
            "gridcolor": "rgb(232,232,232)",
            "linecolor": "rgb(36,36,36)",
            "showgrid": false,
            "showline": true,
            "ticks": "outside"
           }
          },
          "title": {
           "x": 0.05
          },
          "xaxis": {
           "automargin": true,
           "gridcolor": "rgb(232,232,232)",
           "linecolor": "rgb(36,36,36)",
           "showgrid": false,
           "showline": true,
           "ticks": "outside",
           "title": {
            "standoff": 15
           },
           "zeroline": false,
           "zerolinecolor": "rgb(36,36,36)"
          },
          "yaxis": {
           "automargin": true,
           "gridcolor": "rgb(232,232,232)",
           "linecolor": "rgb(36,36,36)",
           "showgrid": false,
           "showline": true,
           "ticks": "outside",
           "title": {
            "standoff": 15
           },
           "zeroline": false,
           "zerolinecolor": "rgb(36,36,36)"
          }
         }
        },
        "title": {
         "font": {
          "color": "Black",
          "size": 22
         },
         "text": "<b>Intertopic Distance Map</b>",
         "x": 0.5,
         "xanchor": "center",
         "y": 0.95,
         "yanchor": "top"
        },
        "width": 650,
        "xaxis": {
         "anchor": "y",
         "domain": [
          0,
          1
         ],
         "range": [
          -13.022966718673706,
          11.655267810821533
         ],
         "title": {
          "text": ""
         },
         "visible": false
        },
        "yaxis": {
         "anchor": "x",
         "domain": [
          0,
          1
         ],
         "range": [
          -13.300241947174072,
          41.60560531616211
         ],
         "title": {
          "text": ""
         },
         "visible": false
        }
       }
      }
     },
     "metadata": {},
     "output_type": "display_data"
    }
   ],
   "source": [
    "##话题间距离的可视化\n",
    "topic_model.visualize_topics()"
   ]
  },
  {
   "cell_type": "code",
   "execution_count": 44,
   "metadata": {},
   "outputs": [
    {
     "data": {
      "application/vnd.plotly.v1+json": {
       "config": {
        "plotlyServerURL": "https://plot.ly"
       },
       "data": [
        {
         "marker": {
          "color": "#D55E00"
         },
         "orientation": "h",
         "type": "bar",
         "x": [
          0.017300203508898847,
          0.017490249461191328,
          0.019936032032159462,
          0.02857389052303046,
          0.04112773440282275
         ],
         "xaxis": "x",
         "y": [
          "观众  ",
          "形象  ",
          "角色  ",
          "评  ",
          "中  "
         ],
         "yaxis": "y"
        },
        {
         "marker": {
          "color": "#0072B2"
         },
         "orientation": "h",
         "type": "bar",
         "x": [
          0.0246184409419937,
          0.026597631876037177,
          0.02836413019317773,
          0.031657135984082374,
          0.036658668600654566
         ],
         "xaxis": "x2",
         "y": [
          "身材  ",
          "中  ",
          "气质  ",
          "性感  ",
          "评  "
         ],
         "yaxis": "y2"
        },
        {
         "marker": {
          "color": "#CC79A7"
         },
         "orientation": "h",
         "type": "bar",
         "x": [
          0.024616840790627943,
          0.026667187513715506,
          0.026939923597404672,
          0.04039701180135057,
          0.084187456661506
         ],
         "xaxis": "x3",
         "y": [
          "作品  ",
          "中  ",
          "导演  ",
          "香港  ",
          "电影  "
         ],
         "yaxis": "y3"
        },
        {
         "marker": {
          "color": "#E69F00"
         },
         "orientation": "h",
         "type": "bar",
         "x": [
          0.028197421691158818,
          0.036033620024739255,
          0.03722681892363115,
          0.04455249901273782,
          0.06645856754571997
         ],
         "xaxis": "x4",
         "y": [
          "歌手  ",
          "评  ",
          "演唱  ",
          "歌曲  ",
          "音乐  "
         ],
         "yaxis": "y4"
        },
        {
         "marker": {
          "color": "#56B4E9"
         },
         "orientation": "h",
         "type": "bar",
         "x": [
          0.019488991987794205,
          0.021731445396204026,
          0.025535047595978206,
          0.029692013245740133,
          0.03152629488008072
         ],
         "xaxis": "x5",
         "y": [
          "胡歌  ",
          "电影  ",
          "导演  ",
          "中  ",
          "评  "
         ],
         "yaxis": "y5"
        },
        {
         "marker": {
          "color": "#009E73"
         },
         "orientation": "h",
         "type": "bar",
         "x": [
          0.027392763020731833,
          0.027723666081312638,
          0.03562472062382868,
          0.03808004297689829,
          0.04952892179325036
         ],
         "xaxis": "x6",
         "y": [
          "中  ",
          "演技  ",
          "演员  ",
          "评  ",
          "表演  "
         ],
         "yaxis": "y6"
        },
        {
         "marker": {
          "color": "#F0E442"
         },
         "orientation": "h",
         "type": "bar",
         "x": [
          0.04434869720235043,
          0.05337866797201334,
          0.05598106383567158,
          0.05886182357593522,
          0.06984495631592755
         ],
         "xaxis": "x7",
         "y": [
          "风格  ",
          "节目  ",
          "新闻  ",
          "主持人  ",
          "主持  "
         ],
         "yaxis": "y7"
        },
        {
         "marker": {
          "color": "#D55E00"
         },
         "orientation": "h",
         "type": "bar",
         "x": [
          0.027783612831348475,
          0.028334773102566827,
          0.03042687645976709,
          0.033794015359145585,
          0.039550384727641
         ],
         "xaxis": "x8",
         "y": [
          "娱乐  ",
          "气质  ",
          "模特  ",
          "中国  ",
          "评  "
         ],
         "yaxis": "y8"
        }
       ],
       "layout": {
        "annotations": [
         {
          "font": {
           "size": 16
          },
          "showarrow": false,
          "text": "Topic 0",
          "x": 0.0875,
          "xanchor": "center",
          "xref": "paper",
          "y": 1,
          "yanchor": "bottom",
          "yref": "paper"
         },
         {
          "font": {
           "size": 16
          },
          "showarrow": false,
          "text": "Topic 1",
          "x": 0.36250000000000004,
          "xanchor": "center",
          "xref": "paper",
          "y": 1,
          "yanchor": "bottom",
          "yref": "paper"
         },
         {
          "font": {
           "size": 16
          },
          "showarrow": false,
          "text": "Topic 2",
          "x": 0.6375000000000001,
          "xanchor": "center",
          "xref": "paper",
          "y": 1,
          "yanchor": "bottom",
          "yref": "paper"
         },
         {
          "font": {
           "size": 16
          },
          "showarrow": false,
          "text": "Topic 3",
          "x": 0.9125,
          "xanchor": "center",
          "xref": "paper",
          "y": 1,
          "yanchor": "bottom",
          "yref": "paper"
         },
         {
          "font": {
           "size": 16
          },
          "showarrow": false,
          "text": "Topic 4",
          "x": 0.0875,
          "xanchor": "center",
          "xref": "paper",
          "y": 0.4,
          "yanchor": "bottom",
          "yref": "paper"
         },
         {
          "font": {
           "size": 16
          },
          "showarrow": false,
          "text": "Topic 5",
          "x": 0.36250000000000004,
          "xanchor": "center",
          "xref": "paper",
          "y": 0.4,
          "yanchor": "bottom",
          "yref": "paper"
         },
         {
          "font": {
           "size": 16
          },
          "showarrow": false,
          "text": "Topic 6",
          "x": 0.6375000000000001,
          "xanchor": "center",
          "xref": "paper",
          "y": 0.4,
          "yanchor": "bottom",
          "yref": "paper"
         },
         {
          "font": {
           "size": 16
          },
          "showarrow": false,
          "text": "Topic 7",
          "x": 0.9125,
          "xanchor": "center",
          "xref": "paper",
          "y": 0.4,
          "yanchor": "bottom",
          "yref": "paper"
         }
        ],
        "height": 500,
        "hoverlabel": {
         "bgcolor": "white",
         "font": {
          "family": "Rockwell",
          "size": 16
         }
        },
        "showlegend": false,
        "template": {
         "data": {
          "bar": [
           {
            "error_x": {
             "color": "#2a3f5f"
            },
            "error_y": {
             "color": "#2a3f5f"
            },
            "marker": {
             "line": {
              "color": "white",
              "width": 0.5
             },
             "pattern": {
              "fillmode": "overlay",
              "size": 10,
              "solidity": 0.2
             }
            },
            "type": "bar"
           }
          ],
          "barpolar": [
           {
            "marker": {
             "line": {
              "color": "white",
              "width": 0.5
             },
             "pattern": {
              "fillmode": "overlay",
              "size": 10,
              "solidity": 0.2
             }
            },
            "type": "barpolar"
           }
          ],
          "carpet": [
           {
            "aaxis": {
             "endlinecolor": "#2a3f5f",
             "gridcolor": "#C8D4E3",
             "linecolor": "#C8D4E3",
             "minorgridcolor": "#C8D4E3",
             "startlinecolor": "#2a3f5f"
            },
            "baxis": {
             "endlinecolor": "#2a3f5f",
             "gridcolor": "#C8D4E3",
             "linecolor": "#C8D4E3",
             "minorgridcolor": "#C8D4E3",
             "startlinecolor": "#2a3f5f"
            },
            "type": "carpet"
           }
          ],
          "choropleth": [
           {
            "colorbar": {
             "outlinewidth": 0,
             "ticks": ""
            },
            "type": "choropleth"
           }
          ],
          "contour": [
           {
            "colorbar": {
             "outlinewidth": 0,
             "ticks": ""
            },
            "colorscale": [
             [
              0,
              "#0d0887"
             ],
             [
              0.1111111111111111,
              "#46039f"
             ],
             [
              0.2222222222222222,
              "#7201a8"
             ],
             [
              0.3333333333333333,
              "#9c179e"
             ],
             [
              0.4444444444444444,
              "#bd3786"
             ],
             [
              0.5555555555555556,
              "#d8576b"
             ],
             [
              0.6666666666666666,
              "#ed7953"
             ],
             [
              0.7777777777777778,
              "#fb9f3a"
             ],
             [
              0.8888888888888888,
              "#fdca26"
             ],
             [
              1,
              "#f0f921"
             ]
            ],
            "type": "contour"
           }
          ],
          "contourcarpet": [
           {
            "colorbar": {
             "outlinewidth": 0,
             "ticks": ""
            },
            "type": "contourcarpet"
           }
          ],
          "heatmap": [
           {
            "colorbar": {
             "outlinewidth": 0,
             "ticks": ""
            },
            "colorscale": [
             [
              0,
              "#0d0887"
             ],
             [
              0.1111111111111111,
              "#46039f"
             ],
             [
              0.2222222222222222,
              "#7201a8"
             ],
             [
              0.3333333333333333,
              "#9c179e"
             ],
             [
              0.4444444444444444,
              "#bd3786"
             ],
             [
              0.5555555555555556,
              "#d8576b"
             ],
             [
              0.6666666666666666,
              "#ed7953"
             ],
             [
              0.7777777777777778,
              "#fb9f3a"
             ],
             [
              0.8888888888888888,
              "#fdca26"
             ],
             [
              1,
              "#f0f921"
             ]
            ],
            "type": "heatmap"
           }
          ],
          "heatmapgl": [
           {
            "colorbar": {
             "outlinewidth": 0,
             "ticks": ""
            },
            "colorscale": [
             [
              0,
              "#0d0887"
             ],
             [
              0.1111111111111111,
              "#46039f"
             ],
             [
              0.2222222222222222,
              "#7201a8"
             ],
             [
              0.3333333333333333,
              "#9c179e"
             ],
             [
              0.4444444444444444,
              "#bd3786"
             ],
             [
              0.5555555555555556,
              "#d8576b"
             ],
             [
              0.6666666666666666,
              "#ed7953"
             ],
             [
              0.7777777777777778,
              "#fb9f3a"
             ],
             [
              0.8888888888888888,
              "#fdca26"
             ],
             [
              1,
              "#f0f921"
             ]
            ],
            "type": "heatmapgl"
           }
          ],
          "histogram": [
           {
            "marker": {
             "pattern": {
              "fillmode": "overlay",
              "size": 10,
              "solidity": 0.2
             }
            },
            "type": "histogram"
           }
          ],
          "histogram2d": [
           {
            "colorbar": {
             "outlinewidth": 0,
             "ticks": ""
            },
            "colorscale": [
             [
              0,
              "#0d0887"
             ],
             [
              0.1111111111111111,
              "#46039f"
             ],
             [
              0.2222222222222222,
              "#7201a8"
             ],
             [
              0.3333333333333333,
              "#9c179e"
             ],
             [
              0.4444444444444444,
              "#bd3786"
             ],
             [
              0.5555555555555556,
              "#d8576b"
             ],
             [
              0.6666666666666666,
              "#ed7953"
             ],
             [
              0.7777777777777778,
              "#fb9f3a"
             ],
             [
              0.8888888888888888,
              "#fdca26"
             ],
             [
              1,
              "#f0f921"
             ]
            ],
            "type": "histogram2d"
           }
          ],
          "histogram2dcontour": [
           {
            "colorbar": {
             "outlinewidth": 0,
             "ticks": ""
            },
            "colorscale": [
             [
              0,
              "#0d0887"
             ],
             [
              0.1111111111111111,
              "#46039f"
             ],
             [
              0.2222222222222222,
              "#7201a8"
             ],
             [
              0.3333333333333333,
              "#9c179e"
             ],
             [
              0.4444444444444444,
              "#bd3786"
             ],
             [
              0.5555555555555556,
              "#d8576b"
             ],
             [
              0.6666666666666666,
              "#ed7953"
             ],
             [
              0.7777777777777778,
              "#fb9f3a"
             ],
             [
              0.8888888888888888,
              "#fdca26"
             ],
             [
              1,
              "#f0f921"
             ]
            ],
            "type": "histogram2dcontour"
           }
          ],
          "mesh3d": [
           {
            "colorbar": {
             "outlinewidth": 0,
             "ticks": ""
            },
            "type": "mesh3d"
           }
          ],
          "parcoords": [
           {
            "line": {
             "colorbar": {
              "outlinewidth": 0,
              "ticks": ""
             }
            },
            "type": "parcoords"
           }
          ],
          "pie": [
           {
            "automargin": true,
            "type": "pie"
           }
          ],
          "scatter": [
           {
            "fillpattern": {
             "fillmode": "overlay",
             "size": 10,
             "solidity": 0.2
            },
            "type": "scatter"
           }
          ],
          "scatter3d": [
           {
            "line": {
             "colorbar": {
              "outlinewidth": 0,
              "ticks": ""
             }
            },
            "marker": {
             "colorbar": {
              "outlinewidth": 0,
              "ticks": ""
             }
            },
            "type": "scatter3d"
           }
          ],
          "scattercarpet": [
           {
            "marker": {
             "colorbar": {
              "outlinewidth": 0,
              "ticks": ""
             }
            },
            "type": "scattercarpet"
           }
          ],
          "scattergeo": [
           {
            "marker": {
             "colorbar": {
              "outlinewidth": 0,
              "ticks": ""
             }
            },
            "type": "scattergeo"
           }
          ],
          "scattergl": [
           {
            "marker": {
             "colorbar": {
              "outlinewidth": 0,
              "ticks": ""
             }
            },
            "type": "scattergl"
           }
          ],
          "scattermapbox": [
           {
            "marker": {
             "colorbar": {
              "outlinewidth": 0,
              "ticks": ""
             }
            },
            "type": "scattermapbox"
           }
          ],
          "scatterpolar": [
           {
            "marker": {
             "colorbar": {
              "outlinewidth": 0,
              "ticks": ""
             }
            },
            "type": "scatterpolar"
           }
          ],
          "scatterpolargl": [
           {
            "marker": {
             "colorbar": {
              "outlinewidth": 0,
              "ticks": ""
             }
            },
            "type": "scatterpolargl"
           }
          ],
          "scatterternary": [
           {
            "marker": {
             "colorbar": {
              "outlinewidth": 0,
              "ticks": ""
             }
            },
            "type": "scatterternary"
           }
          ],
          "surface": [
           {
            "colorbar": {
             "outlinewidth": 0,
             "ticks": ""
            },
            "colorscale": [
             [
              0,
              "#0d0887"
             ],
             [
              0.1111111111111111,
              "#46039f"
             ],
             [
              0.2222222222222222,
              "#7201a8"
             ],
             [
              0.3333333333333333,
              "#9c179e"
             ],
             [
              0.4444444444444444,
              "#bd3786"
             ],
             [
              0.5555555555555556,
              "#d8576b"
             ],
             [
              0.6666666666666666,
              "#ed7953"
             ],
             [
              0.7777777777777778,
              "#fb9f3a"
             ],
             [
              0.8888888888888888,
              "#fdca26"
             ],
             [
              1,
              "#f0f921"
             ]
            ],
            "type": "surface"
           }
          ],
          "table": [
           {
            "cells": {
             "fill": {
              "color": "#EBF0F8"
             },
             "line": {
              "color": "white"
             }
            },
            "header": {
             "fill": {
              "color": "#C8D4E3"
             },
             "line": {
              "color": "white"
             }
            },
            "type": "table"
           }
          ]
         },
         "layout": {
          "annotationdefaults": {
           "arrowcolor": "#2a3f5f",
           "arrowhead": 0,
           "arrowwidth": 1
          },
          "autotypenumbers": "strict",
          "coloraxis": {
           "colorbar": {
            "outlinewidth": 0,
            "ticks": ""
           }
          },
          "colorscale": {
           "diverging": [
            [
             0,
             "#8e0152"
            ],
            [
             0.1,
             "#c51b7d"
            ],
            [
             0.2,
             "#de77ae"
            ],
            [
             0.3,
             "#f1b6da"
            ],
            [
             0.4,
             "#fde0ef"
            ],
            [
             0.5,
             "#f7f7f7"
            ],
            [
             0.6,
             "#e6f5d0"
            ],
            [
             0.7,
             "#b8e186"
            ],
            [
             0.8,
             "#7fbc41"
            ],
            [
             0.9,
             "#4d9221"
            ],
            [
             1,
             "#276419"
            ]
           ],
           "sequential": [
            [
             0,
             "#0d0887"
            ],
            [
             0.1111111111111111,
             "#46039f"
            ],
            [
             0.2222222222222222,
             "#7201a8"
            ],
            [
             0.3333333333333333,
             "#9c179e"
            ],
            [
             0.4444444444444444,
             "#bd3786"
            ],
            [
             0.5555555555555556,
             "#d8576b"
            ],
            [
             0.6666666666666666,
             "#ed7953"
            ],
            [
             0.7777777777777778,
             "#fb9f3a"
            ],
            [
             0.8888888888888888,
             "#fdca26"
            ],
            [
             1,
             "#f0f921"
            ]
           ],
           "sequentialminus": [
            [
             0,
             "#0d0887"
            ],
            [
             0.1111111111111111,
             "#46039f"
            ],
            [
             0.2222222222222222,
             "#7201a8"
            ],
            [
             0.3333333333333333,
             "#9c179e"
            ],
            [
             0.4444444444444444,
             "#bd3786"
            ],
            [
             0.5555555555555556,
             "#d8576b"
            ],
            [
             0.6666666666666666,
             "#ed7953"
            ],
            [
             0.7777777777777778,
             "#fb9f3a"
            ],
            [
             0.8888888888888888,
             "#fdca26"
            ],
            [
             1,
             "#f0f921"
            ]
           ]
          },
          "colorway": [
           "#636efa",
           "#EF553B",
           "#00cc96",
           "#ab63fa",
           "#FFA15A",
           "#19d3f3",
           "#FF6692",
           "#B6E880",
           "#FF97FF",
           "#FECB52"
          ],
          "font": {
           "color": "#2a3f5f"
          },
          "geo": {
           "bgcolor": "white",
           "lakecolor": "white",
           "landcolor": "white",
           "showlakes": true,
           "showland": true,
           "subunitcolor": "#C8D4E3"
          },
          "hoverlabel": {
           "align": "left"
          },
          "hovermode": "closest",
          "mapbox": {
           "style": "light"
          },
          "paper_bgcolor": "white",
          "plot_bgcolor": "white",
          "polar": {
           "angularaxis": {
            "gridcolor": "#EBF0F8",
            "linecolor": "#EBF0F8",
            "ticks": ""
           },
           "bgcolor": "white",
           "radialaxis": {
            "gridcolor": "#EBF0F8",
            "linecolor": "#EBF0F8",
            "ticks": ""
           }
          },
          "scene": {
           "xaxis": {
            "backgroundcolor": "white",
            "gridcolor": "#DFE8F3",
            "gridwidth": 2,
            "linecolor": "#EBF0F8",
            "showbackground": true,
            "ticks": "",
            "zerolinecolor": "#EBF0F8"
           },
           "yaxis": {
            "backgroundcolor": "white",
            "gridcolor": "#DFE8F3",
            "gridwidth": 2,
            "linecolor": "#EBF0F8",
            "showbackground": true,
            "ticks": "",
            "zerolinecolor": "#EBF0F8"
           },
           "zaxis": {
            "backgroundcolor": "white",
            "gridcolor": "#DFE8F3",
            "gridwidth": 2,
            "linecolor": "#EBF0F8",
            "showbackground": true,
            "ticks": "",
            "zerolinecolor": "#EBF0F8"
           }
          },
          "shapedefaults": {
           "line": {
            "color": "#2a3f5f"
           }
          },
          "ternary": {
           "aaxis": {
            "gridcolor": "#DFE8F3",
            "linecolor": "#A2B1C6",
            "ticks": ""
           },
           "baxis": {
            "gridcolor": "#DFE8F3",
            "linecolor": "#A2B1C6",
            "ticks": ""
           },
           "bgcolor": "white",
           "caxis": {
            "gridcolor": "#DFE8F3",
            "linecolor": "#A2B1C6",
            "ticks": ""
           }
          },
          "title": {
           "x": 0.05
          },
          "xaxis": {
           "automargin": true,
           "gridcolor": "#EBF0F8",
           "linecolor": "#EBF0F8",
           "ticks": "",
           "title": {
            "standoff": 15
           },
           "zerolinecolor": "#EBF0F8",
           "zerolinewidth": 2
          },
          "yaxis": {
           "automargin": true,
           "gridcolor": "#EBF0F8",
           "linecolor": "#EBF0F8",
           "ticks": "",
           "title": {
            "standoff": 15
           },
           "zerolinecolor": "#EBF0F8",
           "zerolinewidth": 2
          }
         }
        },
        "title": {
         "font": {
          "color": "Black",
          "size": 22
         },
         "text": "Topic Word Scores",
         "x": 0.5,
         "xanchor": "center",
         "yanchor": "top"
        },
        "width": 1000,
        "xaxis": {
         "anchor": "y",
         "domain": [
          0,
          0.175
         ],
         "showgrid": true
        },
        "xaxis2": {
         "anchor": "y2",
         "domain": [
          0.275,
          0.45
         ],
         "showgrid": true
        },
        "xaxis3": {
         "anchor": "y3",
         "domain": [
          0.55,
          0.7250000000000001
         ],
         "showgrid": true
        },
        "xaxis4": {
         "anchor": "y4",
         "domain": [
          0.825,
          1
         ],
         "showgrid": true
        },
        "xaxis5": {
         "anchor": "y5",
         "domain": [
          0,
          0.175
         ],
         "showgrid": true
        },
        "xaxis6": {
         "anchor": "y6",
         "domain": [
          0.275,
          0.45
         ],
         "showgrid": true
        },
        "xaxis7": {
         "anchor": "y7",
         "domain": [
          0.55,
          0.7250000000000001
         ],
         "showgrid": true
        },
        "xaxis8": {
         "anchor": "y8",
         "domain": [
          0.825,
          1
         ],
         "showgrid": true
        },
        "yaxis": {
         "anchor": "x",
         "domain": [
          0.6000000000000001,
          1
         ],
         "showgrid": true
        },
        "yaxis2": {
         "anchor": "x2",
         "domain": [
          0.6000000000000001,
          1
         ],
         "showgrid": true
        },
        "yaxis3": {
         "anchor": "x3",
         "domain": [
          0.6000000000000001,
          1
         ],
         "showgrid": true
        },
        "yaxis4": {
         "anchor": "x4",
         "domain": [
          0.6000000000000001,
          1
         ],
         "showgrid": true
        },
        "yaxis5": {
         "anchor": "x5",
         "domain": [
          0,
          0.4
         ],
         "showgrid": true
        },
        "yaxis6": {
         "anchor": "x6",
         "domain": [
          0,
          0.4
         ],
         "showgrid": true
        },
        "yaxis7": {
         "anchor": "x7",
         "domain": [
          0,
          0.4
         ],
         "showgrid": true
        },
        "yaxis8": {
         "anchor": "x8",
         "domain": [
          0,
          0.4
         ],
         "showgrid": true
        }
       }
      }
     },
     "metadata": {},
     "output_type": "display_data"
    }
   ],
   "source": [
    "##主题词条形图可视化\n",
    "topic_model.visualize_barchart()\n"
   ]
  },
  {
   "cell_type": "code",
   "execution_count": 45,
   "metadata": {},
   "outputs": [
    {
     "data": {
      "application/vnd.plotly.v1+json": {
       "config": {
        "plotlyServerURL": "https://plot.ly"
       },
       "data": [
        {
         "hoverinfo": "text",
         "marker": {
          "color": "rgb(61,153,112)"
         },
         "mode": "lines",
         "type": "scatter",
         "x": [
          0,
          0.7460364503310793,
          0.7460364503310793,
          0
         ],
         "xaxis": "x",
         "y": [
          -15,
          -15,
          -25,
          -25
         ],
         "yaxis": "y"
        },
        {
         "hoverinfo": "text",
         "marker": {
          "color": "rgb(61,153,112)"
         },
         "mode": "lines",
         "type": "scatter",
         "x": [
          0,
          0.7871607883478654,
          0.7871607883478654,
          0.7460364503310793
         ],
         "xaxis": "x",
         "y": [
          -5,
          -5,
          -20,
          -20
         ],
         "yaxis": "y"
        },
        {
         "hoverinfo": "text",
         "marker": {
          "color": "rgb(61,153,112)"
         },
         "mode": "lines",
         "type": "scatter",
         "x": [
          0,
          0.47681845007846757,
          0.47681845007846757,
          0
         ],
         "xaxis": "x",
         "y": [
          -65,
          -65,
          -75,
          -75
         ],
         "yaxis": "y"
        },
        {
         "hoverinfo": "text",
         "marker": {
          "color": "rgb(61,153,112)"
         },
         "mode": "lines",
         "type": "scatter",
         "x": [
          0,
          0.5690736258815734,
          0.5690736258815734,
          0.47681845007846757
         ],
         "xaxis": "x",
         "y": [
          -55,
          -55,
          -70,
          -70
         ],
         "yaxis": "y"
        },
        {
         "hoverinfo": "text",
         "marker": {
          "color": "rgb(61,153,112)"
         },
         "mode": "lines",
         "type": "scatter",
         "x": [
          0,
          0.6221528274029556,
          0.6221528274029556,
          0.5690736258815734
         ],
         "xaxis": "x",
         "y": [
          -45,
          -45,
          -62.5,
          -62.5
         ],
         "yaxis": "y"
        },
        {
         "hoverinfo": "text",
         "marker": {
          "color": "rgb(61,153,112)"
         },
         "mode": "lines",
         "type": "scatter",
         "x": [
          0,
          0.6673342833042832,
          0.6673342833042832,
          0.6221528274029556
         ],
         "xaxis": "x",
         "y": [
          -35,
          -35,
          -53.75,
          -53.75
         ],
         "yaxis": "y"
        },
        {
         "hoverinfo": "text",
         "marker": {
          "color": "rgb(61,153,112)"
         },
         "mode": "lines",
         "type": "scatter",
         "x": [
          0,
          0.6888823180828807,
          0.6888823180828807,
          0
         ],
         "xaxis": "x",
         "y": [
          -85,
          -85,
          -95,
          -95
         ],
         "yaxis": "y"
        },
        {
         "hoverinfo": "text",
         "marker": {
          "color": "rgb(61,153,112)"
         },
         "mode": "lines",
         "type": "scatter",
         "x": [
          0.6673342833042832,
          0.717660096383075,
          0.717660096383075,
          0.6888823180828807
         ],
         "xaxis": "x",
         "y": [
          -44.375,
          -44.375,
          -90,
          -90
         ],
         "yaxis": "y"
        },
        {
         "hoverinfo": "text",
         "marker": {
          "color": "rgb(61,153,112)"
         },
         "mode": "lines",
         "type": "scatter",
         "x": [
          0.7871607883478654,
          0.8159543340476734,
          0.8159543340476734,
          0.717660096383075
         ],
         "xaxis": "x",
         "y": [
          -12.5,
          -12.5,
          -67.1875,
          -67.1875
         ],
         "yaxis": "y"
        },
        {
         "hoverinfo": "text",
         "marker": {
          "color": "rgb(255,65,54)"
         },
         "mode": "lines",
         "type": "scatter",
         "x": [
          0,
          0.8871155771095895,
          0.8871155771095895,
          0
         ],
         "xaxis": "x",
         "y": [
          -105,
          -105,
          -115,
          -115
         ],
         "yaxis": "y"
        },
        {
         "hoverinfo": "text",
         "marker": {
          "color": "rgb(255,65,54)"
         },
         "mode": "lines",
         "type": "scatter",
         "x": [
          0,
          0.5669821552522374,
          0.5669821552522374,
          0
         ],
         "xaxis": "x",
         "y": [
          -125,
          -125,
          -135,
          -135
         ],
         "yaxis": "y"
        },
        {
         "hoverinfo": "text",
         "marker": {
          "color": "rgb(255,65,54)"
         },
         "mode": "lines",
         "type": "scatter",
         "x": [
          0.8871155771095895,
          0.9848859126750298,
          0.9848859126750298,
          0.5669821552522374
         ],
         "xaxis": "x",
         "y": [
          -110,
          -110,
          -130,
          -130
         ],
         "yaxis": "y"
        },
        {
         "hoverinfo": "text",
         "marker": {
          "color": "rgb(0,116,217)"
         },
         "mode": "lines",
         "type": "scatter",
         "x": [
          0.8159543340476734,
          1.13968982336988,
          1.13968982336988,
          0.9848859126750298
         ],
         "xaxis": "x",
         "y": [
          -39.84375,
          -39.84375,
          -120,
          -120
         ],
         "yaxis": "y"
        }
       ],
       "layout": {
        "autosize": false,
        "height": 410,
        "hoverlabel": {
         "bgcolor": "white",
         "font": {
          "family": "Rockwell",
          "size": 16
         }
        },
        "hovermode": "closest",
        "plot_bgcolor": "#ECEFF1",
        "showlegend": false,
        "template": {
         "data": {
          "bar": [
           {
            "error_x": {
             "color": "#2a3f5f"
            },
            "error_y": {
             "color": "#2a3f5f"
            },
            "marker": {
             "line": {
              "color": "white",
              "width": 0.5
             },
             "pattern": {
              "fillmode": "overlay",
              "size": 10,
              "solidity": 0.2
             }
            },
            "type": "bar"
           }
          ],
          "barpolar": [
           {
            "marker": {
             "line": {
              "color": "white",
              "width": 0.5
             },
             "pattern": {
              "fillmode": "overlay",
              "size": 10,
              "solidity": 0.2
             }
            },
            "type": "barpolar"
           }
          ],
          "carpet": [
           {
            "aaxis": {
             "endlinecolor": "#2a3f5f",
             "gridcolor": "#C8D4E3",
             "linecolor": "#C8D4E3",
             "minorgridcolor": "#C8D4E3",
             "startlinecolor": "#2a3f5f"
            },
            "baxis": {
             "endlinecolor": "#2a3f5f",
             "gridcolor": "#C8D4E3",
             "linecolor": "#C8D4E3",
             "minorgridcolor": "#C8D4E3",
             "startlinecolor": "#2a3f5f"
            },
            "type": "carpet"
           }
          ],
          "choropleth": [
           {
            "colorbar": {
             "outlinewidth": 0,
             "ticks": ""
            },
            "type": "choropleth"
           }
          ],
          "contour": [
           {
            "colorbar": {
             "outlinewidth": 0,
             "ticks": ""
            },
            "colorscale": [
             [
              0,
              "#0d0887"
             ],
             [
              0.1111111111111111,
              "#46039f"
             ],
             [
              0.2222222222222222,
              "#7201a8"
             ],
             [
              0.3333333333333333,
              "#9c179e"
             ],
             [
              0.4444444444444444,
              "#bd3786"
             ],
             [
              0.5555555555555556,
              "#d8576b"
             ],
             [
              0.6666666666666666,
              "#ed7953"
             ],
             [
              0.7777777777777778,
              "#fb9f3a"
             ],
             [
              0.8888888888888888,
              "#fdca26"
             ],
             [
              1,
              "#f0f921"
             ]
            ],
            "type": "contour"
           }
          ],
          "contourcarpet": [
           {
            "colorbar": {
             "outlinewidth": 0,
             "ticks": ""
            },
            "type": "contourcarpet"
           }
          ],
          "heatmap": [
           {
            "colorbar": {
             "outlinewidth": 0,
             "ticks": ""
            },
            "colorscale": [
             [
              0,
              "#0d0887"
             ],
             [
              0.1111111111111111,
              "#46039f"
             ],
             [
              0.2222222222222222,
              "#7201a8"
             ],
             [
              0.3333333333333333,
              "#9c179e"
             ],
             [
              0.4444444444444444,
              "#bd3786"
             ],
             [
              0.5555555555555556,
              "#d8576b"
             ],
             [
              0.6666666666666666,
              "#ed7953"
             ],
             [
              0.7777777777777778,
              "#fb9f3a"
             ],
             [
              0.8888888888888888,
              "#fdca26"
             ],
             [
              1,
              "#f0f921"
             ]
            ],
            "type": "heatmap"
           }
          ],
          "heatmapgl": [
           {
            "colorbar": {
             "outlinewidth": 0,
             "ticks": ""
            },
            "colorscale": [
             [
              0,
              "#0d0887"
             ],
             [
              0.1111111111111111,
              "#46039f"
             ],
             [
              0.2222222222222222,
              "#7201a8"
             ],
             [
              0.3333333333333333,
              "#9c179e"
             ],
             [
              0.4444444444444444,
              "#bd3786"
             ],
             [
              0.5555555555555556,
              "#d8576b"
             ],
             [
              0.6666666666666666,
              "#ed7953"
             ],
             [
              0.7777777777777778,
              "#fb9f3a"
             ],
             [
              0.8888888888888888,
              "#fdca26"
             ],
             [
              1,
              "#f0f921"
             ]
            ],
            "type": "heatmapgl"
           }
          ],
          "histogram": [
           {
            "marker": {
             "pattern": {
              "fillmode": "overlay",
              "size": 10,
              "solidity": 0.2
             }
            },
            "type": "histogram"
           }
          ],
          "histogram2d": [
           {
            "colorbar": {
             "outlinewidth": 0,
             "ticks": ""
            },
            "colorscale": [
             [
              0,
              "#0d0887"
             ],
             [
              0.1111111111111111,
              "#46039f"
             ],
             [
              0.2222222222222222,
              "#7201a8"
             ],
             [
              0.3333333333333333,
              "#9c179e"
             ],
             [
              0.4444444444444444,
              "#bd3786"
             ],
             [
              0.5555555555555556,
              "#d8576b"
             ],
             [
              0.6666666666666666,
              "#ed7953"
             ],
             [
              0.7777777777777778,
              "#fb9f3a"
             ],
             [
              0.8888888888888888,
              "#fdca26"
             ],
             [
              1,
              "#f0f921"
             ]
            ],
            "type": "histogram2d"
           }
          ],
          "histogram2dcontour": [
           {
            "colorbar": {
             "outlinewidth": 0,
             "ticks": ""
            },
            "colorscale": [
             [
              0,
              "#0d0887"
             ],
             [
              0.1111111111111111,
              "#46039f"
             ],
             [
              0.2222222222222222,
              "#7201a8"
             ],
             [
              0.3333333333333333,
              "#9c179e"
             ],
             [
              0.4444444444444444,
              "#bd3786"
             ],
             [
              0.5555555555555556,
              "#d8576b"
             ],
             [
              0.6666666666666666,
              "#ed7953"
             ],
             [
              0.7777777777777778,
              "#fb9f3a"
             ],
             [
              0.8888888888888888,
              "#fdca26"
             ],
             [
              1,
              "#f0f921"
             ]
            ],
            "type": "histogram2dcontour"
           }
          ],
          "mesh3d": [
           {
            "colorbar": {
             "outlinewidth": 0,
             "ticks": ""
            },
            "type": "mesh3d"
           }
          ],
          "parcoords": [
           {
            "line": {
             "colorbar": {
              "outlinewidth": 0,
              "ticks": ""
             }
            },
            "type": "parcoords"
           }
          ],
          "pie": [
           {
            "automargin": true,
            "type": "pie"
           }
          ],
          "scatter": [
           {
            "fillpattern": {
             "fillmode": "overlay",
             "size": 10,
             "solidity": 0.2
            },
            "type": "scatter"
           }
          ],
          "scatter3d": [
           {
            "line": {
             "colorbar": {
              "outlinewidth": 0,
              "ticks": ""
             }
            },
            "marker": {
             "colorbar": {
              "outlinewidth": 0,
              "ticks": ""
             }
            },
            "type": "scatter3d"
           }
          ],
          "scattercarpet": [
           {
            "marker": {
             "colorbar": {
              "outlinewidth": 0,
              "ticks": ""
             }
            },
            "type": "scattercarpet"
           }
          ],
          "scattergeo": [
           {
            "marker": {
             "colorbar": {
              "outlinewidth": 0,
              "ticks": ""
             }
            },
            "type": "scattergeo"
           }
          ],
          "scattergl": [
           {
            "marker": {
             "colorbar": {
              "outlinewidth": 0,
              "ticks": ""
             }
            },
            "type": "scattergl"
           }
          ],
          "scattermapbox": [
           {
            "marker": {
             "colorbar": {
              "outlinewidth": 0,
              "ticks": ""
             }
            },
            "type": "scattermapbox"
           }
          ],
          "scatterpolar": [
           {
            "marker": {
             "colorbar": {
              "outlinewidth": 0,
              "ticks": ""
             }
            },
            "type": "scatterpolar"
           }
          ],
          "scatterpolargl": [
           {
            "marker": {
             "colorbar": {
              "outlinewidth": 0,
              "ticks": ""
             }
            },
            "type": "scatterpolargl"
           }
          ],
          "scatterternary": [
           {
            "marker": {
             "colorbar": {
              "outlinewidth": 0,
              "ticks": ""
             }
            },
            "type": "scatterternary"
           }
          ],
          "surface": [
           {
            "colorbar": {
             "outlinewidth": 0,
             "ticks": ""
            },
            "colorscale": [
             [
              0,
              "#0d0887"
             ],
             [
              0.1111111111111111,
              "#46039f"
             ],
             [
              0.2222222222222222,
              "#7201a8"
             ],
             [
              0.3333333333333333,
              "#9c179e"
             ],
             [
              0.4444444444444444,
              "#bd3786"
             ],
             [
              0.5555555555555556,
              "#d8576b"
             ],
             [
              0.6666666666666666,
              "#ed7953"
             ],
             [
              0.7777777777777778,
              "#fb9f3a"
             ],
             [
              0.8888888888888888,
              "#fdca26"
             ],
             [
              1,
              "#f0f921"
             ]
            ],
            "type": "surface"
           }
          ],
          "table": [
           {
            "cells": {
             "fill": {
              "color": "#EBF0F8"
             },
             "line": {
              "color": "white"
             }
            },
            "header": {
             "fill": {
              "color": "#C8D4E3"
             },
             "line": {
              "color": "white"
             }
            },
            "type": "table"
           }
          ]
         },
         "layout": {
          "annotationdefaults": {
           "arrowcolor": "#2a3f5f",
           "arrowhead": 0,
           "arrowwidth": 1
          },
          "autotypenumbers": "strict",
          "coloraxis": {
           "colorbar": {
            "outlinewidth": 0,
            "ticks": ""
           }
          },
          "colorscale": {
           "diverging": [
            [
             0,
             "#8e0152"
            ],
            [
             0.1,
             "#c51b7d"
            ],
            [
             0.2,
             "#de77ae"
            ],
            [
             0.3,
             "#f1b6da"
            ],
            [
             0.4,
             "#fde0ef"
            ],
            [
             0.5,
             "#f7f7f7"
            ],
            [
             0.6,
             "#e6f5d0"
            ],
            [
             0.7,
             "#b8e186"
            ],
            [
             0.8,
             "#7fbc41"
            ],
            [
             0.9,
             "#4d9221"
            ],
            [
             1,
             "#276419"
            ]
           ],
           "sequential": [
            [
             0,
             "#0d0887"
            ],
            [
             0.1111111111111111,
             "#46039f"
            ],
            [
             0.2222222222222222,
             "#7201a8"
            ],
            [
             0.3333333333333333,
             "#9c179e"
            ],
            [
             0.4444444444444444,
             "#bd3786"
            ],
            [
             0.5555555555555556,
             "#d8576b"
            ],
            [
             0.6666666666666666,
             "#ed7953"
            ],
            [
             0.7777777777777778,
             "#fb9f3a"
            ],
            [
             0.8888888888888888,
             "#fdca26"
            ],
            [
             1,
             "#f0f921"
            ]
           ],
           "sequentialminus": [
            [
             0,
             "#0d0887"
            ],
            [
             0.1111111111111111,
             "#46039f"
            ],
            [
             0.2222222222222222,
             "#7201a8"
            ],
            [
             0.3333333333333333,
             "#9c179e"
            ],
            [
             0.4444444444444444,
             "#bd3786"
            ],
            [
             0.5555555555555556,
             "#d8576b"
            ],
            [
             0.6666666666666666,
             "#ed7953"
            ],
            [
             0.7777777777777778,
             "#fb9f3a"
            ],
            [
             0.8888888888888888,
             "#fdca26"
            ],
            [
             1,
             "#f0f921"
            ]
           ]
          },
          "colorway": [
           "#636efa",
           "#EF553B",
           "#00cc96",
           "#ab63fa",
           "#FFA15A",
           "#19d3f3",
           "#FF6692",
           "#B6E880",
           "#FF97FF",
           "#FECB52"
          ],
          "font": {
           "color": "#2a3f5f"
          },
          "geo": {
           "bgcolor": "white",
           "lakecolor": "white",
           "landcolor": "white",
           "showlakes": true,
           "showland": true,
           "subunitcolor": "#C8D4E3"
          },
          "hoverlabel": {
           "align": "left"
          },
          "hovermode": "closest",
          "mapbox": {
           "style": "light"
          },
          "paper_bgcolor": "white",
          "plot_bgcolor": "white",
          "polar": {
           "angularaxis": {
            "gridcolor": "#EBF0F8",
            "linecolor": "#EBF0F8",
            "ticks": ""
           },
           "bgcolor": "white",
           "radialaxis": {
            "gridcolor": "#EBF0F8",
            "linecolor": "#EBF0F8",
            "ticks": ""
           }
          },
          "scene": {
           "xaxis": {
            "backgroundcolor": "white",
            "gridcolor": "#DFE8F3",
            "gridwidth": 2,
            "linecolor": "#EBF0F8",
            "showbackground": true,
            "ticks": "",
            "zerolinecolor": "#EBF0F8"
           },
           "yaxis": {
            "backgroundcolor": "white",
            "gridcolor": "#DFE8F3",
            "gridwidth": 2,
            "linecolor": "#EBF0F8",
            "showbackground": true,
            "ticks": "",
            "zerolinecolor": "#EBF0F8"
           },
           "zaxis": {
            "backgroundcolor": "white",
            "gridcolor": "#DFE8F3",
            "gridwidth": 2,
            "linecolor": "#EBF0F8",
            "showbackground": true,
            "ticks": "",
            "zerolinecolor": "#EBF0F8"
           }
          },
          "shapedefaults": {
           "line": {
            "color": "#2a3f5f"
           }
          },
          "ternary": {
           "aaxis": {
            "gridcolor": "#DFE8F3",
            "linecolor": "#A2B1C6",
            "ticks": ""
           },
           "baxis": {
            "gridcolor": "#DFE8F3",
            "linecolor": "#A2B1C6",
            "ticks": ""
           },
           "bgcolor": "white",
           "caxis": {
            "gridcolor": "#DFE8F3",
            "linecolor": "#A2B1C6",
            "ticks": ""
           }
          },
          "title": {
           "x": 0.05
          },
          "xaxis": {
           "automargin": true,
           "gridcolor": "#EBF0F8",
           "linecolor": "#EBF0F8",
           "ticks": "",
           "title": {
            "standoff": 15
           },
           "zerolinecolor": "#EBF0F8",
           "zerolinewidth": 2
          },
          "yaxis": {
           "automargin": true,
           "gridcolor": "#EBF0F8",
           "linecolor": "#EBF0F8",
           "ticks": "",
           "title": {
            "standoff": 15
           },
           "zerolinecolor": "#EBF0F8",
           "zerolinewidth": 2
          }
         }
        },
        "title": {
         "font": {
          "color": "Black",
          "size": 22
         },
         "text": "<b>Hierarchical Clustering</b>",
         "x": 0.5,
         "xanchor": "center",
         "yanchor": "top"
        },
        "width": 1000,
        "xaxis": {
         "mirror": "allticks",
         "rangemode": "tozero",
         "showgrid": false,
         "showline": true,
         "showticklabels": true,
         "ticks": "outside",
         "type": "linear",
         "zeroline": false
        },
        "yaxis": {
         "mirror": "allticks",
         "range": [
          -140,
          0
         ],
         "rangemode": "tozero",
         "showgrid": false,
         "showline": true,
         "showticklabels": true,
         "tickmode": "array",
         "ticks": "outside",
         "ticktext": [
          "11_舞蹈_瑜伽_易",
          "3_音乐_歌曲_演唱",
          "7_评_中国_模特",
          "10_刘烨_角色_评",
          "5_表演_评_演员",
          "4_评_中_导演",
          "0_中_评_角色",
          "1_评_性感_气质",
          "2_电影_香港_导演",
          "12_马思纯_周迅_魏千翔",
          "13_中国_赵本山_企业",
          "8_齐达内_技术_球员",
          "9_节目_主持人_杨帆",
          "6_主持_主持人_新闻"
         ],
         "tickvals": [
          -5,
          -15,
          -25,
          -35,
          -45,
          -55,
          -65,
          -75,
          -85,
          -95,
          -105,
          -115,
          -125,
          -135
         ],
         "type": "linear",
         "zeroline": false
        }
       }
      }
     },
     "metadata": {},
     "output_type": "display_data"
    }
   ],
   "source": [
    "#为了理解主题的潜在层次结构，我们可以使用 scipy.cluster.hierarchy 创建聚类并可视化它们之间的关系。这有助于合并相似主题，达到降低主题模型主题数量nr_topics。\n",
    "topic_model.visualize_hierarchy()"
   ]
  },
  {
   "cell_type": "code",
   "execution_count": 46,
   "metadata": {},
   "outputs": [
    {
     "data": {
      "application/vnd.plotly.v1+json": {
       "config": {
        "plotlyServerURL": "https://plot.ly"
       },
       "data": [
        {
         "coloraxis": "coloraxis",
         "hovertemplate": "x: %{x}<br>y: %{y}<br>Similarity Score: %{z}<extra></extra>",
         "name": "0",
         "type": "heatmap",
         "x": [
          "0_中_评_角色",
          "3_音乐_歌曲_演唱",
          "11_舞蹈_瑜伽_易",
          "1_评_性感_气质",
          "2_电影_香港_导演",
          "10_刘烨_角色_评",
          "4_评_中_导演",
          "12_马思纯_周迅_魏千翔",
          "5_表演_评_演员",
          "6_主持_主持人_新闻",
          "7_评_中国_模特",
          "8_齐达内_技术_球员",
          "9_节目_主持人_杨帆",
          "13_中国_赵本山_企业"
         ],
         "xaxis": "x",
         "y": [
          "0_中_评_角色",
          "3_音乐_歌曲_演唱",
          "11_舞蹈_瑜伽_易",
          "1_评_性感_气质",
          "2_电影_香港_导演",
          "10_刘烨_角色_评",
          "4_评_中_导演",
          "12_马思纯_周迅_魏千翔",
          "5_表演_评_演员",
          "6_主持_主持人_新闻",
          "7_评_中国_模特",
          "8_齐达内_技术_球员",
          "9_节目_主持人_杨帆",
          "13_中国_赵本山_企业"
         ],
         "yaxis": "y",
         "z": [
          [
           1,
           0.852117446448194,
           0.8397268934023119,
           0.7380201004805751,
           0.7386636104170983,
           0.7559840502902482,
           0.94911684201703,
           0.9078296787728255,
           0.6251803959436594,
           0.7269227124875953,
           0.7228790339536904,
           0.7139692504025711,
           0.8212152769895151,
           0.5707910716237131
          ],
          [
           0.852117446448194,
           1.0000000000000013,
           0.8288319829896068,
           0.7382283201825769,
           0.7126594574092386,
           0.7322190553220937,
           0.8401891144162167,
           0.8053497091024313,
           0.683199877832757,
           0.7460494634219598,
           0.7358142807749373,
           0.706673977169858,
           0.7964593753870984,
           0.636762560600993
          ],
          [
           0.8397268934023119,
           0.8288319829896068,
           1.0000000000000013,
           0.7510224436695672,
           0.73668322610926,
           0.7729948065013499,
           0.8446834648614281,
           0.8412879764373662,
           0.7184804585339976,
           0.6926989737690085,
           0.7432994615015734,
           0.7690018727863571,
           0.7548326624605244,
           0.601394510535479
          ],
          [
           0.7380201004805751,
           0.7382283201825769,
           0.7510224436695672,
           1.0000000000000004,
           0.751100441705863,
           0.8393873175778243,
           0.7798492134737257,
           0.8016839012880468,
           0.8634051245222762,
           0.72776534927222,
           0.9038882794429631,
           0.7172536575246466,
           0.6678260311806192,
           0.621233900544266
          ],
          [
           0.7386636104170983,
           0.7126594574092386,
           0.73668322610926,
           0.751100441705863,
           1.0000000000000009,
           0.883591804651318,
           0.8705534926212561,
           0.8080323295056877,
           0.7848382040090731,
           0.7436283053112651,
           0.8084564025932492,
           0.7336266668626062,
           0.8022575608511314,
           0.7789254884072799
          ],
          [
           0.7559840502902482,
           0.7322190553220937,
           0.7729948065013499,
           0.8393873175778243,
           0.883591804651318,
           1.0000000000000009,
           0.8828882521352047,
           0.8463640167253819,
           0.8582997671065826,
           0.7913808416927031,
           0.8615714986493537,
           0.7920431884489575,
           0.8206870158952349,
           0.6815801721875917
          ],
          [
           0.94911684201703,
           0.8401891144162167,
           0.8446834648614281,
           0.7798492134737257,
           0.8705534926212561,
           0.8828882521352047,
           1,
           0.9015804503541662,
           0.6999159621611255,
           0.7814964221784471,
           0.8304019713425829,
           0.7979672457826598,
           0.8917202243046847,
           0.6825091942035892
          ],
          [
           0.9078296787728255,
           0.8053497091024313,
           0.8412879764373662,
           0.8016839012880468,
           0.8080323295056877,
           0.8463640167253819,
           0.9015804503541662,
           1.0000000000000002,
           0.8246796904741318,
           0.7725201484892981,
           0.7130254280707558,
           0.6968046656426936,
           0.763473432003427,
           0.5690163404422924
          ],
          [
           0.6251803959436594,
           0.683199877832757,
           0.7184804585339976,
           0.8634051245222762,
           0.7848382040090731,
           0.8582997671065826,
           0.6999159621611255,
           0.8246796904741318,
           1.0000000000000002,
           0.7671923137179849,
           0.7340774207067027,
           0.6547699987836412,
           0.6444945030612963,
           0.6270170558648513
          ],
          [
           0.7269227124875953,
           0.7460494634219598,
           0.6926989737690085,
           0.72776534927222,
           0.7436283053112651,
           0.7913808416927031,
           0.7814964221784471,
           0.7725201484892981,
           0.7671923137179849,
           1.0000000000000004,
           0.7449852565929694,
           0.6512402550155115,
           0.9027794127726946,
           0.6525551594954405
          ],
          [
           0.7228790339536904,
           0.7358142807749373,
           0.7432994615015734,
           0.9038882794429631,
           0.8084564025932492,
           0.8615714986493537,
           0.8304019713425829,
           0.7130254280707558,
           0.7340774207067027,
           0.7449852565929694,
           1.0000000000000009,
           0.8430869758299598,
           0.7930921752332992,
           0.748681123621068
          ],
          [
           0.7139692504025711,
           0.706673977169858,
           0.7690018727863571,
           0.7172536575246466,
           0.7336266668626062,
           0.7920431884489575,
           0.7979672457826598,
           0.6968046656426936,
           0.6547699987836412,
           0.6512402550155115,
           0.8430869758299598,
           1.0000000000000009,
           0.7796447676284217,
           0.7541968433713766
          ],
          [
           0.8212152769895151,
           0.7964593753870984,
           0.7548326624605244,
           0.6678260311806192,
           0.8022575608511314,
           0.8206870158952349,
           0.8917202243046847,
           0.763473432003427,
           0.6444945030612963,
           0.9027794127726946,
           0.7930921752332992,
           0.7796447676284217,
           1.0000000000000004,
           0.7664602623834151
          ],
          [
           0.5707910716237131,
           0.636762560600993,
           0.601394510535479,
           0.621233900544266,
           0.7789254884072799,
           0.6815801721875917,
           0.6825091942035892,
           0.5690163404422924,
           0.6270170558648513,
           0.6525551594954405,
           0.748681123621068,
           0.7541968433713766,
           0.7664602623834151,
           1.000000000000001
          ]
         ]
        }
       ],
       "layout": {
        "coloraxis": {
         "colorbar": {
          "title": {
           "text": "Similarity Score"
          }
         },
         "colorscale": [
          [
           0,
           "rgb(247,252,240)"
          ],
          [
           0.125,
           "rgb(224,243,219)"
          ],
          [
           0.25,
           "rgb(204,235,197)"
          ],
          [
           0.375,
           "rgb(168,221,181)"
          ],
          [
           0.5,
           "rgb(123,204,196)"
          ],
          [
           0.625,
           "rgb(78,179,211)"
          ],
          [
           0.75,
           "rgb(43,140,190)"
          ],
          [
           0.875,
           "rgb(8,104,172)"
          ],
          [
           1,
           "rgb(8,64,129)"
          ]
         ]
        },
        "height": 1000,
        "hoverlabel": {
         "bgcolor": "white",
         "font": {
          "family": "Rockwell",
          "size": 16
         }
        },
        "legend": {
         "title": {
          "text": "Trend"
         }
        },
        "margin": {
         "t": 60
        },
        "showlegend": true,
        "template": {
         "data": {
          "bar": [
           {
            "error_x": {
             "color": "#2a3f5f"
            },
            "error_y": {
             "color": "#2a3f5f"
            },
            "marker": {
             "line": {
              "color": "#E5ECF6",
              "width": 0.5
             },
             "pattern": {
              "fillmode": "overlay",
              "size": 10,
              "solidity": 0.2
             }
            },
            "type": "bar"
           }
          ],
          "barpolar": [
           {
            "marker": {
             "line": {
              "color": "#E5ECF6",
              "width": 0.5
             },
             "pattern": {
              "fillmode": "overlay",
              "size": 10,
              "solidity": 0.2
             }
            },
            "type": "barpolar"
           }
          ],
          "carpet": [
           {
            "aaxis": {
             "endlinecolor": "#2a3f5f",
             "gridcolor": "white",
             "linecolor": "white",
             "minorgridcolor": "white",
             "startlinecolor": "#2a3f5f"
            },
            "baxis": {
             "endlinecolor": "#2a3f5f",
             "gridcolor": "white",
             "linecolor": "white",
             "minorgridcolor": "white",
             "startlinecolor": "#2a3f5f"
            },
            "type": "carpet"
           }
          ],
          "choropleth": [
           {
            "colorbar": {
             "outlinewidth": 0,
             "ticks": ""
            },
            "type": "choropleth"
           }
          ],
          "contour": [
           {
            "colorbar": {
             "outlinewidth": 0,
             "ticks": ""
            },
            "colorscale": [
             [
              0,
              "#0d0887"
             ],
             [
              0.1111111111111111,
              "#46039f"
             ],
             [
              0.2222222222222222,
              "#7201a8"
             ],
             [
              0.3333333333333333,
              "#9c179e"
             ],
             [
              0.4444444444444444,
              "#bd3786"
             ],
             [
              0.5555555555555556,
              "#d8576b"
             ],
             [
              0.6666666666666666,
              "#ed7953"
             ],
             [
              0.7777777777777778,
              "#fb9f3a"
             ],
             [
              0.8888888888888888,
              "#fdca26"
             ],
             [
              1,
              "#f0f921"
             ]
            ],
            "type": "contour"
           }
          ],
          "contourcarpet": [
           {
            "colorbar": {
             "outlinewidth": 0,
             "ticks": ""
            },
            "type": "contourcarpet"
           }
          ],
          "heatmap": [
           {
            "colorbar": {
             "outlinewidth": 0,
             "ticks": ""
            },
            "colorscale": [
             [
              0,
              "#0d0887"
             ],
             [
              0.1111111111111111,
              "#46039f"
             ],
             [
              0.2222222222222222,
              "#7201a8"
             ],
             [
              0.3333333333333333,
              "#9c179e"
             ],
             [
              0.4444444444444444,
              "#bd3786"
             ],
             [
              0.5555555555555556,
              "#d8576b"
             ],
             [
              0.6666666666666666,
              "#ed7953"
             ],
             [
              0.7777777777777778,
              "#fb9f3a"
             ],
             [
              0.8888888888888888,
              "#fdca26"
             ],
             [
              1,
              "#f0f921"
             ]
            ],
            "type": "heatmap"
           }
          ],
          "heatmapgl": [
           {
            "colorbar": {
             "outlinewidth": 0,
             "ticks": ""
            },
            "colorscale": [
             [
              0,
              "#0d0887"
             ],
             [
              0.1111111111111111,
              "#46039f"
             ],
             [
              0.2222222222222222,
              "#7201a8"
             ],
             [
              0.3333333333333333,
              "#9c179e"
             ],
             [
              0.4444444444444444,
              "#bd3786"
             ],
             [
              0.5555555555555556,
              "#d8576b"
             ],
             [
              0.6666666666666666,
              "#ed7953"
             ],
             [
              0.7777777777777778,
              "#fb9f3a"
             ],
             [
              0.8888888888888888,
              "#fdca26"
             ],
             [
              1,
              "#f0f921"
             ]
            ],
            "type": "heatmapgl"
           }
          ],
          "histogram": [
           {
            "marker": {
             "pattern": {
              "fillmode": "overlay",
              "size": 10,
              "solidity": 0.2
             }
            },
            "type": "histogram"
           }
          ],
          "histogram2d": [
           {
            "colorbar": {
             "outlinewidth": 0,
             "ticks": ""
            },
            "colorscale": [
             [
              0,
              "#0d0887"
             ],
             [
              0.1111111111111111,
              "#46039f"
             ],
             [
              0.2222222222222222,
              "#7201a8"
             ],
             [
              0.3333333333333333,
              "#9c179e"
             ],
             [
              0.4444444444444444,
              "#bd3786"
             ],
             [
              0.5555555555555556,
              "#d8576b"
             ],
             [
              0.6666666666666666,
              "#ed7953"
             ],
             [
              0.7777777777777778,
              "#fb9f3a"
             ],
             [
              0.8888888888888888,
              "#fdca26"
             ],
             [
              1,
              "#f0f921"
             ]
            ],
            "type": "histogram2d"
           }
          ],
          "histogram2dcontour": [
           {
            "colorbar": {
             "outlinewidth": 0,
             "ticks": ""
            },
            "colorscale": [
             [
              0,
              "#0d0887"
             ],
             [
              0.1111111111111111,
              "#46039f"
             ],
             [
              0.2222222222222222,
              "#7201a8"
             ],
             [
              0.3333333333333333,
              "#9c179e"
             ],
             [
              0.4444444444444444,
              "#bd3786"
             ],
             [
              0.5555555555555556,
              "#d8576b"
             ],
             [
              0.6666666666666666,
              "#ed7953"
             ],
             [
              0.7777777777777778,
              "#fb9f3a"
             ],
             [
              0.8888888888888888,
              "#fdca26"
             ],
             [
              1,
              "#f0f921"
             ]
            ],
            "type": "histogram2dcontour"
           }
          ],
          "mesh3d": [
           {
            "colorbar": {
             "outlinewidth": 0,
             "ticks": ""
            },
            "type": "mesh3d"
           }
          ],
          "parcoords": [
           {
            "line": {
             "colorbar": {
              "outlinewidth": 0,
              "ticks": ""
             }
            },
            "type": "parcoords"
           }
          ],
          "pie": [
           {
            "automargin": true,
            "type": "pie"
           }
          ],
          "scatter": [
           {
            "fillpattern": {
             "fillmode": "overlay",
             "size": 10,
             "solidity": 0.2
            },
            "type": "scatter"
           }
          ],
          "scatter3d": [
           {
            "line": {
             "colorbar": {
              "outlinewidth": 0,
              "ticks": ""
             }
            },
            "marker": {
             "colorbar": {
              "outlinewidth": 0,
              "ticks": ""
             }
            },
            "type": "scatter3d"
           }
          ],
          "scattercarpet": [
           {
            "marker": {
             "colorbar": {
              "outlinewidth": 0,
              "ticks": ""
             }
            },
            "type": "scattercarpet"
           }
          ],
          "scattergeo": [
           {
            "marker": {
             "colorbar": {
              "outlinewidth": 0,
              "ticks": ""
             }
            },
            "type": "scattergeo"
           }
          ],
          "scattergl": [
           {
            "marker": {
             "colorbar": {
              "outlinewidth": 0,
              "ticks": ""
             }
            },
            "type": "scattergl"
           }
          ],
          "scattermapbox": [
           {
            "marker": {
             "colorbar": {
              "outlinewidth": 0,
              "ticks": ""
             }
            },
            "type": "scattermapbox"
           }
          ],
          "scatterpolar": [
           {
            "marker": {
             "colorbar": {
              "outlinewidth": 0,
              "ticks": ""
             }
            },
            "type": "scatterpolar"
           }
          ],
          "scatterpolargl": [
           {
            "marker": {
             "colorbar": {
              "outlinewidth": 0,
              "ticks": ""
             }
            },
            "type": "scatterpolargl"
           }
          ],
          "scatterternary": [
           {
            "marker": {
             "colorbar": {
              "outlinewidth": 0,
              "ticks": ""
             }
            },
            "type": "scatterternary"
           }
          ],
          "surface": [
           {
            "colorbar": {
             "outlinewidth": 0,
             "ticks": ""
            },
            "colorscale": [
             [
              0,
              "#0d0887"
             ],
             [
              0.1111111111111111,
              "#46039f"
             ],
             [
              0.2222222222222222,
              "#7201a8"
             ],
             [
              0.3333333333333333,
              "#9c179e"
             ],
             [
              0.4444444444444444,
              "#bd3786"
             ],
             [
              0.5555555555555556,
              "#d8576b"
             ],
             [
              0.6666666666666666,
              "#ed7953"
             ],
             [
              0.7777777777777778,
              "#fb9f3a"
             ],
             [
              0.8888888888888888,
              "#fdca26"
             ],
             [
              1,
              "#f0f921"
             ]
            ],
            "type": "surface"
           }
          ],
          "table": [
           {
            "cells": {
             "fill": {
              "color": "#EBF0F8"
             },
             "line": {
              "color": "white"
             }
            },
            "header": {
             "fill": {
              "color": "#C8D4E3"
             },
             "line": {
              "color": "white"
             }
            },
            "type": "table"
           }
          ]
         },
         "layout": {
          "annotationdefaults": {
           "arrowcolor": "#2a3f5f",
           "arrowhead": 0,
           "arrowwidth": 1
          },
          "autotypenumbers": "strict",
          "coloraxis": {
           "colorbar": {
            "outlinewidth": 0,
            "ticks": ""
           }
          },
          "colorscale": {
           "diverging": [
            [
             0,
             "#8e0152"
            ],
            [
             0.1,
             "#c51b7d"
            ],
            [
             0.2,
             "#de77ae"
            ],
            [
             0.3,
             "#f1b6da"
            ],
            [
             0.4,
             "#fde0ef"
            ],
            [
             0.5,
             "#f7f7f7"
            ],
            [
             0.6,
             "#e6f5d0"
            ],
            [
             0.7,
             "#b8e186"
            ],
            [
             0.8,
             "#7fbc41"
            ],
            [
             0.9,
             "#4d9221"
            ],
            [
             1,
             "#276419"
            ]
           ],
           "sequential": [
            [
             0,
             "#0d0887"
            ],
            [
             0.1111111111111111,
             "#46039f"
            ],
            [
             0.2222222222222222,
             "#7201a8"
            ],
            [
             0.3333333333333333,
             "#9c179e"
            ],
            [
             0.4444444444444444,
             "#bd3786"
            ],
            [
             0.5555555555555556,
             "#d8576b"
            ],
            [
             0.6666666666666666,
             "#ed7953"
            ],
            [
             0.7777777777777778,
             "#fb9f3a"
            ],
            [
             0.8888888888888888,
             "#fdca26"
            ],
            [
             1,
             "#f0f921"
            ]
           ],
           "sequentialminus": [
            [
             0,
             "#0d0887"
            ],
            [
             0.1111111111111111,
             "#46039f"
            ],
            [
             0.2222222222222222,
             "#7201a8"
            ],
            [
             0.3333333333333333,
             "#9c179e"
            ],
            [
             0.4444444444444444,
             "#bd3786"
            ],
            [
             0.5555555555555556,
             "#d8576b"
            ],
            [
             0.6666666666666666,
             "#ed7953"
            ],
            [
             0.7777777777777778,
             "#fb9f3a"
            ],
            [
             0.8888888888888888,
             "#fdca26"
            ],
            [
             1,
             "#f0f921"
            ]
           ]
          },
          "colorway": [
           "#636efa",
           "#EF553B",
           "#00cc96",
           "#ab63fa",
           "#FFA15A",
           "#19d3f3",
           "#FF6692",
           "#B6E880",
           "#FF97FF",
           "#FECB52"
          ],
          "font": {
           "color": "#2a3f5f"
          },
          "geo": {
           "bgcolor": "white",
           "lakecolor": "white",
           "landcolor": "#E5ECF6",
           "showlakes": true,
           "showland": true,
           "subunitcolor": "white"
          },
          "hoverlabel": {
           "align": "left"
          },
          "hovermode": "closest",
          "mapbox": {
           "style": "light"
          },
          "paper_bgcolor": "white",
          "plot_bgcolor": "#E5ECF6",
          "polar": {
           "angularaxis": {
            "gridcolor": "white",
            "linecolor": "white",
            "ticks": ""
           },
           "bgcolor": "#E5ECF6",
           "radialaxis": {
            "gridcolor": "white",
            "linecolor": "white",
            "ticks": ""
           }
          },
          "scene": {
           "xaxis": {
            "backgroundcolor": "#E5ECF6",
            "gridcolor": "white",
            "gridwidth": 2,
            "linecolor": "white",
            "showbackground": true,
            "ticks": "",
            "zerolinecolor": "white"
           },
           "yaxis": {
            "backgroundcolor": "#E5ECF6",
            "gridcolor": "white",
            "gridwidth": 2,
            "linecolor": "white",
            "showbackground": true,
            "ticks": "",
            "zerolinecolor": "white"
           },
           "zaxis": {
            "backgroundcolor": "#E5ECF6",
            "gridcolor": "white",
            "gridwidth": 2,
            "linecolor": "white",
            "showbackground": true,
            "ticks": "",
            "zerolinecolor": "white"
           }
          },
          "shapedefaults": {
           "line": {
            "color": "#2a3f5f"
           }
          },
          "ternary": {
           "aaxis": {
            "gridcolor": "white",
            "linecolor": "white",
            "ticks": ""
           },
           "baxis": {
            "gridcolor": "white",
            "linecolor": "white",
            "ticks": ""
           },
           "bgcolor": "#E5ECF6",
           "caxis": {
            "gridcolor": "white",
            "linecolor": "white",
            "ticks": ""
           }
          },
          "title": {
           "x": 0.05
          },
          "xaxis": {
           "automargin": true,
           "gridcolor": "white",
           "linecolor": "white",
           "ticks": "",
           "title": {
            "standoff": 15
           },
           "zerolinecolor": "white",
           "zerolinewidth": 2
          },
          "yaxis": {
           "automargin": true,
           "gridcolor": "white",
           "linecolor": "white",
           "ticks": "",
           "title": {
            "standoff": 15
           },
           "zerolinecolor": "white",
           "zerolinewidth": 2
          }
         }
        },
        "title": {
         "font": {
          "color": "Black",
          "size": 22
         },
         "text": "<b>Similarity Matrix</b>",
         "x": 0.55,
         "xanchor": "center",
         "y": 0.95,
         "yanchor": "top"
        },
        "width": 1000,
        "xaxis": {
         "anchor": "y",
         "constrain": "domain",
         "domain": [
          0,
          1
         ],
         "scaleanchor": "y"
        },
        "yaxis": {
         "anchor": "x",
         "autorange": "reversed",
         "constrain": "domain",
         "domain": [
          0,
          1
         ]
        }
       }
      }
     },
     "metadata": {},
     "output_type": "display_data"
    }
   ],
   "source": [
    "## BERTopic可将主题以embeddings形式（向量）表示， 因此我们可以应用余弦相似度来创建相似度矩阵。每两两主题可进行余弦计算，最终结果将是一个矩阵，显示主题间的相似程度。\n",
    "topic_model.visualize_heatmap(n_clusters=10, width=1000, height=1000)"
   ]
  },
  {
   "cell_type": "code",
   "execution_count": 47,
   "metadata": {},
   "outputs": [],
   "source": [
    "topic_model.save(\"my_bert\") "
   ]
  },
  {
   "cell_type": "code",
   "execution_count": 54,
   "metadata": {},
   "outputs": [
    {
     "data": {
      "text/plain": [
       "(0.5164710096916436, 0.8285714285714285)"
      ]
     },
     "execution_count": 54,
     "metadata": {},
     "output_type": "execute_result"
    }
   ],
   "source": [
    "from gensim import corpora\n",
    "from gensim.models import CoherenceModel\n",
    "\n",
    "# 假设我们已经有了一个 BERTopic 模型实例 \"bertopic_model\"\n",
    "# 获取主题及其相关的词汇和概率\n",
    "topics = topic_model.get_topics()\n",
    "\n",
    "# 将主题转化为仅包含词汇的列表\n",
    "topic_words_list = [[word for word, _ in words_probs] for _, words_probs in topics.items()]\n",
    "\n",
    "# 假设我们的文档列表名为 \"documents\"\n",
    "# texts = [doc.split() for doc in documents]\n",
    "# dictionary = corpora.Dictionary(texts)\n",
    "\n",
    "texts = [[word for word in text.split(' ') ] for text in df['judge_cut']]\n",
    "# print(texts)\n",
    "# 构建词典\n",
    "dictionary = corpora.Dictionary(texts)\n",
    "\n",
    "\n",
    "# 使用 Gensim 的 CoherenceModel 计算 coherence\n",
    "coherence_model = CoherenceModel(topics=topic_words_list, texts=texts, dictionary=dictionary, coherence='c_v')\n",
    "coherence = coherence_model.get_coherence()\n",
    "\n",
    "# 计算 diversity\n",
    "def compute_diversity(topics):\n",
    "    num_topics = len(topics)\n",
    "    topic_sets = [set(topic) for topic in topics]\n",
    "    total_pairs = num_topics * (num_topics - 1) / 2\n",
    "    overlapping_word_count = sum(len(topic_sets[i].intersection(topic_sets[j])) for i in range(num_topics) for j in range(i+1, num_topics))\n",
    "    # diversity is defined as 1 minus average overlap\n",
    "    diversity = 1 - overlapping_word_count / (10 * total_pairs)  # assuming each topic has 10 words\n",
    "    return diversity\n",
    "\n",
    "diversity = compute_diversity(topic_words_list)\n",
    "\n",
    "coherence, diversity\n",
    "\n"
   ]
  },
  {
   "cell_type": "markdown",
   "metadata": {},
   "source": []
  },
  {
   "cell_type": "markdown",
   "metadata": {},
   "source": [
    "|           |   LDA    | Topic2vec| Bertopic |\n",
    "|---------- |----------|:--------:|---------:|\n",
    "| coherence | 0.420320 | 0.343654 | 0.51647  |\n",
    "| diversity | 0.4      | -0.09047 | 0.82857  |\n",
    "\n",
    "\n",
    "\n"
   ]
  }
 ],
 "metadata": {
  "kernelspec": {
   "display_name": "base",
   "language": "python",
   "name": "python3"
  },
  "language_info": {
   "codemirror_mode": {
    "name": "ipython",
    "version": 3
   },
   "file_extension": ".py",
   "mimetype": "text/x-python",
   "name": "python",
   "nbconvert_exporter": "python",
   "pygments_lexer": "ipython3",
   "version": "3.8.5"
  },
  "orig_nbformat": 4,
  "vscode": {
   "interpreter": {
    "hash": "e42634819b8c191a5d07eaf23810ff32516dd8d3875f28ec3e488928fbd3c187"
   }
  }
 },
 "nbformat": 4,
 "nbformat_minor": 2
}
