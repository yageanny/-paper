{
 "cells": [
  {
   "cell_type": "markdown",
   "metadata": {},
   "source": [
    "#### 文本聚类是将文本文档或句子分组的过程，使得同一组中的文本相似度较高，而不同组中的文本相似度较低。以下是主要的文本聚类方法以及它们的基本代码示例：\n",
    "\n",
    "1. **K-Means聚类**:\n",
    "   K-Means是一种迭代的聚类方法，其目的是最小化每个文本与其簇中心的距离。\n",
    "\n",
    "   ``` python\n",
    "   from sklearn.cluster import KMeans\n",
    "   from sklearn.feature_extraction.text import TfidfVectorizer\n",
    "\n",
    "   vectorizer = TfidfVectorizer()\n",
    "   X = vectorizer.fit_transform(texts)\n",
    "\n",
    "   kmeans = KMeans(n_clusters=3)\n",
    "   labels = kmeans.fit_predict(X)\n",
    "   ```\n",
    "\n",
    "2. **层次聚类**:\n",
    "   如前所述，层次聚类从每个文本为单独的簇开始，并逐渐合并簇。\n",
    "\n",
    "   ``` python\n",
    "   from sklearn.cluster import AgglomerativeClustering\n",
    "\n",
    "   cluster = AgglomerativeClustering(n_clusters=3)\n",
    "   labels = cluster.fit_predict(X.toarray())\n",
    "   ```\n",
    "\n",
    "3. **DBSCAN**:\n",
    "   DBSCAN是一种基于密度的聚类方法，它可以识别并忽略噪声，并且不需要预先指定簇的数量。\n",
    "\n",
    "   ``` python\n",
    "   from sklearn.cluster import DBSCAN\n",
    "\n",
    "   dbscan = DBSCAN(eps=0.5, min_samples=5)\n",
    "   labels = dbscan.fit_predict(X.toarray())\n",
    "   ```\n",
    "\n",
    "4. **主题模型(LDA)**:\n",
    "   虽然LDA主要用于主题建模，但它也可以用于聚类。每个文本被分配给一个或多个主题。\n",
    "\n",
    "   ``` python\n",
    "   from sklearn.decomposition import LatentDirichletAllocation\n",
    "\n",
    "   lda = LatentDirichletAllocation(n_components=3)\n",
    "   lda.fit(X)\n",
    "   topic_distribution = lda.transform(X)\n",
    "   labels = topic_distribution.argmax(axis=1)\n",
    "   ```\n",
    "\n",
    "5. **自组织映射 (SOM)**:\n",
    "   SOM是一种神经网络方法，用于将高维数据映射到低维空间。尽管它不是传统的聚类方法，但它可以用于此目的。\n",
    "\n",
    "   ``` python\n",
    "   # 使用SOM库如SOMPY或MiniSom\n",
    "   from minisom import MiniSom\n",
    "\n",
    "   som = MiniSom(3, 3, X.shape[1])  # 3x3 grid\n",
    "   som.train(X.toarray(), 1000)  # 1000 iterations\n",
    "   labels = np.array([[som.winner(x) for x in X.toarray()]])\n",
    "   ```\n",
    "\n"
   ]
  },
  {
   "cell_type": "code",
   "execution_count": null,
   "metadata": {},
   "outputs": [],
   "source": []
  },
  {
   "cell_type": "markdown",
   "metadata": {},
   "source": [
    "### 文本的层次聚类示例"
   ]
  },
  {
   "cell_type": "code",
   "execution_count": 4,
   "metadata": {},
   "outputs": [
    {
     "data": {
      "image/png": "[encoded data removed]",
      "text/plain": [
       "<Figure size 432x288 with 1 Axes>"
      ]
     },
     "metadata": {
      "needs_background": "light"
     },
     "output_type": "display_data"
    }
   ],
   "source": [
    "from sklearn.feature_extraction.text import TfidfVectorizer\n",
    "from sklearn.cluster import AgglomerativeClustering\n",
    "import matplotlib.pyplot as plt\n",
    "from scipy.cluster.hierarchy import dendrogram, linkage\n",
    "\n",
    "# 示例文本数据\n",
    "texts = [\n",
    "    \"apple banana fruit\",\n",
    "    \"apple orange\",\n",
    "    \"apple banana\",\n",
    "    \"dog cat animal\",\n",
    "    \"dog animal\",\n",
    "    \"cat\",\n",
    "    \"fish shark water\"\n",
    "]\n",
    "\n",
    "# 使用TF-IDF向量化器将文本转化为数值特征\n",
    "vectorizer = TfidfVectorizer()\n",
    "X = vectorizer.fit_transform(texts)\n",
    "\n",
    "# 使用层次聚类\n",
    "cluster = AgglomerativeClustering(n_clusters=3)\n",
    "model = cluster.fit(X.toarray())\n",
    "\n",
    "# 使用Scipy创建层次聚类树状图\n",
    "linkage_matrix = linkage(X.toarray(), 'ward')\n",
    "dendrogram(linkage_matrix, labels=texts)\n",
    "plt.show()\n"
   ]
  },
  {
   "cell_type": "code",
   "execution_count": 5,
   "metadata": {},
   "outputs": [
    {
     "data": {
      "text/plain": [
       "{'apple banana fruit': 1,\n",
       " 'apple orange': 1,\n",
       " 'apple banana': 1,\n",
       " 'dog cat animal': 0,\n",
       " 'dog animal': 0,\n",
       " 'cat': 0,\n",
       " 'fish shark water': 2}"
      ]
     },
     "execution_count": 5,
     "metadata": {},
     "output_type": "execute_result"
    }
   ],
   "source": [
    "# 获取每个文本的簇标签\n",
    "labels = model.labels_\n",
    "\n",
    "labels_dict = {text: label for text, label in zip(texts, labels)}\n",
    "labels_dict"
   ]
  },
  {
   "cell_type": "markdown",
   "metadata": {},
   "source": [
    "###\n",
    "一些常见的技巧和方法可以帮助我们估计一个好的聚类数：\n",
    "\n",
    "1.肘部法则（Elbow Method）：这种方法涉及到运行聚类算法多次，每次使用不同的簇数，并计算每次的成本（例如，每个点到其簇中心的平均距离）。当簇数增加时，成本会减少，但是减少的速度会在某个点变得非常慢。这个点就是“肘部”，并可以作为一个好的簇数的指标。\n",
    "\n",
    "2.轮廓系数（Silhouette Score）：这是一个介于-1和1之间的指标，用于衡量簇内相似性和簇间不同性。一个高的轮廓系数表示簇是正确和合适地分离的。你可以计算不同簇数的轮廓系数，并选择最大值。\n",
    "\n",
    "3.达夫-博文指数（Davies-Bouldin Index）：这个指标基于每个簇内的平均距离和簇之间的距离。较低的Davies-Bouldin Index值表示更好的模型。\n",
    "\n",
    "4.层次聚类树状图：对于层次聚类，你可以观察树状图并决定在哪个级别切割是最有意义的。"
   ]
  },
  {
   "cell_type": "code",
   "execution_count": 8,
   "metadata": {},
   "outputs": [
    {
     "data": {
      "image/png": "[encoded data removed]",
      "text/plain": [
       "<Figure size 720x432 with 1 Axes>"
      ]
     },
     "metadata": {
      "needs_background": "light"
     },
     "output_type": "display_data"
    }
   ],
   "source": [
    "###肘部法则法\n",
    "\n",
    "import matplotlib.pyplot as plt\n",
    "from scipy.cluster.hierarchy import linkage, fcluster\n",
    "import numpy as np\n",
    "\n",
    "# 使用Ward方法计算层次聚类的链接矩阵\n",
    "linked = linkage(X.toarray(), 'ward')\n",
    "\n",
    "# 定义簇数的范围\n",
    "range_n_clusters = list(range(2, len(texts)))\n",
    "\n",
    "# 为不同的簇数计算聚类成本\n",
    "costs = []\n",
    "for k in range_n_clusters:\n",
    "    labels = fcluster(linked, k, criterion='maxclust')\n",
    "    cost = np.mean([np.mean([np.linalg.norm(X[i].toarray() - X[j].toarray()) \n",
    "                             for j in range(len(texts)) if labels[j] == label]) \n",
    "                    for i, label in enumerate(labels)])\n",
    "    costs.append(cost)\n",
    "\n",
    "\n",
    "\n",
    "# 绘制肘部图\n",
    "plt.figure(figsize=(10, 6))\n",
    "plt.plot(range_n_clusters, costs, marker='o')\n",
    "plt.title(\"Elbow Method\")\n",
    "plt.xlabel(\"Number of Clusters\")\n",
    "plt.ylabel(\"Average Dissimilarity\")\n",
    "plt.grid(True)\n",
    "plt.show()\n"
   ]
  },
  {
   "cell_type": "code",
   "execution_count": 6,
   "metadata": {},
   "outputs": [
    {
     "data": {
      "text/plain": [
       "(3,\n",
       " [0.21236611672906805,\n",
       "  0.25272690066073555,\n",
       "  0.25146926419585636,\n",
       "  0.23734692969408736,\n",
       "  0.13038691240085382])"
      ]
     },
     "execution_count": 6,
     "metadata": {},
     "output_type": "execute_result"
    }
   ],
   "source": [
    "#####轮廓系数法\n",
    "from sklearn.metrics import silhouette_score\n",
    "\n",
    "# 定义簇数的范围\n",
    "range_n_clusters = list(range(2, len(texts)))\n",
    "\n",
    "silhouette_scores = []\n",
    "\n",
    "# 对于每个簇数，计算轮廓系数\n",
    "for n_clusters in range_n_clusters:\n",
    "    clusterer = AgglomerativeClustering(n_clusters=n_clusters)\n",
    "    preds = clusterer.fit_predict(X.toarray())\n",
    "    score = silhouette_score(X.toarray(), preds)\n",
    "    silhouette_scores.append(score)\n",
    "\n",
    "# 找到轮廓系数最大的簇数\n",
    "optimal_clusters = range_n_clusters[silhouette_scores.index(max(silhouette_scores))]\n",
    "\n",
    "optimal_clusters, silhouette_scores\n"
   ]
  },
  {
   "cell_type": "code",
   "execution_count": 9,
   "metadata": {},
   "outputs": [
    {
     "data": {
      "text/plain": [
       "(6,\n",
       " [1.25292819891373,\n",
       "  0.8211482446071079,\n",
       "  0.5874225007758416,\n",
       "  0.3713337335964332,\n",
       "  0.23370474410282793])"
      ]
     },
     "execution_count": 9,
     "metadata": {},
     "output_type": "execute_result"
    }
   ],
   "source": [
    "####达夫-博文指数\n",
    "\n",
    "from sklearn.metrics import davies_bouldin_score\n",
    "\n",
    "dbi_scores = []\n",
    "\n",
    "# 对于每个簇数，计算DBI\n",
    "for n_clusters in range_n_clusters:\n",
    "    clusterer = AgglomerativeClustering(n_clusters=n_clusters)\n",
    "    preds = clusterer.fit_predict(X.toarray())\n",
    "    score = davies_bouldin_score(X.toarray(), preds)\n",
    "    dbi_scores.append(score)\n",
    "\n",
    "# 找到DBI最小的簇数\n",
    "optimal_clusters_dbi = range_n_clusters[dbi_scores.index(min(dbi_scores))]\n",
    "\n",
    "optimal_clusters_dbi, dbi_scores\n"
   ]
  },
  {
   "cell_type": "code",
   "execution_count": null,
   "metadata": {},
   "outputs": [],
   "source": []
  }
 ],
 "metadata": {
  "kernelspec": {
   "display_name": "Python 3",
   "language": "python",
   "name": "python3"
  },
  "language_info": {
   "codemirror_mode": {
    "name": "ipython",
    "version": 3
   },
   "file_extension": ".py",
   "mimetype": "text/x-python",
   "name": "python",
   "nbconvert_exporter": "python",
   "pygments_lexer": "ipython3",
   "version": "3.7.8"
  },
  "orig_nbformat": 4
 },
 "nbformat": 4,
 "nbformat_minor": 2
}
