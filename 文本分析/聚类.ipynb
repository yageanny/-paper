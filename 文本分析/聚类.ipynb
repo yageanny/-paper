{
 "cells": [
  {
   "cell_type": "code",
   "execution_count": null,
   "metadata": {},
   "outputs": [],
   "source": [
    "def load_pretrained(load_path):\n",
    "    with open(load_path, \"r\") as fin:\n",
    "        # Optional: depending on the specific format of pretrained vector file\n",
    "        n, d = map(int, fin.readline().split())\n",
    "        tokens = []\n",
    "        embeds = []\n",
    "        for line in fin:\n",
    "            line = line.rstrip().split(' ')\n",
    "            token, embed = line[0], list(map(float, line[1:]))\n",
    "            tokens.append(token)\n",
    "            embeds.append(embed)\n",
    "        vocab = Vocab(tokens)\n",
    "        embeds = torch.tensor(embeds, dtype=torch.float)\n",
    "    return vocab, embeds\n",
    "\n",
    "def knn(W, x, k):\n",
    "    similarities = torch.matmul(x, W.transpose(1, 0)) / (torch.norm(W, dim=1) * torch.norm(x) + 1e-9)\n",
    "    knn = similarities.topk(k=k)\n",
    "    return knn.values.tolist(), knn.indices.tolist()\n",
    "\n",
    "# 在词向量空间中进行近义词检索(这里我们用到我们之前glove.py训练好的glove.vec，预训练词向量)\n",
    "def find_similar_words(embeds, vocab, query, k=10):\n",
    "    knn_values, knn_indices = knn(embeds, embeds[vocab[query]], k + 1)\n",
    "    knn_words = vocab.convert_ids_to_tokens(knn_indices)\n",
    "    print(f\">>> Query word: {query}\")\n",
    "    for i in range(k):\n",
    "        print(f\"cosine similarity={knn_values[i + 1]:.4f}: {knn_words[i + 1]}\")\n",
    "\n",
    "word_sim_queries = ['good', 'well', 'many', 'fears', 'american', \\\n",
    "         'analyst', 'china', 'apple', 'banana', 'orange', 'grape', 'watermelon']\n",
    "\n",
    "vocab, embeds = load_pretrained(\"glove.vec\")\n",
    "\n",
    "for w in word_sim_queries:\n",
    "    find_similar_words(embeds, vocab, w)"
   ]
  }
 ],
 "metadata": {
  "kernelspec": {
   "display_name": "Python 3",
   "language": "python",
   "name": "python3"
  },
  "language_info": {
   "name": "python",
   "version": "3.9.1"
  },
  "orig_nbformat": 4,
  "vscode": {
   "interpreter": {
    "hash": "2935db79966fb3ca180de941cab8b81bc4ff943a6327ecde74299a8fc91dc901"
   }
  }
 },
 "nbformat": 4,
 "nbformat_minor": 2
}
