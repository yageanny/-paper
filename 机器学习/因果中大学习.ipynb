{
 "cells": [
  {
   "attachments": {},
   "cell_type": "markdown",
   "metadata": {
    "slideshow": {
     "slide_type": "slide"
    }
   },
   "source": [
    "\n",
    "\n",
    "\n",
    ".\n",
    "<font color=black size=4 face=雅黑>**---------------------2023中山大学人工社会与计算社会科学讲习班---------------**</font>\n",
    "\n",
    ".\n",
    "<font color=black size=4 face=雅黑>**----------------------------机器学习实战  贾小双-------------------------**</font>\n",
    "\n",
    "\n",
    "\n",
    "\n",
    "# Introduction\n",
    "\n",
    "\n",
    "\n",
    "\n",
    "                  \n",
    "## 本次课程内容：\n",
    "1 线性回归模型及其变量筛选（lasso）\n",
    "\n",
    "2 异质性群体分解——聚类算法\n",
    "\n",
    "3 树形分类回归模型——决策树与随机森林\n",
    "\n",
    "4 基于机器学习的因果推断"
   ]
  },
  {
   "cell_type": "markdown",
   "metadata": {},
   "source": [
    "## 数据\n",
    "个案数：随机抽取了1000个个案。\n",
    "\n",
    "变量：对原始数据进行了处理，保留和生成以下变量：\n",
    "<img src=\"./pics/variables.png\">\n"
   ]
  },
  {
   "cell_type": "markdown",
   "metadata": {},
   "source": [
    "# 线性回归模型与lasso筛选变量"
   ]
  },
  {
   "cell_type": "markdown",
   "metadata": {},
   "source": [
    "## 一元线性回归模型实现  \n",
    "    \n",
    "在python中做线性回归既可以用统计方法也可以用机器学习方法，分别用不同的package实现：\n",
    "\n",
    "    统计模型——statsmodels包，可以输出详细的统计结果（包括系数、常数项、P值、R方等）。\n",
    "\n",
    "    机器学习模型——Scikit-learn （sklearn）包，sklearn不能输出非常详细的结果，但是注重模型的泛化和预测能力\n",
    "    \n",
    "    \n",
    "\n",
    "二者区别：statsmodels更关注统计推断，而scikit-learn注重预测。\n",
    "\n",
    "\n",
    "\n"
   ]
  },
  {
   "cell_type": "code",
   "execution_count": 1,
   "metadata": {},
   "outputs": [
    {
     "name": "stderr",
     "output_type": "stream",
     "text": [
      "d:\\ProgramData\\Anaconda3\\lib\\site-packages\\pandas\\core\\computation\\expressions.py:20: UserWarning: Pandas requires version '2.7.3' or newer of 'numexpr' (version '2.7.1' currently installed).\n",
      "  from pandas.core.computation.check import NUMEXPR_INSTALLED\n"
     ]
    }
   ],
   "source": [
    "### 导入相关package\n",
    "import pandas as pd\n",
    "import matplotlib.pyplot as plt\n",
    "import numpy as np\n",
    "import seaborn as sns\n",
    "\n",
    "\n",
    "#机器学习模型：\n",
    "from sklearn import linear_model\n",
    "\n",
    "import warnings\n",
    "import statsmodels\n",
    "import statsmodels.api as sm\n",
    "warnings.filterwarnings(\"ignore\")"
   ]
  },
  {
   "cell_type": "code",
   "execution_count": 2,
   "metadata": {},
   "outputs": [],
   "source": [
    "#统计模型：\n"
   ]
  },
  {
   "cell_type": "code",
   "execution_count": 3,
   "metadata": {},
   "outputs": [],
   "source": []
  },
  {
   "cell_type": "code",
   "execution_count": 4,
   "metadata": {},
   "outputs": [
    {
     "name": "stdout",
     "output_type": "stream",
     "text": [
      "Statsmodels Version: 0.14.0\n"
     ]
    }
   ],
   "source": [
    "import statsmodels\n",
    "print(\"Statsmodels Version:\", statsmodels.__version__)\n"
   ]
  },
  {
   "cell_type": "code",
   "execution_count": 12,
   "metadata": {},
   "outputs": [
    {
     "ename": "SyntaxError",
     "evalue": "invalid syntax (<ipython-input-12-bf3a67ab58f5>, line 1)",
     "output_type": "error",
     "traceback": [
      "\u001b[1;36m  File \u001b[1;32m\"<ipython-input-12-bf3a67ab58f5>\"\u001b[1;36m, line \u001b[1;32m1\u001b[0m\n\u001b[1;33m    Statistical analysis was conducted using Python (version X.X.X), with data modeling performed using the Statsmodels library (version 0.12.0) [Statsmodels citation]. Linear regression models were fitted to the data to explore relationships between variables, and the results were interpreted based on coefficients and p-values obtained from the Statsmodels library.\u001b[0m\n\u001b[1;37m                ^\u001b[0m\n\u001b[1;31mSyntaxError\u001b[0m\u001b[1;31m:\u001b[0m invalid syntax\n"
     ]
    }
   ],
   "source": []
  },
  {
   "cell_type": "code",
   "execution_count": 5,
   "metadata": {},
   "outputs": [
    {
     "ename": "SyntaxError",
     "evalue": "invalid syntax (<ipython-input-5-572a50feecca>, line 1)",
     "output_type": "error",
     "traceback": [
      "\u001b[1;36m  File \u001b[1;32m\"<ipython-input-5-572a50feecca>\"\u001b[1;36m, line \u001b[1;32m1\u001b[0m\n\u001b[1;33m    pip install --upgrade scipy statsmodels\u001b[0m\n\u001b[1;37m        ^\u001b[0m\n\u001b[1;31mSyntaxError\u001b[0m\u001b[1;31m:\u001b[0m invalid syntax\n"
     ]
    }
   ],
   "source": [
    "pip install --upgrade scipy statsmodels"
   ]
  },
  {
   "cell_type": "code",
   "execution_count": 7,
   "metadata": {},
   "outputs": [],
   "source": [
    "#读入数据\n",
    "df=pd.read_csv('data4ml.csv')"
   ]
  },
  {
   "cell_type": "code",
   "execution_count": 9,
   "metadata": {},
   "outputs": [
    {
     "name": "stdout",
     "output_type": "stream",
     "text": [
      "(1000, 26)\n",
      "variables:  ['id', 'age', 'gender', 'lnincm', 'lnfincm', 'isco08', 'manage', 'dwtype', 'tizhi', 'party', 'hukou', 'wide', 'nwtop', 'edu', 'listening', 'speaking', 'book', 'newsp', 'eread', 'isei08', 'siops08', 'ht', 'wt', 'rd1', 'rd2', 'rd3']\n"
     ]
    },
    {
     "data": {
      "text/html": [
       "<div>\n",
       "<style scoped>\n",
       "    .dataframe tbody tr th:only-of-type {\n",
       "        vertical-align: middle;\n",
       "    }\n",
       "\n",
       "    .dataframe tbody tr th {\n",
       "        vertical-align: top;\n",
       "    }\n",
       "\n",
       "    .dataframe thead th {\n",
       "        text-align: right;\n",
       "    }\n",
       "</style>\n",
       "<table border=\"1\" class=\"dataframe\">\n",
       "  <thead>\n",
       "    <tr style=\"text-align: right;\">\n",
       "      <th></th>\n",
       "      <th>id</th>\n",
       "      <th>age</th>\n",
       "      <th>gender</th>\n",
       "      <th>lnincm</th>\n",
       "      <th>lnfincm</th>\n",
       "      <th>isco08</th>\n",
       "      <th>manage</th>\n",
       "      <th>dwtype</th>\n",
       "      <th>tizhi</th>\n",
       "      <th>party</th>\n",
       "      <th>...</th>\n",
       "      <th>book</th>\n",
       "      <th>newsp</th>\n",
       "      <th>eread</th>\n",
       "      <th>isei08</th>\n",
       "      <th>siops08</th>\n",
       "      <th>ht</th>\n",
       "      <th>wt</th>\n",
       "      <th>rd1</th>\n",
       "      <th>rd2</th>\n",
       "      <th>rd3</th>\n",
       "    </tr>\n",
       "  </thead>\n",
       "  <tbody>\n",
       "    <tr>\n",
       "      <th>0</th>\n",
       "      <td>2489</td>\n",
       "      <td>44</td>\n",
       "      <td>0</td>\n",
       "      <td>8.335112</td>\n",
       "      <td>9.028139</td>\n",
       "      <td>2330</td>\n",
       "      <td>3</td>\n",
       "      <td>2</td>\n",
       "      <td>1</td>\n",
       "      <td>0</td>\n",
       "      <td>...</td>\n",
       "      <td>1.00</td>\n",
       "      <td>0.013699</td>\n",
       "      <td>2.0</td>\n",
       "      <td>82.410004</td>\n",
       "      <td>62.630001</td>\n",
       "      <td>158</td>\n",
       "      <td>120</td>\n",
       "      <td>0.707378</td>\n",
       "      <td>1.481183</td>\n",
       "      <td>2.204248</td>\n",
       "    </tr>\n",
       "    <tr>\n",
       "      <th>1</th>\n",
       "      <td>9546</td>\n",
       "      <td>33</td>\n",
       "      <td>0</td>\n",
       "      <td>5.525453</td>\n",
       "      <td>7.419181</td>\n",
       "      <td>7223</td>\n",
       "      <td>3</td>\n",
       "      <td>6</td>\n",
       "      <td>0</td>\n",
       "      <td>0</td>\n",
       "      <td>...</td>\n",
       "      <td>0.25</td>\n",
       "      <td>0.000000</td>\n",
       "      <td>2.0</td>\n",
       "      <td>28.700001</td>\n",
       "      <td>37.869999</td>\n",
       "      <td>160</td>\n",
       "      <td>160</td>\n",
       "      <td>0.686814</td>\n",
       "      <td>1.948797</td>\n",
       "      <td>0.361991</td>\n",
       "    </tr>\n",
       "    <tr>\n",
       "      <th>2</th>\n",
       "      <td>8396</td>\n",
       "      <td>59</td>\n",
       "      <td>1</td>\n",
       "      <td>6.726633</td>\n",
       "      <td>8.335112</td>\n",
       "      <td>9210</td>\n",
       "      <td>3</td>\n",
       "      <td>11</td>\n",
       "      <td>0</td>\n",
       "      <td>0</td>\n",
       "      <td>...</td>\n",
       "      <td>0.00</td>\n",
       "      <td>0.000000</td>\n",
       "      <td>0.0</td>\n",
       "      <td>11.740000</td>\n",
       "      <td>22.160000</td>\n",
       "      <td>168</td>\n",
       "      <td>145</td>\n",
       "      <td>0.168046</td>\n",
       "      <td>1.719215</td>\n",
       "      <td>5.956255</td>\n",
       "    </tr>\n",
       "    <tr>\n",
       "      <th>3</th>\n",
       "      <td>9161</td>\n",
       "      <td>56</td>\n",
       "      <td>0</td>\n",
       "      <td>6.726633</td>\n",
       "      <td>8.335112</td>\n",
       "      <td>9210</td>\n",
       "      <td>3</td>\n",
       "      <td>11</td>\n",
       "      <td>0</td>\n",
       "      <td>0</td>\n",
       "      <td>...</td>\n",
       "      <td>0.00</td>\n",
       "      <td>0.000000</td>\n",
       "      <td>0.0</td>\n",
       "      <td>11.740000</td>\n",
       "      <td>22.160000</td>\n",
       "      <td>163</td>\n",
       "      <td>100</td>\n",
       "      <td>0.102847</td>\n",
       "      <td>1.019467</td>\n",
       "      <td>1.275537</td>\n",
       "    </tr>\n",
       "    <tr>\n",
       "      <th>4</th>\n",
       "      <td>9433</td>\n",
       "      <td>67</td>\n",
       "      <td>1</td>\n",
       "      <td>6.034684</td>\n",
       "      <td>7.824446</td>\n",
       "      <td>9210</td>\n",
       "      <td>3</td>\n",
       "      <td>11</td>\n",
       "      <td>0</td>\n",
       "      <td>0</td>\n",
       "      <td>...</td>\n",
       "      <td>0.00</td>\n",
       "      <td>0.000000</td>\n",
       "      <td>0.0</td>\n",
       "      <td>11.740000</td>\n",
       "      <td>22.160000</td>\n",
       "      <td>173</td>\n",
       "      <td>130</td>\n",
       "      <td>0.123844</td>\n",
       "      <td>1.755655</td>\n",
       "      <td>5.490700</td>\n",
       "    </tr>\n",
       "  </tbody>\n",
       "</table>\n",
       "<p>5 rows × 26 columns</p>\n",
       "</div>"
      ],
      "text/plain": [
       "     id  age  gender    lnincm   lnfincm  isco08  manage  dwtype  tizhi  \\\n",
       "0  2489   44       0  8.335112  9.028139    2330       3       2      1   \n",
       "1  9546   33       0  5.525453  7.419181    7223       3       6      0   \n",
       "2  8396   59       1  6.726633  8.335112    9210       3      11      0   \n",
       "3  9161   56       0  6.726633  8.335112    9210       3      11      0   \n",
       "4  9433   67       1  6.034684  7.824446    9210       3      11      0   \n",
       "\n",
       "   party  ...  book     newsp  eread     isei08    siops08   ht   wt  \\\n",
       "0      0  ...  1.00  0.013699    2.0  82.410004  62.630001  158  120   \n",
       "1      0  ...  0.25  0.000000    2.0  28.700001  37.869999  160  160   \n",
       "2      0  ...  0.00  0.000000    0.0  11.740000  22.160000  168  145   \n",
       "3      0  ...  0.00  0.000000    0.0  11.740000  22.160000  163  100   \n",
       "4      0  ...  0.00  0.000000    0.0  11.740000  22.160000  173  130   \n",
       "\n",
       "        rd1       rd2       rd3  \n",
       "0  0.707378  1.481183  2.204248  \n",
       "1  0.686814  1.948797  0.361991  \n",
       "2  0.168046  1.719215  5.956255  \n",
       "3  0.102847  1.019467  1.275537  \n",
       "4  0.123844  1.755655  5.490700  \n",
       "\n",
       "[5 rows x 26 columns]"
      ]
     },
     "execution_count": 9,
     "metadata": {},
     "output_type": "execute_result"
    }
   ],
   "source": [
    "#查看数据\n",
    "print(df.shape)\n",
    "print(\"variables: \",list(df.columns))\n",
    "df.head()"
   ]
  },
  {
   "cell_type": "markdown",
   "metadata": {},
   "source": [
    "### 统计模型\n",
    "\n",
    "使用statsmodels来建统计回归模型"
   ]
  },
  {
   "cell_type": "code",
   "execution_count": 10,
   "metadata": {},
   "outputs": [
    {
     "name": "stdout",
     "output_type": "stream",
     "text": [
      "                            OLS Regression Results                            \n",
      "==============================================================================\n",
      "Dep. Variable:                     wt   R-squared:                       0.304\n",
      "Model:                            OLS   Adj. R-squared:                  0.304\n",
      "Method:                 Least Squares   F-statistic:                     436.7\n",
      "Date:                Sun, 08 Oct 2023   Prob (F-statistic):           1.00e-80\n",
      "Time:                        15:59:49   Log-Likelihood:                -4389.1\n",
      "No. Observations:                1000   AIC:                             8782.\n",
      "Df Residuals:                     998   BIC:                             8792.\n",
      "Df Model:                           1                                         \n",
      "Covariance Type:            nonrobust                                         \n",
      "==============================================================================\n",
      "                 coef    std err          t      P>|t|      [0.025      0.975]\n",
      "------------------------------------------------------------------------------\n",
      "const       -133.4264     12.298    -10.850      0.000    -157.559    -109.294\n",
      "ht             1.5688      0.075     20.897      0.000       1.421       1.716\n",
      "==============================================================================\n",
      "Omnibus:                      155.777   Durbin-Watson:                   1.968\n",
      "Prob(Omnibus):                  0.000   Jarque-Bera (JB):              546.511\n",
      "Skew:                           0.727   Prob(JB):                    2.12e-119\n",
      "Kurtosis:                       6.317   Cond. No.                     3.26e+03\n",
      "==============================================================================\n",
      "\n",
      "Notes:\n",
      "[1] Standard Errors assume that the covariance matrix of the errors is correctly specified.\n",
      "[2] The condition number is large, 3.26e+03. This might indicate that there are\n",
      "strong multicollinearity or other numerical problems.\n"
     ]
    }
   ],
   "source": [
    "#首先要规定自变量和因变量\n",
    "y = df['wt']  #因变量是数据df中的wt这一列\n",
    "x = df['ht'] # 自变量是数据df中的ht这一列\n",
    "x = sm.add_constant(x) # 加入截距项\n",
    "stats = sm.OLS(y, x).fit() #构建ols回归模型并拟合\n",
    "print(stats.summary()) # 输出回归结果"
   ]
  },
  {
   "cell_type": "markdown",
   "metadata": {},
   "source": [
    "stata 结果\n",
    "<img src=\"./pics/wtht.png\" width=520 heigth=340> \n"
   ]
  },
  {
   "cell_type": "code",
   "execution_count": 11,
   "metadata": {},
   "outputs": [],
   "source": [
    "#使用stats模型预测Y值\n",
    "predy = stats.predict() \n",
    "df['statswt']=predy"
   ]
  },
  {
   "cell_type": "code",
   "execution_count": 12,
   "metadata": {},
   "outputs": [
    {
     "data": {
      "text/html": [
       "<div>\n",
       "<style scoped>\n",
       "    .dataframe tbody tr th:only-of-type {\n",
       "        vertical-align: middle;\n",
       "    }\n",
       "\n",
       "    .dataframe tbody tr th {\n",
       "        vertical-align: top;\n",
       "    }\n",
       "\n",
       "    .dataframe thead th {\n",
       "        text-align: right;\n",
       "    }\n",
       "</style>\n",
       "<table border=\"1\" class=\"dataframe\">\n",
       "  <thead>\n",
       "    <tr style=\"text-align: right;\">\n",
       "      <th></th>\n",
       "      <th>id</th>\n",
       "      <th>age</th>\n",
       "      <th>gender</th>\n",
       "      <th>lnincm</th>\n",
       "      <th>lnfincm</th>\n",
       "      <th>isco08</th>\n",
       "      <th>manage</th>\n",
       "      <th>dwtype</th>\n",
       "      <th>tizhi</th>\n",
       "      <th>party</th>\n",
       "      <th>...</th>\n",
       "      <th>newsp</th>\n",
       "      <th>eread</th>\n",
       "      <th>isei08</th>\n",
       "      <th>siops08</th>\n",
       "      <th>ht</th>\n",
       "      <th>wt</th>\n",
       "      <th>rd1</th>\n",
       "      <th>rd2</th>\n",
       "      <th>rd3</th>\n",
       "      <th>statswt</th>\n",
       "    </tr>\n",
       "  </thead>\n",
       "  <tbody>\n",
       "    <tr>\n",
       "      <th>0</th>\n",
       "      <td>2489</td>\n",
       "      <td>44</td>\n",
       "      <td>0</td>\n",
       "      <td>8.335112</td>\n",
       "      <td>9.028139</td>\n",
       "      <td>2330</td>\n",
       "      <td>3</td>\n",
       "      <td>2</td>\n",
       "      <td>1</td>\n",
       "      <td>0</td>\n",
       "      <td>...</td>\n",
       "      <td>0.013699</td>\n",
       "      <td>2.0</td>\n",
       "      <td>82.410004</td>\n",
       "      <td>62.630001</td>\n",
       "      <td>158</td>\n",
       "      <td>120</td>\n",
       "      <td>0.707378</td>\n",
       "      <td>1.481183</td>\n",
       "      <td>2.204248</td>\n",
       "      <td>114.446778</td>\n",
       "    </tr>\n",
       "  </tbody>\n",
       "</table>\n",
       "<p>1 rows × 27 columns</p>\n",
       "</div>"
      ],
      "text/plain": [
       "     id  age  gender    lnincm   lnfincm  isco08  manage  dwtype  tizhi  \\\n",
       "0  2489   44       0  8.335112  9.028139    2330       3       2      1   \n",
       "\n",
       "   party  ...     newsp  eread     isei08    siops08   ht   wt       rd1  \\\n",
       "0      0  ...  0.013699    2.0  82.410004  62.630001  158  120  0.707378   \n",
       "\n",
       "        rd2       rd3     statswt  \n",
       "0  1.481183  2.204248  114.446778  \n",
       "\n",
       "[1 rows x 27 columns]"
      ]
     },
     "execution_count": 12,
     "metadata": {},
     "output_type": "execute_result"
    }
   ],
   "source": [
    "df.head(1)"
   ]
  },
  {
   "cell_type": "code",
   "execution_count": 13,
   "metadata": {},
   "outputs": [
    {
     "data": {
      "image/png": "[encoded data removed]",
      "text/plain": [
       "<Figure size 432x288 with 1 Axes>"
      ]
     },
     "metadata": {
      "needs_background": "light"
     },
     "output_type": "display_data"
    }
   ],
   "source": [
    "# 画图看拟合情况：\n",
    "\n",
    "# 有中文时防止乱码，必写\n",
    "plt.rcParams['font.sans-serif'] = ['SimHei']\n",
    "plt.rcParams['axes.unicode_minus'] = False\n",
    "\n",
    "x = df['ht'] # 自变量\n",
    "plt.scatter(x, y, color = 'lightblue',label='实际值') # 散点图\n",
    "plt.plot(x, predy, color = 'red', label='预测值') #回归直线\n",
    "plt.xlabel(\"身高\") #行标签\n",
    "plt.ylabel(\"体重\") #列标签\n",
    "plt.legend() # 显示图例，即每条线对应 label 中的内容\n",
    "plt.show() # 显示图形"
   ]
  },
  {
   "cell_type": "code",
   "execution_count": 14,
   "metadata": {},
   "outputs": [
    {
     "data": {
      "text/html": [
       "<div>\n",
       "<style scoped>\n",
       "    .dataframe tbody tr th:only-of-type {\n",
       "        vertical-align: middle;\n",
       "    }\n",
       "\n",
       "    .dataframe tbody tr th {\n",
       "        vertical-align: top;\n",
       "    }\n",
       "\n",
       "    .dataframe thead th {\n",
       "        text-align: right;\n",
       "    }\n",
       "</style>\n",
       "<table border=\"1\" class=\"dataframe\">\n",
       "  <thead>\n",
       "    <tr style=\"text-align: right;\">\n",
       "      <th></th>\n",
       "      <th>statswt</th>\n",
       "      <th>wt</th>\n",
       "    </tr>\n",
       "  </thead>\n",
       "  <tbody>\n",
       "    <tr>\n",
       "      <th>count</th>\n",
       "      <td>1000.000000</td>\n",
       "      <td>1000.000000</td>\n",
       "    </tr>\n",
       "    <tr>\n",
       "      <th>mean</th>\n",
       "      <td>123.240000</td>\n",
       "      <td>123.240000</td>\n",
       "    </tr>\n",
       "    <tr>\n",
       "      <th>std</th>\n",
       "      <td>12.902760</td>\n",
       "      <td>23.386777</td>\n",
       "    </tr>\n",
       "    <tr>\n",
       "      <th>min</th>\n",
       "      <td>86.208064</td>\n",
       "      <td>47.000000</td>\n",
       "    </tr>\n",
       "    <tr>\n",
       "      <th>25%</th>\n",
       "      <td>114.446778</td>\n",
       "      <td>110.000000</td>\n",
       "    </tr>\n",
       "    <tr>\n",
       "      <th>50%</th>\n",
       "      <td>122.290865</td>\n",
       "      <td>120.000000</td>\n",
       "    </tr>\n",
       "    <tr>\n",
       "      <th>75%</th>\n",
       "      <td>133.272588</td>\n",
       "      <td>140.000000</td>\n",
       "    </tr>\n",
       "    <tr>\n",
       "      <th>max</th>\n",
       "      <td>164.648937</td>\n",
       "      <td>260.000000</td>\n",
       "    </tr>\n",
       "  </tbody>\n",
       "</table>\n",
       "</div>"
      ],
      "text/plain": [
       "           statswt           wt\n",
       "count  1000.000000  1000.000000\n",
       "mean    123.240000   123.240000\n",
       "std      12.902760    23.386777\n",
       "min      86.208064    47.000000\n",
       "25%     114.446778   110.000000\n",
       "50%     122.290865   120.000000\n",
       "75%     133.272588   140.000000\n",
       "max     164.648937   260.000000"
      ]
     },
     "execution_count": 14,
     "metadata": {},
     "output_type": "execute_result"
    }
   ],
   "source": [
    "# 预测值和真实值对比\n",
    "df[['statswt','wt']].describe()"
   ]
  },
  {
   "cell_type": "code",
   "execution_count": 15,
   "metadata": {},
   "outputs": [
    {
     "data": {
      "image/png": "[encoded data removed]",
      "text/plain": [
       "<Figure size 432x288 with 1 Axes>"
      ]
     },
     "metadata": {
      "needs_background": "light"
     },
     "output_type": "display_data"
    }
   ],
   "source": [
    "#真实值与预测值分布图\n",
    "\n",
    "# 有中文时防止乱码，必写\n",
    "plt.rcParams['font.sans-serif'] = ['SimHei']\n",
    "plt.rcParams['axes.unicode_minus'] = False\n",
    "\n",
    "sns.distplot(df['statswt'],bins=20,label='预测值')\n",
    "sns.distplot(df['wt'],bins=20,label='真实值')\n",
    "plt.legend()\n",
    "plt.show()"
   ]
  },
  {
   "cell_type": "markdown",
   "metadata": {},
   "source": [
    "### 机器学习模型\n",
    "\n",
    "使用sklearn中的 linear_model来训练机器学习回归模型"
   ]
  },
  {
   "cell_type": "code",
   "execution_count": 16,
   "metadata": {},
   "outputs": [
    {
     "name": "stdout",
     "output_type": "stream",
     "text": [
      "intercept:  -133.42637899607064 coef:  [1.56881745] R2:  0.30438586233847564\n"
     ]
    }
   ],
   "source": [
    "#训练ols模型\n",
    "sklm= linear_model.LinearRegression()\n",
    "x=df[['ht']]\n",
    "y=df['wt']\n",
    "#拟合模型\n",
    "sklm.fit(x, y)\n",
    "intercept=sklm.intercept_  #截距\n",
    "coef=sklm.coef_ #线性模型的系数\n",
    "R2=sklm.score(x,y)\n",
    "\n",
    "print(\"intercept: \",intercept, \"coef: \",coef,\"R2: \", R2)"
   ]
  },
  {
   "cell_type": "code",
   "execution_count": 17,
   "metadata": {},
   "outputs": [],
   "source": [
    "#使用stats模型预测Y值\n",
    "predy = sklm.predict(x) \n",
    "df['sklmwt']=predy"
   ]
  },
  {
   "cell_type": "code",
   "execution_count": 18,
   "metadata": {},
   "outputs": [
    {
     "data": {
      "image/png": "[encoded data removed]",
      "text/plain": [
       "<Figure size 432x288 with 1 Axes>"
      ]
     },
     "metadata": {
      "needs_background": "light"
     },
     "output_type": "display_data"
    }
   ],
   "source": [
    "# 画图看拟合情况：\n",
    "# 有中文时防止乱码，必写\n",
    "plt.rcParams['font.sans-serif'] = ['SimHei']\n",
    "plt.rcParams['axes.unicode_minus'] = False\n",
    "\n",
    "plt.scatter(df['ht'], df['wt'], color = 'lightblue',label='实际值') # 散点图\n",
    "plt.plot(df['ht'], df['sklmwt'], color = 'red', label='预测值') #回归直线\n",
    "plt.xlabel(\"身高\") #行标签\n",
    "plt.ylabel(\"体重\") #列标签\n",
    "plt.legend() # 显示图例，即每条线对应 label 中的内容\n",
    "plt.show() # 显示图形"
   ]
  },
  {
   "cell_type": "code",
   "execution_count": 19,
   "metadata": {},
   "outputs": [
    {
     "data": {
      "text/html": [
       "<div>\n",
       "<style scoped>\n",
       "    .dataframe tbody tr th:only-of-type {\n",
       "        vertical-align: middle;\n",
       "    }\n",
       "\n",
       "    .dataframe tbody tr th {\n",
       "        vertical-align: top;\n",
       "    }\n",
       "\n",
       "    .dataframe thead th {\n",
       "        text-align: right;\n",
       "    }\n",
       "</style>\n",
       "<table border=\"1\" class=\"dataframe\">\n",
       "  <thead>\n",
       "    <tr style=\"text-align: right;\">\n",
       "      <th></th>\n",
       "      <th>sklmwt</th>\n",
       "      <th>wt</th>\n",
       "      <th>statswt</th>\n",
       "    </tr>\n",
       "  </thead>\n",
       "  <tbody>\n",
       "    <tr>\n",
       "      <th>count</th>\n",
       "      <td>1000.000000</td>\n",
       "      <td>1000.000000</td>\n",
       "      <td>1000.000000</td>\n",
       "    </tr>\n",
       "    <tr>\n",
       "      <th>mean</th>\n",
       "      <td>123.240000</td>\n",
       "      <td>123.240000</td>\n",
       "      <td>123.240000</td>\n",
       "    </tr>\n",
       "    <tr>\n",
       "      <th>std</th>\n",
       "      <td>12.902760</td>\n",
       "      <td>23.386777</td>\n",
       "      <td>12.902760</td>\n",
       "    </tr>\n",
       "    <tr>\n",
       "      <th>min</th>\n",
       "      <td>86.208064</td>\n",
       "      <td>47.000000</td>\n",
       "      <td>86.208064</td>\n",
       "    </tr>\n",
       "    <tr>\n",
       "      <th>25%</th>\n",
       "      <td>114.446778</td>\n",
       "      <td>110.000000</td>\n",
       "      <td>114.446778</td>\n",
       "    </tr>\n",
       "    <tr>\n",
       "      <th>50%</th>\n",
       "      <td>122.290865</td>\n",
       "      <td>120.000000</td>\n",
       "      <td>122.290865</td>\n",
       "    </tr>\n",
       "    <tr>\n",
       "      <th>75%</th>\n",
       "      <td>133.272588</td>\n",
       "      <td>140.000000</td>\n",
       "      <td>133.272588</td>\n",
       "    </tr>\n",
       "    <tr>\n",
       "      <th>max</th>\n",
       "      <td>164.648937</td>\n",
       "      <td>260.000000</td>\n",
       "      <td>164.648937</td>\n",
       "    </tr>\n",
       "  </tbody>\n",
       "</table>\n",
       "</div>"
      ],
      "text/plain": [
       "            sklmwt           wt      statswt\n",
       "count  1000.000000  1000.000000  1000.000000\n",
       "mean    123.240000   123.240000   123.240000\n",
       "std      12.902760    23.386777    12.902760\n",
       "min      86.208064    47.000000    86.208064\n",
       "25%     114.446778   110.000000   114.446778\n",
       "50%     122.290865   120.000000   122.290865\n",
       "75%     133.272588   140.000000   133.272588\n",
       "max     164.648937   260.000000   164.648937"
      ]
     },
     "execution_count": 19,
     "metadata": {},
     "output_type": "execute_result"
    }
   ],
   "source": [
    "# sklearn模型预测值，真实值，statsmodels模型预测值对比\n",
    "df[['sklmwt','wt','statswt']].describe()"
   ]
  },
  {
   "cell_type": "code",
   "execution_count": 20,
   "metadata": {},
   "outputs": [
    {
     "data": {
      "image/png": "[encoded data removed]",
      "text/plain": [
       "<Figure size 432x288 with 1 Axes>"
      ]
     },
     "metadata": {
      "needs_background": "light"
     },
     "output_type": "display_data"
    }
   ],
   "source": [
    "#真实值与预测值分布图\n",
    "\n",
    "# 有中文时防止乱码，必写\n",
    "plt.rcParams['font.sans-serif'] = ['SimHei']\n",
    "plt.rcParams['axes.unicode_minus'] = False\n",
    "\n",
    "\n",
    "sns.distplot(df['statswt'],bins=20,label='sklearn预测值')\n",
    "sns.distplot(df['wt'],bins=20,label='真实值')\n",
    "\n",
    "plt.legend()\n",
    "plt.show()"
   ]
  },
  {
   "cell_type": "markdown",
   "metadata": {
    "lang": "en"
   },
   "source": [
    "## 多元线性回归与交叉验证\n",
    "\n",
    "多元线性回归和一元线性回归的操作一样,只是在使用sklearn是自变量不需要再做加轴处理\n",
    "\n",
    "以收入为例进行线性回归分析：\n",
    "\n",
    "    因变量为收入，\n",
    "\n",
    "    自变量依次为：性别、年龄、受教育年限\n",
    "\n",
    "    回归方程：lnincm = β1·gender + β2·age + β3·edu + c\n"
   ]
  },
  {
   "cell_type": "code",
   "execution_count": 21,
   "metadata": {},
   "outputs": [
    {
     "name": "stdout",
     "output_type": "stream",
     "text": [
      "                            OLS Regression Results                            \n",
      "==============================================================================\n",
      "Dep. Variable:                 lnincm   R-squared:                       0.146\n",
      "Model:                            OLS   Adj. R-squared:                  0.143\n",
      "Method:                 Least Squares   F-statistic:                     56.70\n",
      "Date:                Sun, 13 Aug 2023   Prob (F-statistic):           7.69e-34\n",
      "Time:                        19:20:06   Log-Likelihood:                -2363.2\n",
      "No. Observations:                1000   AIC:                             4734.\n",
      "Df Residuals:                     996   BIC:                             4754.\n",
      "Df Model:                           3                                         \n",
      "Covariance Type:            nonrobust                                         \n",
      "==============================================================================\n",
      "                 coef    std err          t      P>|t|      [0.025      0.975]\n",
      "------------------------------------------------------------------------------\n",
      "const          3.4986      0.406      8.613      0.000       2.701       4.296\n",
      "gender         0.8252      0.165      5.011      0.000       0.502       1.148\n",
      "age            0.0124      0.006      2.199      0.028       0.001       0.023\n",
      "edu            0.2205      0.020     10.955      0.000       0.181       0.260\n",
      "==============================================================================\n",
      "Omnibus:                      256.029   Durbin-Watson:                   2.021\n",
      "Prob(Omnibus):                  0.000   Jarque-Bera (JB):              500.812\n",
      "Skew:                          -1.510   Prob(JB):                    1.78e-109\n",
      "Kurtosis:                       4.702   Cond. No.                         272.\n",
      "==============================================================================\n",
      "\n",
      "Notes:\n",
      "[1] Standard Errors assume that the covariance matrix of the errors is correctly specified.\n"
     ]
    }
   ],
   "source": [
    "# statsmodels统计模型\n",
    "X = df[['gender','age','edu'] ] #自变量\n",
    "y = df['lnincm'] # 因变量\n",
    "X = sm.add_constant(X) # 加入截距项\n",
    "mstats = sm.OLS(y, X).fit() #构建ols回归模型并拟合\n",
    "print(mstats.summary())\n",
    "# 预测y值：\n",
    "df['mstatsy']= mstats.predict() "
   ]
  },
  {
   "cell_type": "code",
   "execution_count": 22,
   "metadata": {},
   "outputs": [
    {
     "name": "stdout",
     "output_type": "stream",
     "text": [
      "intercept:  3.4985813972481523 \n",
      " coef:  [0.82521512 0.01239134 0.22045412] \n",
      " R2:  0.14586589601962363\n"
     ]
    }
   ],
   "source": [
    "# sklearn模型\n",
    "msklm= linear_model.LinearRegression()\n",
    "X = df[['gender','age','edu'] ] #自变量\n",
    "y = df['lnincm'] # 因变量\n",
    "msklm.fit(X, y)\n",
    "intercept=msklm.intercept_  #截距\n",
    "coef=msklm.coef_ #线性模型的系数\n",
    "R2m=msklm.score(X,y)\n",
    "print(\"intercept: \",intercept,\"\\n\", \"coef: \",coef, \"\\n\", \"R2: \", R2m)\n"
   ]
  },
  {
   "cell_type": "markdown",
   "metadata": {},
   "source": [
    "### 划分训练集、测试集"
   ]
  },
  {
   "cell_type": "code",
   "execution_count": 5,
   "metadata": {},
   "outputs": [],
   "source": [
    "#导入 train_test_split\n",
    "from sklearn.model_selection import train_test_split\n",
    "from sklearn.metrics import mean_squared_error as MSE"
   ]
  },
  {
   "cell_type": "code",
   "execution_count": 24,
   "metadata": {},
   "outputs": [
    {
     "name": "stdout",
     "output_type": "stream",
     "text": [
      "Index(['id', 'age', 'gender', 'lnincm', 'lnfincm', 'isco08', 'manage',\n",
      "       'dwtype', 'tizhi', 'party', 'hukou', 'wide', 'nwtop', 'edu',\n",
      "       'listening', 'speaking', 'book', 'newsp', 'eread', 'isei08', 'siops08',\n",
      "       'ht', 'wt', 'rd1', 'rd2', 'rd3', 'statswt', 'sklmwt', 'mstatsy'],\n",
      "      dtype='object')\n"
     ]
    }
   ],
   "source": [
    "#查看数据的变量\n",
    "print(df.columns)"
   ]
  },
  {
   "cell_type": "code",
   "execution_count": 17,
   "metadata": {},
   "outputs": [
    {
     "name": "stdout",
     "output_type": "stream",
     "text": [
      "(300, 23) (700, 23)\n"
     ]
    },
    {
     "data": {
      "text/html": [
       "<div>\n",
       "<style scoped>\n",
       "    .dataframe tbody tr th:only-of-type {\n",
       "        vertical-align: middle;\n",
       "    }\n",
       "\n",
       "    .dataframe tbody tr th {\n",
       "        vertical-align: top;\n",
       "    }\n",
       "\n",
       "    .dataframe thead th {\n",
       "        text-align: right;\n",
       "    }\n",
       "</style>\n",
       "<table border=\"1\" class=\"dataframe\">\n",
       "  <thead>\n",
       "    <tr style=\"text-align: right;\">\n",
       "      <th></th>\n",
       "      <th>age</th>\n",
       "      <th>gender</th>\n",
       "      <th>isco08</th>\n",
       "      <th>manage</th>\n",
       "      <th>dwtype</th>\n",
       "      <th>tizhi</th>\n",
       "      <th>party</th>\n",
       "      <th>hukou</th>\n",
       "      <th>wide</th>\n",
       "      <th>nwtop</th>\n",
       "      <th>...</th>\n",
       "      <th>book</th>\n",
       "      <th>newsp</th>\n",
       "      <th>eread</th>\n",
       "      <th>isei08</th>\n",
       "      <th>siops08</th>\n",
       "      <th>ht</th>\n",
       "      <th>wt</th>\n",
       "      <th>rd1</th>\n",
       "      <th>rd2</th>\n",
       "      <th>rd3</th>\n",
       "    </tr>\n",
       "  </thead>\n",
       "  <tbody>\n",
       "    <tr>\n",
       "      <th>876</th>\n",
       "      <td>55</td>\n",
       "      <td>1</td>\n",
       "      <td>5245</td>\n",
       "      <td>3</td>\n",
       "      <td>3</td>\n",
       "      <td>1</td>\n",
       "      <td>0</td>\n",
       "      <td>1</td>\n",
       "      <td>2</td>\n",
       "      <td>40</td>\n",
       "      <td>...</td>\n",
       "      <td>0.0</td>\n",
       "      <td>0.0</td>\n",
       "      <td>0.0</td>\n",
       "      <td>39.040001</td>\n",
       "      <td>25.0</td>\n",
       "      <td>162</td>\n",
       "      <td>120</td>\n",
       "      <td>0.14584</td>\n",
       "      <td>1.772176</td>\n",
       "      <td>7.807668</td>\n",
       "    </tr>\n",
       "  </tbody>\n",
       "</table>\n",
       "<p>1 rows × 23 columns</p>\n",
       "</div>"
      ],
      "text/plain": [
       "     age  gender  isco08  manage  dwtype  tizhi  party  hukou  wide  nwtop  \\\n",
       "876   55       1    5245       3       3      1      0      1     2     40   \n",
       "\n",
       "     ...  book  newsp  eread     isei08  siops08   ht   wt      rd1       rd2  \\\n",
       "876  ...   0.0    0.0    0.0  39.040001     25.0  162  120  0.14584  1.772176   \n",
       "\n",
       "          rd3  \n",
       "876  7.807668  \n",
       "\n",
       "[1 rows x 23 columns]"
      ]
     },
     "execution_count": 17,
     "metadata": {},
     "output_type": "execute_result"
    }
   ],
   "source": [
    "#定义feature 和 label\n",
    "feature=['age', 'gender', 'isco08', 'manage','dwtype', 'tizhi', 'party', 'hukou', 'wide', 'nwtop', 'edu',\n",
    "       'listening', 'speaking', 'book', 'newsp', 'eread', 'isei08', 'siops08','ht', 'wt', 'rd1', 'rd2', 'rd3']\n",
    "label=['lnincm']\n",
    "\n",
    "inputs=df[feature]\n",
    "labels=df[label]\n",
    "\n",
    "#划分训练集和测试集\n",
    "(train_X,\n",
    " test_X,\n",
    " train_y,\n",
    " test_y) = train_test_split(inputs, labels, train_size=0.3, random_state=5029)\n",
    "\n",
    "#看一下数据集长什么样子\n",
    "print(train_X.shape,test_X.shape,)\n",
    "train_X.head(1)"
   ]
  },
  {
   "cell_type": "markdown",
   "metadata": {},
   "source": [
    "### 评估机器学习模型在测试集上的表现\n",
    "\n"
   ]
  },
  {
   "cell_type": "code",
   "execution_count": 26,
   "metadata": {},
   "outputs": [
    {
     "name": "stdout",
     "output_type": "stream",
     "text": [
      "intercept:  3.6842699759695527 \n",
      " coef:  [0.63547996 0.01348207 0.21131208] \n",
      " R2:  0.1382459692615844 \n",
      "MSE_train:  6.446849804475359\n"
     ]
    }
   ],
   "source": [
    "# 用训练集数据训练线性回归模型\n",
    "msklm_tr= linear_model.LinearRegression()\n",
    "X = train_X[['gender','age','edu'] ] #自变量\n",
    "y = train_y['lnincm'] # 因变量\n",
    "msklm_tr.fit(X, y)\n",
    "intercept=msklm_tr.intercept_  #截距\n",
    "coef=msklm_tr.coef_ #线性模型的系数\n",
    "#预测Y值\n",
    "y_tr=msklm_tr.predict(X)\n",
    "#R2\n",
    "R2m_tr=msklm_tr.score(X,y)\n",
    "#MSE\n",
    "mse_tr=MSE(train_y['lnincm'],y_tr)\n",
    "\n",
    "print(\"intercept: \",intercept,\"\\n\", \"coef: \",coef, \"\\n\", \"R2: \", R2m_tr,'\\n' \"MSE_train: \",mse_tr)\n"
   ]
  },
  {
   "cell_type": "code",
   "execution_count": 27,
   "metadata": {},
   "outputs": [],
   "source": [
    "#用训练好的模型来拟合测试集的数据\n",
    "X_te = test_X[['gender','age','edu'] ] #自变量\n",
    "y_te1 = test_y\n",
    "msklm_tr.fit(X_te,y_te1) \n",
    "y_te=msklm_tr.predict(X_te)"
   ]
  },
  {
   "cell_type": "code",
   "execution_count": 28,
   "metadata": {},
   "outputs": [
    {
     "name": "stdout",
     "output_type": "stream",
     "text": [
      " 训练集R2:  0.1382459692615844 \n",
      " 测试集R2:  0.1498800793076892 \n",
      " 训练集MSE:  6.446849804475359 \n",
      " 测试集MSE:  6.669330476634241 \n",
      "\n"
     ]
    }
   ],
   "source": [
    "#模型评估\n",
    "#R2\n",
    "R2m_te=msklm_tr.score(X_te,test_y['lnincm'])\n",
    "#MSE\n",
    "mse_te=MSE(test_y['lnincm'],y_te)\n",
    "print(\" 训练集R2: \",R2m_tr,'\\n',\n",
    "      \"测试集R2: \", R2m_te ,'\\n',\n",
    "      \"训练集MSE: \",mse_tr,\"\\n\",\n",
    "      \"测试集MSE: \",mse_te,\"\\n\")"
   ]
  },
  {
   "cell_type": "markdown",
   "metadata": {},
   "source": [
    "1 对训练集和测试集的划分是随机的，当取不同随机数种子时，由于数据集的变化，模型的效果也会发生变化\n",
    "\n",
    "2 训练集和测试集的比例改变，模型效果也会发生改变\n"
   ]
  },
  {
   "cell_type": "markdown",
   "metadata": {},
   "source": [
    "## 变量选择 \n",
    "\n",
    "如何看变量加入是否有意义？\n",
    "\n",
    "传统定量研究：\n",
    "\n",
    "1 看p值判断加入的变量对Y的影响是否显著\n",
    "\n",
    "2 看R2增加变量是否提高了模型的解释力\n",
    "\n",
    "结果：\n",
    "<img src=\"./pics/regmodel.png\" width=520 heigth=440>\n",
    "\n",
    "\n",
    "变量越多越好吗？\n",
    "\n",
    "\n",
    "\n",
    "一些研究中常见做法——发挥理论功底，自圆其说？ <img src=\"./pics/doge.png\" width=120 heigth=100>\n",
    "\n",
    "\n",
    "机器学习变量选择——数据驱动\n"
   ]
  },
  {
   "cell_type": "markdown",
   "metadata": {},
   "source": [
    "### 代码实现lasso回归"
   ]
  },
  {
   "cell_type": "code",
   "execution_count": 19,
   "metadata": {},
   "outputs": [
    {
     "name": "stdout",
     "output_type": "stream",
     "text": [
      "age 0.011070232692792361\n",
      "gender 0.0\n",
      "isco08 -0.0002055371144444255\n",
      "manage -0.0\n",
      "dwtype -0.14409317779052583\n",
      "tizhi 0.0\n",
      "party -0.0\n",
      "hukou 0.0\n",
      "wide -0.0\n",
      "nwtop 0.0053974094678459344\n",
      "edu 0.07219759368569599\n",
      "listening 0.0\n",
      "speaking -0.0\n",
      "book 0.0\n",
      "newsp 0.0\n",
      "eread 0.008540688467361938\n",
      "isei08 -0.018472323079820985\n",
      "siops08 0.016935418670276186\n",
      "ht 0.034432860209582875\n",
      "wt 0.008743683469236386\n",
      "rd1 0.0\n",
      "rd2 0.0\n",
      "rd3 -0.0\n",
      "截距： [0.65071163] \n",
      " R2: 0.21134228280975154 \n",
      " MSE: 6.102675402885573\n"
     ]
    }
   ],
   "source": [
    "#sklearn中的linear_model下的一个子模块\n",
    "#我们将所有feature中的自变量都放进去\n",
    "lso = linear_model.Lasso(alpha=0.1) #定义模型 （alpha规定惩罚力度的大小，默认为1，如果alpha=0，则等价于普通回归）\n",
    "lso.fit(inputs,labels) #用lso拟合数据\n",
    "y_pr=lso.predict(inputs)\n",
    "\n",
    "for i,j in zip(list(inputs.columns),lso.coef_):\n",
    "    print(i,j)\n",
    "print(\"截距：\",lso.intercept_,'\\n',\n",
    "      \"R2:\",lso.score(inputs,labels),'\\n',\n",
    "       \"MSE:\",MSE(labels,y_pr))"
   ]
  },
  {
   "cell_type": "code",
   "execution_count": 30,
   "metadata": {},
   "outputs": [
    {
     "name": "stdout",
     "output_type": "stream",
     "text": [
      "age 0.0028518811623138756\n",
      "gender 0.0\n",
      "isco08 -0.0002972451062624354\n",
      "manage -0.0\n",
      "dwtype -0.039259344483252245\n",
      "tizhi 0.0\n",
      "party 0.0\n",
      "hukou 0.0\n",
      "wide 0.0\n",
      "nwtop 0.0055885090221306395\n",
      "edu 0.0042527981409043345\n",
      "listening 0.0\n",
      "speaking 0.0\n",
      "book 0.0\n",
      "newsp 0.0\n",
      "eread 0.0\n",
      "isei08 0.0\n",
      "siops08 0.0\n",
      "ht 0.026040341273866566\n",
      "wt 0.011703883774732513\n",
      "rd1 0.0\n",
      "rd2 0.0\n",
      "rd3 -0.0\n",
      "截距： [2.54681836] \n",
      " R2: 0.18314764200318345 \n",
      " MSE: 6.3208470344983905\n"
     ]
    }
   ],
   "source": [
    "#改变alpha\n",
    "lso = linear_model.Lasso(alpha=1) #定义模型 （alpha规定惩罚力度的大小，默认为1，如果alpha=0，则等价于普通回归）\n",
    "lso.fit(inputs,labels) #用lso拟合数据\n",
    "y_pr=lso.predict(inputs)\n",
    "\n",
    "for i,j in zip(list(inputs.columns),lso.coef_):\n",
    "    print(i,j)\n",
    "print(\"截距：\",lso.intercept_,'\\n',\n",
    "      \"R2:\",lso.score(inputs,labels),'\\n',\n",
    "       \"MSE:\",MSE(labels,y_pr))"
   ]
  },
  {
   "cell_type": "code",
   "execution_count": 31,
   "metadata": {},
   "outputs": [
    {
     "name": "stdout",
     "output_type": "stream",
     "text": [
      "age 0.011070232692792361\n",
      "gender 0.0\n",
      "isco08 -0.0002055371144444255\n",
      "manage -0.0\n",
      "dwtype -0.14409317779052577\n",
      "tizhi 0.0\n",
      "party -0.0\n",
      "hukou 0.0\n",
      "wide -0.0\n",
      "nwtop 0.0053974094678459344\n",
      "edu 0.07219759368569596\n",
      "listening 0.0\n",
      "speaking -0.0\n",
      "book 0.0\n",
      "newsp 0.0\n",
      "eread 0.008540688467361968\n",
      "isei08 -0.018472323079820992\n",
      "siops08 0.016935418670276193\n",
      "ht 0.034432860209582854\n",
      "wt 0.008743683469236386\n",
      "rd1 0.0\n",
      "rd2 0.0\n",
      "rd3 -0.0\n",
      "截距： [0.65071163] \n",
      " R2: 0.21134228280975154 \n",
      " MSE: 6.102675402885573\n"
     ]
    }
   ],
   "source": [
    "#改变alpha\n",
    "lso = linear_model.Lasso(alpha=0.1) #定义模型 （alpha规定惩罚力度的大小，默认为1，如果alpha=0，则等价于普通回归）\n",
    "lso.fit(inputs,labels) #用lso拟合数据\n",
    "y_pr=lso.predict(inputs)\n",
    "\n",
    "for i,j in zip(list(inputs.columns),lso.coef_):\n",
    "    print(i,j)\n",
    "print(\"截距：\",lso.intercept_,'\\n',\n",
    "      \"R2:\",lso.score(inputs,labels),'\\n',\n",
    "       \"MSE:\",MSE(labels,y_pr))"
   ]
  },
  {
   "cell_type": "code",
   "execution_count": 32,
   "metadata": {},
   "outputs": [],
   "source": [
    "#把变量名和系数储存成dataframe方便查看\n",
    "df_coef=pd.DataFrame(list(zip(list(inputs.columns),lso.coef_)), \n",
    "                     columns = ['variables', 'coef'])"
   ]
  },
  {
   "cell_type": "code",
   "execution_count": 33,
   "metadata": {},
   "outputs": [
    {
     "data": {
      "text/html": [
       "<div>\n",
       "<style scoped>\n",
       "    .dataframe tbody tr th:only-of-type {\n",
       "        vertical-align: middle;\n",
       "    }\n",
       "\n",
       "    .dataframe tbody tr th {\n",
       "        vertical-align: top;\n",
       "    }\n",
       "\n",
       "    .dataframe thead th {\n",
       "        text-align: right;\n",
       "    }\n",
       "</style>\n",
       "<table border=\"1\" class=\"dataframe\">\n",
       "  <thead>\n",
       "    <tr style=\"text-align: right;\">\n",
       "      <th></th>\n",
       "      <th>variables</th>\n",
       "      <th>coef</th>\n",
       "    </tr>\n",
       "  </thead>\n",
       "  <tbody>\n",
       "    <tr>\n",
       "      <th>0</th>\n",
       "      <td>age</td>\n",
       "      <td>0.011070</td>\n",
       "    </tr>\n",
       "    <tr>\n",
       "      <th>2</th>\n",
       "      <td>isco08</td>\n",
       "      <td>-0.000206</td>\n",
       "    </tr>\n",
       "    <tr>\n",
       "      <th>4</th>\n",
       "      <td>dwtype</td>\n",
       "      <td>-0.144093</td>\n",
       "    </tr>\n",
       "    <tr>\n",
       "      <th>9</th>\n",
       "      <td>nwtop</td>\n",
       "      <td>0.005397</td>\n",
       "    </tr>\n",
       "    <tr>\n",
       "      <th>10</th>\n",
       "      <td>edu</td>\n",
       "      <td>0.072198</td>\n",
       "    </tr>\n",
       "    <tr>\n",
       "      <th>15</th>\n",
       "      <td>eread</td>\n",
       "      <td>0.008541</td>\n",
       "    </tr>\n",
       "    <tr>\n",
       "      <th>16</th>\n",
       "      <td>isei08</td>\n",
       "      <td>-0.018472</td>\n",
       "    </tr>\n",
       "    <tr>\n",
       "      <th>17</th>\n",
       "      <td>siops08</td>\n",
       "      <td>0.016935</td>\n",
       "    </tr>\n",
       "    <tr>\n",
       "      <th>18</th>\n",
       "      <td>ht</td>\n",
       "      <td>0.034433</td>\n",
       "    </tr>\n",
       "    <tr>\n",
       "      <th>19</th>\n",
       "      <td>wt</td>\n",
       "      <td>0.008744</td>\n",
       "    </tr>\n",
       "  </tbody>\n",
       "</table>\n",
       "</div>"
      ],
      "text/plain": [
       "   variables      coef\n",
       "0        age  0.011070\n",
       "2     isco08 -0.000206\n",
       "4     dwtype -0.144093\n",
       "9      nwtop  0.005397\n",
       "10       edu  0.072198\n",
       "15     eread  0.008541\n",
       "16    isei08 -0.018472\n",
       "17   siops08  0.016935\n",
       "18        ht  0.034433\n",
       "19        wt  0.008744"
      ]
     },
     "execution_count": 33,
     "metadata": {},
     "output_type": "execute_result"
    }
   ],
   "source": [
    "#把变量名和系数储存成dataframe方便查看\n",
    "df_coef=pd.DataFrame(list(zip(list(inputs.columns),lso.coef_)), \n",
    "                     columns = ['variables', 'coef'])\n",
    "#变量选择：保留变量系数不为0 的\n",
    "df_coef.loc[df_coef['coef']!=0]"
   ]
  },
  {
   "cell_type": "code",
   "execution_count": 34,
   "metadata": {},
   "outputs": [
    {
     "data": {
      "image/png": "[encoded data removed]",
      "text/plain": [
       "<Figure size 1440x432 with 1 Axes>"
      ]
     },
     "metadata": {
      "needs_background": "light"
     },
     "output_type": "display_data"
    }
   ],
   "source": [
    "#系数大小条状图\n",
    "plt.figure(figsize=(20,6))\n",
    "sns.barplot(df_coef['variables'],df_coef['coef'])\n",
    "plt.show()"
   ]
  },
  {
   "cell_type": "code",
   "execution_count": 35,
   "metadata": {
    "scrolled": false
   },
   "outputs": [
    {
     "name": "stdout",
     "output_type": "stream",
     "text": [
      "当alpha= 0.01 时\n",
      "截距： [0.65071163] \n",
      " R2: 0.21134228280975154 \n",
      " MSE: 5.924652051807003 \n",
      " \n",
      "\n",
      "当alpha= 0.06444444444444444 时\n",
      "截距： [0.65071163] \n",
      " R2: 0.21134228280975154 \n",
      " MSE: 6.0303749290166415 \n",
      " \n",
      "\n",
      "当alpha= 0.11888888888888888 时\n",
      "截距： [0.65071163] \n",
      " R2: 0.21134228280975154 \n",
      " MSE: 6.105837722615484 \n",
      " \n",
      "\n",
      "当alpha= 0.17333333333333334 时\n",
      "截距： [0.65071163] \n",
      " R2: 0.21134228280975154 \n",
      " MSE: 6.111074682721123 \n",
      " \n",
      "\n",
      "当alpha= 0.22777777777777777 时\n",
      "截距： [0.65071163] \n",
      " R2: 0.21134228280975154 \n",
      " MSE: 6.118263042413522 \n",
      " \n",
      "\n",
      "当alpha= 0.2822222222222222 时\n",
      "截距： [0.65071163] \n",
      " R2: 0.21134228280975154 \n",
      " MSE: 6.127403001842685 \n",
      " \n",
      "\n",
      "当alpha= 0.33666666666666667 时\n",
      "截距： [0.65071163] \n",
      " R2: 0.21134228280975154 \n",
      " MSE: 6.138494346565067 \n",
      " \n",
      "\n",
      "当alpha= 0.3911111111111111 时\n",
      "截距： [0.65071163] \n",
      " R2: 0.21134228280975154 \n",
      " MSE: 6.151537324154966 \n",
      " \n",
      "\n",
      "当alpha= 0.44555555555555554 时\n",
      "截距： [0.65071163] \n",
      " R2: 0.21134228280975154 \n",
      " MSE: 6.166531989808981 \n",
      " \n",
      "\n",
      "当alpha= 0.5 时\n",
      "截距： [0.65071163] \n",
      " R2: 0.21134228280975154 \n",
      " MSE: 6.179409592000572 \n",
      " \n",
      "\n"
     ]
    }
   ],
   "source": [
    " #使用循环来定义多个alpha取值，\n",
    "for i in np.linspace(0.01,0.5,10):    #生成一个[0.1,0.5]之间的一个10个元素的线性序列  \n",
    "    print(\"当alpha=\",i,\"时\")\n",
    "    lasso = linear_model.Lasso(alpha = i)    \n",
    "    lasso.fit(inputs,labels)   \n",
    "    pry=lasso.predict(inputs)\n",
    "#     for n,m in zip(list(inputs.columns),lso.coef_):  \n",
    "#         print(n,m)      #打印每一个alpha取值下的变量系数\n",
    "    print(\"截距：\",lso.intercept_,'\\n',\n",
    "          \"R2:\",lso.score(inputs,labels),'\\n',\n",
    "           \"MSE:\",MSE(labels,pry),'\\n','\\n')   "
   ]
  },
  {
   "cell_type": "code",
   "execution_count": 47,
   "metadata": {},
   "outputs": [
    {
     "data": {
      "image/png": "[encoded data removed]",
      "text/plain": [
       "<Figure size 864x720 with 1 Axes>"
      ]
     },
     "metadata": {
      "needs_background": "light"
     },
     "output_type": "display_data"
    }
   ],
   "source": [
    "#不同lambda对应的系数值\n",
    "alpha_lasso = 10**np.linspace(-3,1,100)\n",
    "lasso = linear_model.Lasso()\n",
    "coefs_lasso = []\n",
    "\n",
    "\n",
    "for i in alpha_lasso:\n",
    "    lasso.set_params(alpha = i)\n",
    "    lasso.fit(inputs,labels)\n",
    "    coefs_lasso.append(lasso.coef_)\n",
    "\n",
    "plt.rcParams['font.sans-serif']=['Microsoft YaHei']   \n",
    "plt.figure(figsize=(12,10))\n",
    "ax = plt.gca()\n",
    "ax.plot(alpha_lasso, coefs_lasso)\n",
    "ax.set_xscale('log')\n",
    "plt.axis('tight')\n",
    "plt.xlabel('alpha')\n",
    "plt.ylabel('weights: scaled coefficients')\n",
    "plt.title('Lasso regression coefficients Vs. alpha')\n",
    "plt.legend(feature,loc=\"upper right\")\n",
    "\n",
    "plt.show()\n"
   ]
  },
  {
   "cell_type": "markdown",
   "metadata": {},
   "source": [
    "图中展示的是不同的变量随着alpha惩罚后，其系数的变化，我们要保留的就是系数不为0的变量。alpha值不断增大时系数才变为0的变量在模型中越重要。"
   ]
  },
  {
   "cell_type": "code",
   "execution_count": 33,
   "metadata": {},
   "outputs": [
    {
     "data": {
      "image/png": "[encoded data removed]",
      "text/plain": [
       "<Figure size 432x288 with 1 Axes>"
      ]
     },
     "metadata": {},
     "output_type": "display_data"
    }
   ],
   "source": [
    "#生成等差数列：\n",
    "al = np.linspace(0.01,0.5,10)\n",
    "y = np.zeros(10)\n",
    "plt.ylim([-0.5, 1])\n",
    "plt.plot(al,y,'o')\n",
    "plt.show()"
   ]
  },
  {
   "cell_type": "markdown",
   "metadata": {},
   "source": [
    "## 练习：\n",
    "\n",
    "使用循环，按不同比例划分训练集和测试集，使用不同的alpha取值来训练lasso回归模型，并找出结果最好的模型"
   ]
  },
  {
   "cell_type": "markdown",
   "metadata": {
    "collapsed": true
   },
   "source": [
    "# 聚类算法——异质性群体分解"
   ]
  },
  {
   "cell_type": "code",
   "execution_count": 20,
   "metadata": {},
   "outputs": [
    {
     "data": {
      "image/png": "[encoded data removed]",
      "text/plain": [
       "<Figure size 432x288 with 1 Axes>"
      ]
     },
     "metadata": {
      "needs_background": "light"
     },
     "output_type": "display_data"
    }
   ],
   "source": [
    "# 男性和女性教育回报的差异\n",
    "#有中文时防止乱码，必写\n",
    "plt.rcParams['font.sans-serif'] = ['SimHei']\n",
    "plt.rcParams['axes.unicode_minus'] = False\n",
    "d1=df.loc[df['gender']==0]\n",
    "d2=df.loc[df['gender']==1]\n",
    "\n",
    "sns.regplot(d1['edu'],d1['lnincm'] , color = 'lightblue',label='女性') # 散点图\n",
    "sns.regplot(d2['edu'],d2['lnincm'], color = 'red', label='男性') #回归直线\n",
    "# plt.xlabel(\"\") #行标签\n",
    "# plt.ylabel(\"体重\") #列标签\n",
    "plt.legend() # 显示图例，即每条线对应 label 中的内容\n",
    "plt.title('教育回报的性别差异')\n",
    "plt.show() # 显示图形"
   ]
  },
  {
   "cell_type": "markdown",
   "metadata": {},
   "source": [
    "基于理论的群体划分只能基于低维特征进行划分，而不能解决当决定子群体分割的特征维度较高时如何识别这些子群体\n",
    "\n",
    "因此我们需要使用机器学习的方法，让机器通过对特征的相似性计算来对群体进行聚类"
   ]
  },
  {
   "cell_type": "markdown",
   "metadata": {},
   "source": [
    "\n",
    ".\n",
    " <font color=black size=4 face=雅黑>**sklear中的10种聚类算法：**</font>\n",
    "\n",
    "\n",
    "    K-Means\n",
    "    Mini-Batch K-Means\n",
    "    Mean Shift\n",
    "    Affinity Propagation\n",
    "    Agglomerative Clustering\n",
    "    BIRCH\n",
    "    DBSCAN\n",
    "    OPTICS\n",
    "    Spectral Clustering\n",
    "    Mixture of Gaussians\n",
    "\n",
    "clusetring的9种：https://scikit-learn.org/stable/modules/clustering.html\n",
    "\n",
    "高斯混合：https://scikit-learn.org/stable/modules/generated/sklearn.mixture.GaussianMixture.html#sklearn.mixture.GaussianMixture\n",
    "\n",
    "\n",
    "十种聚类算法的介绍：https://machinelearningmastery.com/clustering-algorithms-with-python/\n",
    "\n",
    "常见的三种评估聚类性能的内部指标：\n",
    "https://blog.csdn.net/qq_27825451/article/details/94436488"
   ]
  },
  {
   "cell_type": "markdown",
   "metadata": {},
   "source": [
    "## 数据预处理——标准化\n",
    "https://blog.csdn.net/weixin_40807247/article/details/82793220"
   ]
  },
  {
   "cell_type": "code",
   "execution_count": 24,
   "metadata": {},
   "outputs": [],
   "source": [
    "#数据 ： 原始数据去掉rd1,rd2,rd3(随机生成的变量)和id，生成新的数据\n",
    "data=df[['age', 'gender', 'lnincm', 'lnfincm', 'isco08', 'manage', 'dwtype', 'tizhi', 'party', 'hukou','edu',  \n",
    "         'wide', 'nwtop', 'listening', 'speaking', 'book', 'newsp', 'eread', 'isei08', 'siops08', 'ht', 'wt', ]]"
   ]
  },
  {
   "cell_type": "code",
   "execution_count": 25,
   "metadata": {},
   "outputs": [
    {
     "data": {
      "text/plain": [
       "Index(['age', 'gender', 'lnincm', 'lnfincm', 'isco08', 'manage', 'dwtype',\n",
       "       'tizhi', 'party', 'hukou', 'edu', 'wide', 'nwtop', 'listening',\n",
       "       'speaking', 'book', 'newsp', 'eread', 'isei08', 'siops08', 'ht', 'wt'],\n",
       "      dtype='object')"
      ]
     },
     "execution_count": 25,
     "metadata": {},
     "output_type": "execute_result"
    }
   ],
   "source": [
    "data.shape\n",
    "data.columns"
   ]
  },
  {
   "cell_type": "code",
   "execution_count": 41,
   "metadata": {},
   "outputs": [
    {
     "name": "stdout",
     "output_type": "stream",
     "text": [
      "{False}\n"
     ]
    }
   ],
   "source": [
    "#聚类模型不允许存在缺失值，先检查缺失值\n",
    "nan=[]\n",
    "for i in data.columns:\n",
    "   # print(i,data[i].isnull().values.any())\n",
    "    nan.append(data[i].isnull().values.any())\n",
    "print(set(nan))"
   ]
  },
  {
   "cell_type": "code",
   "execution_count": 27,
   "metadata": {},
   "outputs": [],
   "source": [
    "# 导入sklearn中的数据处理函数中的标准化函数\n",
    "from sklearn.preprocessing import scale  # z-score标准化\n",
    "from sklearn.preprocessing import MinMaxScaler # 离差标准化"
   ]
  },
  {
   "cell_type": "code",
   "execution_count": 42,
   "metadata": {},
   "outputs": [],
   "source": [
    "#scale函数可以直接对dataframe进行标准化，得到一个numpy数组\n",
    "scale(data) #得到的是一个numpy数组，我们将其转化为df方便查看\n",
    "datastd=pd.DataFrame(scale(data),columns=list(data.columns))\n",
    "datastd.values\n",
    "#MinMaxScaler使用方法一样，sklearn.preprocessing给出了很多标准化、正则化的方法"
   ]
  },
  {
   "cell_type": "code",
   "execution_count": 43,
   "metadata": {},
   "outputs": [
    {
     "data": {
      "text/html": [
       "<div>\n",
       "<style scoped>\n",
       "    .dataframe tbody tr th:only-of-type {\n",
       "        vertical-align: middle;\n",
       "    }\n",
       "\n",
       "    .dataframe tbody tr th {\n",
       "        vertical-align: top;\n",
       "    }\n",
       "\n",
       "    .dataframe thead th {\n",
       "        text-align: right;\n",
       "    }\n",
       "</style>\n",
       "<table border=\"1\" class=\"dataframe\">\n",
       "  <thead>\n",
       "    <tr style=\"text-align: right;\">\n",
       "      <th></th>\n",
       "      <th>age</th>\n",
       "      <th>gender</th>\n",
       "      <th>lnincm</th>\n",
       "      <th>lnfincm</th>\n",
       "      <th>isco08</th>\n",
       "      <th>manage</th>\n",
       "      <th>dwtype</th>\n",
       "      <th>tizhi</th>\n",
       "      <th>party</th>\n",
       "      <th>hukou</th>\n",
       "      <th>...</th>\n",
       "      <th>nwtop</th>\n",
       "      <th>listening</th>\n",
       "      <th>speaking</th>\n",
       "      <th>book</th>\n",
       "      <th>newsp</th>\n",
       "      <th>eread</th>\n",
       "      <th>isei08</th>\n",
       "      <th>siops08</th>\n",
       "      <th>ht</th>\n",
       "      <th>wt</th>\n",
       "    </tr>\n",
       "  </thead>\n",
       "  <tbody>\n",
       "    <tr>\n",
       "      <th>0</th>\n",
       "      <td>-0.467868</td>\n",
       "      <td>-0.972381</td>\n",
       "      <td>0.655244</td>\n",
       "      <td>0.583647</td>\n",
       "      <td>-1.618571</td>\n",
       "      <td>0.471009</td>\n",
       "      <td>-1.454574</td>\n",
       "      <td>1.557131</td>\n",
       "      <td>-0.372763</td>\n",
       "      <td>1.053425</td>\n",
       "      <td>...</td>\n",
       "      <td>0.477673</td>\n",
       "      <td>0.705964</td>\n",
       "      <td>-0.557298</td>\n",
       "      <td>0.507438</td>\n",
       "      <td>-0.312507</td>\n",
       "      <td>0.536415</td>\n",
       "      <td>2.445261</td>\n",
       "      <td>2.007888</td>\n",
       "      <td>-0.681840</td>\n",
       "      <td>-0.138609</td>\n",
       "    </tr>\n",
       "    <tr>\n",
       "      <th>1</th>\n",
       "      <td>-1.162314</td>\n",
       "      <td>-0.972381</td>\n",
       "      <td>-0.354794</td>\n",
       "      <td>-0.316879</td>\n",
       "      <td>0.250340</td>\n",
       "      <td>0.471009</td>\n",
       "      <td>-0.306981</td>\n",
       "      <td>-0.642207</td>\n",
       "      <td>-0.372763</td>\n",
       "      <td>-0.949284</td>\n",
       "      <td>...</td>\n",
       "      <td>0.477673</td>\n",
       "      <td>-0.589383</td>\n",
       "      <td>-0.557298</td>\n",
       "      <td>-0.087293</td>\n",
       "      <td>-0.354853</td>\n",
       "      <td>0.536415</td>\n",
       "      <td>-0.167080</td>\n",
       "      <td>0.218131</td>\n",
       "      <td>-0.438543</td>\n",
       "      <td>1.572615</td>\n",
       "    </tr>\n",
       "  </tbody>\n",
       "</table>\n",
       "<p>2 rows × 22 columns</p>\n",
       "</div>"
      ],
      "text/plain": [
       "        age    gender    lnincm   lnfincm    isco08    manage    dwtype  \\\n",
       "0 -0.467868 -0.972381  0.655244  0.583647 -1.618571  0.471009 -1.454574   \n",
       "1 -1.162314 -0.972381 -0.354794 -0.316879  0.250340  0.471009 -0.306981   \n",
       "\n",
       "      tizhi     party     hukou  ...     nwtop  listening  speaking      book  \\\n",
       "0  1.557131 -0.372763  1.053425  ...  0.477673   0.705964 -0.557298  0.507438   \n",
       "1 -0.642207 -0.372763 -0.949284  ...  0.477673  -0.589383 -0.557298 -0.087293   \n",
       "\n",
       "      newsp     eread    isei08   siops08        ht        wt  \n",
       "0 -0.312507  0.536415  2.445261  2.007888 -0.681840 -0.138609  \n",
       "1 -0.354853  0.536415 -0.167080  0.218131 -0.438543  1.572615  \n",
       "\n",
       "[2 rows x 22 columns]"
      ]
     },
     "execution_count": 43,
     "metadata": {},
     "output_type": "execute_result"
    }
   ],
   "source": [
    "datastd.head(2)"
   ]
  },
  {
   "cell_type": "code",
   "execution_count": 30,
   "metadata": {},
   "outputs": [
    {
     "data": {
      "image/png": "[encoded data removed]",
      "text/plain": [
       "<Figure size 720x288 with 2 Axes>"
      ]
     },
     "metadata": {
      "needs_background": "light"
     },
     "output_type": "display_data"
    },
    {
     "name": "stdout",
     "output_type": "stream",
     "text": [
      "-8.526512829121202e-17 1.0005003753127735 51.411 15.847877909494178\n"
     ]
    }
   ],
   "source": [
    "#标准化后的年龄分布\n",
    "fig, (ax1, ax2) = plt.subplots(1,2, figsize=(10,4))\n",
    "sns.distplot(datastd['age'],ax=ax1)\n",
    "sns.distplot(data['age'],ax=ax2)\n",
    "ax1.set_title ('zscore age',fontsize=10)\n",
    "ax2.set_title ('age',fontsize=10)\n",
    "plt.show()\n",
    "print(datastd['age'].mean(),datastd['age'].std(),data['age'].mean(),data['age'].std())"
   ]
  },
  {
   "cell_type": "code",
   "execution_count": 2,
   "metadata": {},
   "outputs": [],
   "source": [
    "# 导入packages\n",
    "from sklearn import mixture #导入聚类包\n",
    "from sklearn.mixture import GaussianMixture\n",
    "from sklearn.cluster import KMeans,SpectralClustering,AgglomerativeClustering\n",
    "#聚类指标评估  轮廓系数、CH得分，DBI\n",
    "from sklearn.metrics import silhouette_score,calinski_harabasz_score,davies_bouldin_score"
   ]
  },
  {
   "cell_type": "markdown",
   "metadata": {},
   "source": [
    "## kmeans聚类代码实现"
   ]
  },
  {
   "cell_type": "code",
   "execution_count": 1,
   "metadata": {},
   "outputs": [
    {
     "ename": "NameError",
     "evalue": "name 'np' is not defined",
     "output_type": "error",
     "traceback": [
      "\u001b[1;31m---------------------------------------------------------------------------\u001b[0m",
      "\u001b[1;31mNameError\u001b[0m                                 Traceback (most recent call last)",
      "\u001b[1;32m<ipython-input-1-62f76396ad48>\u001b[0m in \u001b[0;36m<module>\u001b[1;34m\u001b[0m\n\u001b[0;32m      1\u001b[0m \u001b[1;31m#定义随机数种子以保证每次结果相同\u001b[0m\u001b[1;33m\u001b[0m\u001b[1;33m\u001b[0m\u001b[1;33m\u001b[0m\u001b[0m\n\u001b[1;32m----> 2\u001b[1;33m \u001b[0mnp\u001b[0m\u001b[1;33m.\u001b[0m\u001b[0mrandom\u001b[0m\u001b[1;33m.\u001b[0m\u001b[0mseed\u001b[0m\u001b[1;33m(\u001b[0m\u001b[1;36m12345\u001b[0m\u001b[1;33m)\u001b[0m\u001b[1;33m\u001b[0m\u001b[1;33m\u001b[0m\u001b[0m\n\u001b[0m\u001b[0;32m      3\u001b[0m \u001b[1;31m# 运行 kmeans 聚类，聚3类\u001b[0m\u001b[1;33m\u001b[0m\u001b[1;33m\u001b[0m\u001b[1;33m\u001b[0m\u001b[0m\n\u001b[0;32m      4\u001b[0m \u001b[0mkm\u001b[0m \u001b[1;33m=\u001b[0m \u001b[0mKMeans\u001b[0m\u001b[1;33m(\u001b[0m\u001b[0mn_clusters\u001b[0m\u001b[1;33m=\u001b[0m\u001b[1;36m3\u001b[0m\u001b[1;33m,\u001b[0m \u001b[0mrandom_state\u001b[0m\u001b[1;33m=\u001b[0m\u001b[1;36m250\u001b[0m\u001b[1;33m,\u001b[0m\u001b[0mmax_iter\u001b[0m\u001b[1;33m=\u001b[0m\u001b[1;36m3000\u001b[0m\u001b[1;33m)\u001b[0m\u001b[1;31m#.fit(datastd.values)\u001b[0m\u001b[1;33m\u001b[0m\u001b[1;33m\u001b[0m\u001b[0m\n",
      "\u001b[1;31mNameError\u001b[0m: name 'np' is not defined"
     ]
    }
   ],
   "source": [
    "#定义随机数种子以保证每次结果相同\n",
    "np.random.seed(12345)\n",
    "# 运行 kmeans 聚类，聚3类\n",
    "km = KMeans(n_clusters=3, random_state=250,max_iter=3000)#.fit(datastd.values)"
   ]
  },
  {
   "cell_type": "code",
   "execution_count": 57,
   "metadata": {},
   "outputs": [
    {
     "ename": "AttributeError",
     "evalue": "'KMeans' object has no attribute 'inertia_'",
     "output_type": "error",
     "traceback": [
      "\u001b[1;31m---------------------------------------------------------------------------\u001b[0m",
      "\u001b[1;31mAttributeError\u001b[0m                            Traceback (most recent call last)",
      "\u001b[1;32m<ipython-input-57-43bae776b90f>\u001b[0m in \u001b[0;36m<module>\u001b[1;34m\u001b[0m\n\u001b[0;32m      1\u001b[0m \u001b[1;31m#查看结果\u001b[0m\u001b[1;33m\u001b[0m\u001b[1;33m\u001b[0m\u001b[1;33m\u001b[0m\u001b[0m\n\u001b[1;32m----> 2\u001b[1;33m \u001b[0mprint\u001b[0m\u001b[1;33m(\u001b[0m\u001b[1;34m'kmeans:'\u001b[0m\u001b[1;33m,\u001b[0m\u001b[1;34m'nclusters:'\u001b[0m\u001b[1;33m,\u001b[0m\u001b[1;36m3\u001b[0m\u001b[1;33m,\u001b[0m\u001b[1;34m'inertia:'\u001b[0m\u001b[1;33m,\u001b[0m\u001b[0mkm\u001b[0m\u001b[1;33m.\u001b[0m\u001b[0minertia_\u001b[0m\u001b[1;33m,\u001b[0m \u001b[1;34m'n_iter:'\u001b[0m\u001b[1;33m,\u001b[0m\u001b[0mkm\u001b[0m\u001b[1;33m.\u001b[0m\u001b[0mn_iter_\u001b[0m\u001b[1;33m,\u001b[0m \u001b[1;33m)\u001b[0m\u001b[1;33m\u001b[0m\u001b[1;33m\u001b[0m\u001b[0m\n\u001b[0m\u001b[0;32m      3\u001b[0m \u001b[0mprint\u001b[0m\u001b[1;33m(\u001b[0m\u001b[1;34m'clustercenters: '\u001b[0m\u001b[1;33m,\u001b[0m\u001b[0mkm\u001b[0m\u001b[1;33m.\u001b[0m\u001b[0mcluster_centers_\u001b[0m \u001b[1;33m)\u001b[0m\u001b[1;33m\u001b[0m\u001b[1;33m\u001b[0m\u001b[0m\n",
      "\u001b[1;31mAttributeError\u001b[0m: 'KMeans' object has no attribute 'inertia_'"
     ]
    }
   ],
   "source": [
    "#将类别标签加入dataframe,方便后面对比\n",
    "df['kmeans']=km.labels_ \n",
    "#查看结果\n",
    "print('kmeans:','nclusters:',3,'inertia:',km.inertia_, 'n_iter:',km.n_iter_, ) \n",
    "print('clustercenters: ',km.cluster_centers_ )"
   ]
  },
  {
   "cell_type": "code",
   "execution_count": 59,
   "metadata": {},
   "outputs": [
    {
     "name": "stdout",
     "output_type": "stream",
     "text": [
      "0.13526835082183392 210.73693925928657 2.2202394637893463\n"
     ]
    }
   ],
   "source": [
    "#聚类效果评估 \n",
    "#写法就是评估函数（X，labels）\n",
    "ksh=silhouette_score(datastd.values,km.labels_)   #轮廓系数越大越好\n",
    "kch=calinski_harabasz_score(datastd.values,km.labels_)  #ch得分越大越好\n",
    "kdbi=davies_bouldin_score(datastd.values,km.labels_)  #DBI越小越好\n",
    "print(ksh,kch,kdbi)"
   ]
  },
  {
   "cell_type": "markdown",
   "metadata": {},
   "source": [
    "## 凝聚层次聚类代码实现"
   ]
  },
  {
   "cell_type": "code",
   "execution_count": 34,
   "metadata": {},
   "outputs": [
    {
     "name": "stdout",
     "output_type": "stream",
     "text": [
      "距离测量:  euclidean \n",
      " nclusters: 3 linkage: average 轮廓系数：  0.12563126720982595 CH-score:  138.9957032186941 DBI:  2.773633961771529\n",
      "距离测量:  manhattan \n",
      " nclusters: 3 linkage: average 轮廓系数：  0.12563126720982595 CH-score:  138.9957032186941 DBI:  2.773633961771529\n",
      "距离测量:  cosine \n",
      " nclusters: 3 linkage: average 轮廓系数：  0.20793496936965053 CH-score:  96.93319438073583 DBI:  3.757835138714538\n",
      "\n",
      "\n",
      "linkage: single \n",
      " nclusters: 3 距离测量: euclidean 轮廓系数: 0.13864527077781294 CH-score: 121.53087856745556 DBI: 2.6524501053358356\n",
      "linkage: average \n",
      " nclusters: 3 距离测量: euclidean 轮廓系数: 0.12563126720982595 CH-score: 138.9957032186941 DBI: 2.773633961771529\n",
      "linkage: complete \n",
      " nclusters: 3 距离测量: euclidean 轮廓系数: 0.12563126720982595 CH-score: 138.9957032186941 DBI: 2.773633961771529\n"
     ]
    }
   ],
   "source": [
    "#规定距离测量方式affinity\n",
    "distances=[ 'euclidean', 'manhattan', 'cosine']   #L1 L2距离分别等价于曼哈顿和欧式距离，不再重复\n",
    "\n",
    "#规定合并时依据的簇间距离测量方式：linkage\n",
    "linkages=['single','average','complete']  #ward只能用于欧式距离\n",
    "\n",
    "#不同距离测量，average linkage\n",
    "for d in distances:\n",
    "    hierachical=AgglomerativeClustering(n_clusters=3,affinity=d,linkage='average').fit(data.values)\n",
    "    #模型评估\n",
    "    ksh=silhouette_score(datastd.values,hierachical.labels_)   #轮廓系数越大越好\n",
    "    kch=calinski_harabasz_score(datastd.values,hierachical.labels_)  #ch得分越大越好\n",
    "    kdbi=davies_bouldin_score(datastd.values,hierachical.labels_)  #DBI越小越好\n",
    "    print('距离测量: ',d,'\\n','nclusters:',3,'linkage: average',\n",
    "         '轮廓系数： ',ksh, 'CH-score: ',kch, 'DBI: ',kdbi)\n",
    "\n",
    "print('\\n')\n",
    "#不同合并方式，euclidean distance\n",
    "for l in linkages:\n",
    "    hierachical=AgglomerativeClustering(n_clusters=3,affinity='euclidean',linkage=l).fit(data.values)\n",
    "    #模型评估\n",
    "    ksh=silhouette_score(datastd.values,hierachical.labels_)   #轮廓系数越大越好\n",
    "    kch=calinski_harabasz_score(datastd.values,hierachical.labels_)  #ch得分越大越好\n",
    "    kdbi=davies_bouldin_score(datastd.values,hierachical.labels_)  #DBI越小越好\n",
    "    print('linkage:',l,'\\n','nclusters:',3,'距离测量:','euclidean',\n",
    "         '轮廓系数:',ksh, 'CH-score:',kch, 'DBI:',kdbi)\n"
   ]
  },
  {
   "cell_type": "code",
   "execution_count": 61,
   "metadata": {},
   "outputs": [
    {
     "name": "stdout",
     "output_type": "stream",
     "text": [
      "single euclidean 3clusers 轮廓系数: 0.5657280684736357 CH-score: 9.813127513927393 DBI: 0.3111175345726573\n",
      "single euclidean 4clusers 轮廓系数: 0.5657280684736357 CH-score: 9.813127513927393 DBI: 0.3111175345726573\n",
      "single euclidean 5clusers 轮廓系数: 0.5657280684736357 CH-score: 9.813127513927393 DBI: 0.3111175345726573\n",
      "single manhattan 3clusers 轮廓系数: 0.5657280684736357 CH-score: 9.813127513927393 DBI: 0.3111175345726573\n",
      "single manhattan 4clusers 轮廓系数: 0.5657280684736357 CH-score: 9.813127513927393 DBI: 0.3111175345726573\n",
      "single manhattan 5clusers 轮廓系数: 0.5657280684736357 CH-score: 9.813127513927393 DBI: 0.3111175345726573\n",
      "single cosine 3clusers 轮廓系数: -0.03539933273746496 CH-score: 1.069032340241985 DBI: 0.9977077951189645\n",
      "single cosine 4clusers 轮廓系数: -0.03539933273746496 CH-score: 1.069032340241985 DBI: 0.9977077951189645\n",
      "single cosine 5clusers 轮廓系数: -0.03539933273746496 CH-score: 1.069032340241985 DBI: 0.9977077951189645\n",
      "average euclidean 3clusers 轮廓系数: 0.3951956925316196 CH-score: 19.464019218160995 DBI: 0.9526582397140335\n",
      "average euclidean 4clusers 轮廓系数: 0.3951956925316196 CH-score: 19.464019218160995 DBI: 0.9526582397140335\n",
      "average euclidean 5clusers 轮廓系数: 0.3951956925316196 CH-score: 19.464019218160995 DBI: 0.9526582397140335\n",
      "average manhattan 3clusers 轮廓系数: 0.28941481240734024 CH-score: 8.687899129509074 DBI: 1.090609686978208\n",
      "average manhattan 4clusers 轮廓系数: 0.28941481240734024 CH-score: 8.687899129509074 DBI: 1.090609686978208\n",
      "average manhattan 5clusers 轮廓系数: 0.28941481240734024 CH-score: 8.687899129509074 DBI: 1.090609686978208\n",
      "average cosine 3clusers 轮廓系数: 0.10625224765172916 CH-score: 165.99269740254016 DBI: 2.0603892433042854\n",
      "average cosine 4clusers 轮廓系数: 0.10625224765172916 CH-score: 165.99269740254016 DBI: 2.0603892433042854\n",
      "average cosine 5clusers 轮廓系数: 0.10625224765172916 CH-score: 165.99269740254016 DBI: 2.0603892433042854\n",
      "complete euclidean 3clusers 轮廓系数: 0.2081260923411249 CH-score: 78.44619229379812 DBI: 1.6022722558743914\n",
      "complete euclidean 4clusers 轮廓系数: 0.2081260923411249 CH-score: 78.44619229379812 DBI: 1.6022722558743914\n",
      "complete euclidean 5clusers 轮廓系数: 0.2081260923411249 CH-score: 78.44619229379812 DBI: 1.6022722558743914\n",
      "complete manhattan 3clusers 轮廓系数: 0.20202980015699928 CH-score: 138.965198689744 DBI: 1.72005879254874\n",
      "complete manhattan 4clusers 轮廓系数: 0.20202980015699928 CH-score: 138.965198689744 DBI: 1.72005879254874\n",
      "complete manhattan 5clusers 轮廓系数: 0.20202980015699928 CH-score: 138.965198689744 DBI: 1.72005879254874\n",
      "complete cosine 3clusers 轮廓系数: 0.13099023179095473 CH-score: 143.3450440914212 DBI: 2.9237350181715662\n",
      "complete cosine 4clusers 轮廓系数: 0.13099023179095473 CH-score: 143.3450440914212 DBI: 2.9237350181715662\n",
      "complete cosine 5clusers 轮廓系数: 0.13099023179095473 CH-score: 143.3450440914212 DBI: 2.9237350181715662\n"
     ]
    }
   ],
   "source": [
    "# 不同距离，不同合并方式，不同cluser\n",
    "sdf=pd.DataFrame()\n",
    "for l in linkages[:]:\n",
    "    for d in distances:\n",
    "        for i in range(3,6):\n",
    "            ag=AgglomerativeClustering(n_clusters=3,affinity=d,linkage=l).fit(datastd.values)\n",
    "            ksh=silhouette_score(datastd.values,ag.labels_)   #轮廓系数越大越好\n",
    "            kch=calinski_harabasz_score(datastd.values,ag.labels_)  #ch得分越大越好\n",
    "            kdbi=davies_bouldin_score(datastd.values,ag.labels_)  #DBI越小越好\n",
    "            print(l,d,str(i)+'clusers','轮廓系数:',ksh, 'CH-score:',kch, 'DBI:',kdbi)  "
   ]
  },
  {
   "cell_type": "markdown",
   "metadata": {},
   "source": [
    "### 高斯混合聚类"
   ]
  },
  {
   "cell_type": "code",
   "execution_count": 62,
   "metadata": {},
   "outputs": [
    {
     "name": "stdout",
     "output_type": "stream",
     "text": [
      "GaussianMixture(n_components=3, random_state=0) 0.11199812024622073 126.19759013252055 3.911523775785962\n"
     ]
    }
   ],
   "source": [
    "#n_components定义聚类数量\n",
    "gm = GaussianMixture(n_components=3, random_state=0).fit(datastd.values)\n",
    "#高斯混合聚类的标签需要先使用gm_predic预测\n",
    "gm_p=gm.predict(datastd.values)\n",
    "ksh=silhouette_score(datastd.values,gm_p)   #轮廓系数越大越好\n",
    "kch=calinski_harabasz_score(datastd.values,gm_p)  #ch得分越大越好\n",
    "kdbi=davies_bouldin_score(datastd.values,gm_p)  \n",
    "print(gm,ksh,kch,kdbi)"
   ]
  },
  {
   "cell_type": "markdown",
   "metadata": {},
   "source": [
    "## 模型选择\n",
    "\n",
    "不同种类的聚类模型、模型的参数设置不同都会导致聚类的结果有所差异，那么如何选择模型呢？\n",
    "\n",
    "我们首先要确定模型评估的指标，然后按照不同的参数设置运行模型，然后选取表现最好的模型。\n",
    "\n",
    "例子：\n",
    " <img src=\"./pics/chplot.png\" width=800 heigth=700>\n"
   ]
  },
  {
   "cell_type": "markdown",
   "metadata": {},
   "source": [
    "## 每个类别特征描述可视化\n",
    "\n",
    "由于我们使用的维度较高，无法像前面的二维数据的例子那样呈现出聚类后每一类长什么样子，不知道聚类聚出了啥，因此我们需要用一些描述统计、可视化的方法来看每一类的特征，再给每个类别起个名字（逻辑和因子分析一样）\n",
    "\n",
    "\n",
    "\n",
    "例如：\n",
    "\n",
    "<img src=\"./pics/vis.png\" width=800 heigth=700>\n",
    "\n",
    "\n",
    "## 练习：\n",
    "\n",
    "使用不同的模型、不同参数设置对人群进行划分，然后选择出最好的模型，用模型的类别作为分组的依据进行回归\n",
    "\n"
   ]
  },
  {
   "cell_type": "markdown",
   "metadata": {},
   "source": [
    "# 决策树与随机森林\n",
    "\n",
    "\n",
    "决策树的算法：ID3、C4.5、CART，我们现在普遍使用的是CART（分类回归树，Classification and Regression Tree)\n"
   ]
  },
  {
   "cell_type": "markdown",
   "metadata": {},
   "source": [
    "## 分类树"
   ]
  },
  {
   "cell_type": "code",
   "execution_count": 37,
   "metadata": {},
   "outputs": [],
   "source": [
    "#导入决策树-分类树\n",
    "from sklearn.tree import DecisionTreeClassifier\n",
    "import pandas as pd\n",
    "#导入决策树-分类树\n",
    "from sklearn.tree import DecisionTreeClassifier"
   ]
  },
  {
   "cell_type": "code",
   "execution_count": 53,
   "metadata": {},
   "outputs": [
    {
     "ename": "KeyError",
     "evalue": "\"None of [Index(['特征1', '特征2', Ellipsis], dtype='object')] are in the [columns]\"",
     "output_type": "error",
     "traceback": [
      "\u001b[1;31m---------------------------------------------------------------------------\u001b[0m",
      "\u001b[1;31mKeyError\u001b[0m                                  Traceback (most recent call last)",
      "\u001b[1;32m<ipython-input-53-7fcb864a90d1>\u001b[0m in \u001b[0;36m<module>\u001b[1;34m\u001b[0m\n\u001b[0;32m      4\u001b[0m \u001b[1;31m# 创建 K-Means 模型并拟合数据\u001b[0m\u001b[1;33m\u001b[0m\u001b[1;33m\u001b[0m\u001b[1;33m\u001b[0m\u001b[0m\n\u001b[0;32m      5\u001b[0m \u001b[0mkmeans\u001b[0m \u001b[1;33m=\u001b[0m \u001b[0mKMeans\u001b[0m\u001b[1;33m(\u001b[0m\u001b[0mn_clusters\u001b[0m\u001b[1;33m=\u001b[0m\u001b[1;36m3\u001b[0m\u001b[1;33m,\u001b[0m \u001b[0mrandom_state\u001b[0m\u001b[1;33m=\u001b[0m\u001b[1;36m250\u001b[0m\u001b[1;33m,\u001b[0m \u001b[0mmax_iter\u001b[0m\u001b[1;33m=\u001b[0m\u001b[1;36m3000\u001b[0m\u001b[1;33m)\u001b[0m\u001b[1;33m\u001b[0m\u001b[1;33m\u001b[0m\u001b[0m\n\u001b[1;32m----> 6\u001b[1;33m \u001b[0mdf\u001b[0m\u001b[1;33m[\u001b[0m\u001b[1;34m'kmeans'\u001b[0m\u001b[1;33m]\u001b[0m \u001b[1;33m=\u001b[0m \u001b[0mkmeans\u001b[0m\u001b[1;33m.\u001b[0m\u001b[0mfit_predict\u001b[0m\u001b[1;33m(\u001b[0m\u001b[0mdf\u001b[0m\u001b[1;33m[\u001b[0m\u001b[1;33m[\u001b[0m\u001b[1;34m'特征1'\u001b[0m\u001b[1;33m,\u001b[0m \u001b[1;34m'特征2'\u001b[0m\u001b[1;33m,\u001b[0m \u001b[1;33m...\u001b[0m\u001b[1;33m]\u001b[0m\u001b[1;33m]\u001b[0m\u001b[1;33m)\u001b[0m  \u001b[1;31m# 替换 '特征1', '特征2', ... 为你的特征列\u001b[0m\u001b[1;33m\u001b[0m\u001b[1;33m\u001b[0m\u001b[0m\n\u001b[0m\u001b[0;32m      7\u001b[0m \u001b[1;33m\u001b[0m\u001b[0m\n\u001b[0;32m      8\u001b[0m \u001b[1;31m# 打印或查看新的数据框\u001b[0m\u001b[1;33m\u001b[0m\u001b[1;33m\u001b[0m\u001b[1;33m\u001b[0m\u001b[0m\n",
      "\u001b[1;32md:\\ProgramData\\Anaconda3\\lib\\site-packages\\pandas\\core\\frame.py\u001b[0m in \u001b[0;36m__getitem__\u001b[1;34m(self, key)\u001b[0m\n\u001b[0;32m   3765\u001b[0m             \u001b[1;32mif\u001b[0m \u001b[0mis_iterator\u001b[0m\u001b[1;33m(\u001b[0m\u001b[0mkey\u001b[0m\u001b[1;33m)\u001b[0m\u001b[1;33m:\u001b[0m\u001b[1;33m\u001b[0m\u001b[1;33m\u001b[0m\u001b[0m\n\u001b[0;32m   3766\u001b[0m                 \u001b[0mkey\u001b[0m \u001b[1;33m=\u001b[0m \u001b[0mlist\u001b[0m\u001b[1;33m(\u001b[0m\u001b[0mkey\u001b[0m\u001b[1;33m)\u001b[0m\u001b[1;33m\u001b[0m\u001b[1;33m\u001b[0m\u001b[0m\n\u001b[1;32m-> 3767\u001b[1;33m             \u001b[0mindexer\u001b[0m \u001b[1;33m=\u001b[0m \u001b[0mself\u001b[0m\u001b[1;33m.\u001b[0m\u001b[0mcolumns\u001b[0m\u001b[1;33m.\u001b[0m\u001b[0m_get_indexer_strict\u001b[0m\u001b[1;33m(\u001b[0m\u001b[0mkey\u001b[0m\u001b[1;33m,\u001b[0m \u001b[1;34m\"columns\"\u001b[0m\u001b[1;33m)\u001b[0m\u001b[1;33m[\u001b[0m\u001b[1;36m1\u001b[0m\u001b[1;33m]\u001b[0m\u001b[1;33m\u001b[0m\u001b[1;33m\u001b[0m\u001b[0m\n\u001b[0m\u001b[0;32m   3768\u001b[0m \u001b[1;33m\u001b[0m\u001b[0m\n\u001b[0;32m   3769\u001b[0m         \u001b[1;31m# take() does not accept boolean indexers\u001b[0m\u001b[1;33m\u001b[0m\u001b[1;33m\u001b[0m\u001b[1;33m\u001b[0m\u001b[0m\n",
      "\u001b[1;32md:\\ProgramData\\Anaconda3\\lib\\site-packages\\pandas\\core\\indexes\\base.py\u001b[0m in \u001b[0;36m_get_indexer_strict\u001b[1;34m(self, key, axis_name)\u001b[0m\n\u001b[0;32m   5875\u001b[0m             \u001b[0mkeyarr\u001b[0m\u001b[1;33m,\u001b[0m \u001b[0mindexer\u001b[0m\u001b[1;33m,\u001b[0m \u001b[0mnew_indexer\u001b[0m \u001b[1;33m=\u001b[0m \u001b[0mself\u001b[0m\u001b[1;33m.\u001b[0m\u001b[0m_reindex_non_unique\u001b[0m\u001b[1;33m(\u001b[0m\u001b[0mkeyarr\u001b[0m\u001b[1;33m)\u001b[0m\u001b[1;33m\u001b[0m\u001b[1;33m\u001b[0m\u001b[0m\n\u001b[0;32m   5876\u001b[0m \u001b[1;33m\u001b[0m\u001b[0m\n\u001b[1;32m-> 5877\u001b[1;33m         \u001b[0mself\u001b[0m\u001b[1;33m.\u001b[0m\u001b[0m_raise_if_missing\u001b[0m\u001b[1;33m(\u001b[0m\u001b[0mkeyarr\u001b[0m\u001b[1;33m,\u001b[0m \u001b[0mindexer\u001b[0m\u001b[1;33m,\u001b[0m \u001b[0maxis_name\u001b[0m\u001b[1;33m)\u001b[0m\u001b[1;33m\u001b[0m\u001b[1;33m\u001b[0m\u001b[0m\n\u001b[0m\u001b[0;32m   5878\u001b[0m \u001b[1;33m\u001b[0m\u001b[0m\n\u001b[0;32m   5879\u001b[0m         \u001b[0mkeyarr\u001b[0m \u001b[1;33m=\u001b[0m \u001b[0mself\u001b[0m\u001b[1;33m.\u001b[0m\u001b[0mtake\u001b[0m\u001b[1;33m(\u001b[0m\u001b[0mindexer\u001b[0m\u001b[1;33m)\u001b[0m\u001b[1;33m\u001b[0m\u001b[1;33m\u001b[0m\u001b[0m\n",
      "\u001b[1;32md:\\ProgramData\\Anaconda3\\lib\\site-packages\\pandas\\core\\indexes\\base.py\u001b[0m in \u001b[0;36m_raise_if_missing\u001b[1;34m(self, key, indexer, axis_name)\u001b[0m\n\u001b[0;32m   5936\u001b[0m                 \u001b[1;32mif\u001b[0m \u001b[0muse_interval_msg\u001b[0m\u001b[1;33m:\u001b[0m\u001b[1;33m\u001b[0m\u001b[1;33m\u001b[0m\u001b[0m\n\u001b[0;32m   5937\u001b[0m                     \u001b[0mkey\u001b[0m \u001b[1;33m=\u001b[0m \u001b[0mlist\u001b[0m\u001b[1;33m(\u001b[0m\u001b[0mkey\u001b[0m\u001b[1;33m)\u001b[0m\u001b[1;33m\u001b[0m\u001b[1;33m\u001b[0m\u001b[0m\n\u001b[1;32m-> 5938\u001b[1;33m                 \u001b[1;32mraise\u001b[0m \u001b[0mKeyError\u001b[0m\u001b[1;33m(\u001b[0m\u001b[1;34mf\"None of [{key}] are in the [{axis_name}]\"\u001b[0m\u001b[1;33m)\u001b[0m\u001b[1;33m\u001b[0m\u001b[1;33m\u001b[0m\u001b[0m\n\u001b[0m\u001b[0;32m   5939\u001b[0m \u001b[1;33m\u001b[0m\u001b[0m\n\u001b[0;32m   5940\u001b[0m             \u001b[0mnot_found\u001b[0m \u001b[1;33m=\u001b[0m \u001b[0mlist\u001b[0m\u001b[1;33m(\u001b[0m\u001b[0mensure_index\u001b[0m\u001b[1;33m(\u001b[0m\u001b[0mkey\u001b[0m\u001b[1;33m)\u001b[0m\u001b[1;33m[\u001b[0m\u001b[0mmissing_mask\u001b[0m\u001b[1;33m.\u001b[0m\u001b[0mnonzero\u001b[0m\u001b[1;33m(\u001b[0m\u001b[1;33m)\u001b[0m\u001b[1;33m[\u001b[0m\u001b[1;36m0\u001b[0m\u001b[1;33m]\u001b[0m\u001b[1;33m]\u001b[0m\u001b[1;33m.\u001b[0m\u001b[0munique\u001b[0m\u001b[1;33m(\u001b[0m\u001b[1;33m)\u001b[0m\u001b[1;33m)\u001b[0m\u001b[1;33m\u001b[0m\u001b[1;33m\u001b[0m\u001b[0m\n",
      "\u001b[1;31mKeyError\u001b[0m: \"None of [Index(['特征1', '特征2', Ellipsis], dtype='object')] are in the [columns]\""
     ]
    }
   ],
   "source": []
  },
  {
   "cell_type": "code",
   "execution_count": 52,
   "metadata": {},
   "outputs": [
    {
     "ename": "KeyError",
     "evalue": "'kmeans'",
     "output_type": "error",
     "traceback": [
      "\u001b[1;31m---------------------------------------------------------------------------\u001b[0m",
      "\u001b[1;31mKeyError\u001b[0m                                  Traceback (most recent call last)",
      "\u001b[1;32md:\\ProgramData\\Anaconda3\\lib\\site-packages\\pandas\\core\\indexes\\base.py\u001b[0m in \u001b[0;36mget_loc\u001b[1;34m(self, key)\u001b[0m\n\u001b[0;32m   3652\u001b[0m         \u001b[1;32mtry\u001b[0m\u001b[1;33m:\u001b[0m\u001b[1;33m\u001b[0m\u001b[1;33m\u001b[0m\u001b[0m\n\u001b[1;32m-> 3653\u001b[1;33m             \u001b[1;32mreturn\u001b[0m \u001b[0mself\u001b[0m\u001b[1;33m.\u001b[0m\u001b[0m_engine\u001b[0m\u001b[1;33m.\u001b[0m\u001b[0mget_loc\u001b[0m\u001b[1;33m(\u001b[0m\u001b[0mcasted_key\u001b[0m\u001b[1;33m)\u001b[0m\u001b[1;33m\u001b[0m\u001b[1;33m\u001b[0m\u001b[0m\n\u001b[0m\u001b[0;32m   3654\u001b[0m         \u001b[1;32mexcept\u001b[0m \u001b[0mKeyError\u001b[0m \u001b[1;32mas\u001b[0m \u001b[0merr\u001b[0m\u001b[1;33m:\u001b[0m\u001b[1;33m\u001b[0m\u001b[1;33m\u001b[0m\u001b[0m\n",
      "\u001b[1;32md:\\ProgramData\\Anaconda3\\lib\\site-packages\\pandas\\_libs\\index.pyx\u001b[0m in \u001b[0;36mpandas._libs.index.IndexEngine.get_loc\u001b[1;34m()\u001b[0m\n",
      "\u001b[1;32md:\\ProgramData\\Anaconda3\\lib\\site-packages\\pandas\\_libs\\index.pyx\u001b[0m in \u001b[0;36mpandas._libs.index.IndexEngine.get_loc\u001b[1;34m()\u001b[0m\n",
      "\u001b[1;32mpandas\\_libs\\hashtable_class_helper.pxi\u001b[0m in \u001b[0;36mpandas._libs.hashtable.PyObjectHashTable.get_item\u001b[1;34m()\u001b[0m\n",
      "\u001b[1;32mpandas\\_libs\\hashtable_class_helper.pxi\u001b[0m in \u001b[0;36mpandas._libs.hashtable.PyObjectHashTable.get_item\u001b[1;34m()\u001b[0m\n",
      "\u001b[1;31mKeyError\u001b[0m: 'kmeans'",
      "\nThe above exception was the direct cause of the following exception:\n",
      "\u001b[1;31mKeyError\u001b[0m                                  Traceback (most recent call last)",
      "\u001b[1;32m<ipython-input-52-dac114bc8803>\u001b[0m in \u001b[0;36m<module>\u001b[1;34m\u001b[0m\n\u001b[0;32m      1\u001b[0m \u001b[1;31m# 使用3类别的kmeans聚类\u001b[0m\u001b[1;33m\u001b[0m\u001b[1;33m\u001b[0m\u001b[1;33m\u001b[0m\u001b[0m\n\u001b[1;32m----> 2\u001b[1;33m \u001b[0mdf\u001b[0m\u001b[1;33m[\u001b[0m\u001b[1;34m'kmeans'\u001b[0m\u001b[1;33m]\u001b[0m\u001b[1;33m.\u001b[0m\u001b[0munique\u001b[0m\u001b[1;33m(\u001b[0m\u001b[1;33m)\u001b[0m\u001b[1;33m\u001b[0m\u001b[1;33m\u001b[0m\u001b[0m\n\u001b[0m",
      "\u001b[1;32md:\\ProgramData\\Anaconda3\\lib\\site-packages\\pandas\\core\\frame.py\u001b[0m in \u001b[0;36m__getitem__\u001b[1;34m(self, key)\u001b[0m\n\u001b[0;32m   3759\u001b[0m             \u001b[1;32mif\u001b[0m \u001b[0mself\u001b[0m\u001b[1;33m.\u001b[0m\u001b[0mcolumns\u001b[0m\u001b[1;33m.\u001b[0m\u001b[0mnlevels\u001b[0m \u001b[1;33m>\u001b[0m \u001b[1;36m1\u001b[0m\u001b[1;33m:\u001b[0m\u001b[1;33m\u001b[0m\u001b[1;33m\u001b[0m\u001b[0m\n\u001b[0;32m   3760\u001b[0m                 \u001b[1;32mreturn\u001b[0m \u001b[0mself\u001b[0m\u001b[1;33m.\u001b[0m\u001b[0m_getitem_multilevel\u001b[0m\u001b[1;33m(\u001b[0m\u001b[0mkey\u001b[0m\u001b[1;33m)\u001b[0m\u001b[1;33m\u001b[0m\u001b[1;33m\u001b[0m\u001b[0m\n\u001b[1;32m-> 3761\u001b[1;33m             \u001b[0mindexer\u001b[0m \u001b[1;33m=\u001b[0m \u001b[0mself\u001b[0m\u001b[1;33m.\u001b[0m\u001b[0mcolumns\u001b[0m\u001b[1;33m.\u001b[0m\u001b[0mget_loc\u001b[0m\u001b[1;33m(\u001b[0m\u001b[0mkey\u001b[0m\u001b[1;33m)\u001b[0m\u001b[1;33m\u001b[0m\u001b[1;33m\u001b[0m\u001b[0m\n\u001b[0m\u001b[0;32m   3762\u001b[0m             \u001b[1;32mif\u001b[0m \u001b[0mis_integer\u001b[0m\u001b[1;33m(\u001b[0m\u001b[0mindexer\u001b[0m\u001b[1;33m)\u001b[0m\u001b[1;33m:\u001b[0m\u001b[1;33m\u001b[0m\u001b[1;33m\u001b[0m\u001b[0m\n\u001b[0;32m   3763\u001b[0m                 \u001b[0mindexer\u001b[0m \u001b[1;33m=\u001b[0m \u001b[1;33m[\u001b[0m\u001b[0mindexer\u001b[0m\u001b[1;33m]\u001b[0m\u001b[1;33m\u001b[0m\u001b[1;33m\u001b[0m\u001b[0m\n",
      "\u001b[1;32md:\\ProgramData\\Anaconda3\\lib\\site-packages\\pandas\\core\\indexes\\base.py\u001b[0m in \u001b[0;36mget_loc\u001b[1;34m(self, key)\u001b[0m\n\u001b[0;32m   3653\u001b[0m             \u001b[1;32mreturn\u001b[0m \u001b[0mself\u001b[0m\u001b[1;33m.\u001b[0m\u001b[0m_engine\u001b[0m\u001b[1;33m.\u001b[0m\u001b[0mget_loc\u001b[0m\u001b[1;33m(\u001b[0m\u001b[0mcasted_key\u001b[0m\u001b[1;33m)\u001b[0m\u001b[1;33m\u001b[0m\u001b[1;33m\u001b[0m\u001b[0m\n\u001b[0;32m   3654\u001b[0m         \u001b[1;32mexcept\u001b[0m \u001b[0mKeyError\u001b[0m \u001b[1;32mas\u001b[0m \u001b[0merr\u001b[0m\u001b[1;33m:\u001b[0m\u001b[1;33m\u001b[0m\u001b[1;33m\u001b[0m\u001b[0m\n\u001b[1;32m-> 3655\u001b[1;33m             \u001b[1;32mraise\u001b[0m \u001b[0mKeyError\u001b[0m\u001b[1;33m(\u001b[0m\u001b[0mkey\u001b[0m\u001b[1;33m)\u001b[0m \u001b[1;32mfrom\u001b[0m \u001b[0merr\u001b[0m\u001b[1;33m\u001b[0m\u001b[1;33m\u001b[0m\u001b[0m\n\u001b[0m\u001b[0;32m   3656\u001b[0m         \u001b[1;32mexcept\u001b[0m \u001b[0mTypeError\u001b[0m\u001b[1;33m:\u001b[0m\u001b[1;33m\u001b[0m\u001b[1;33m\u001b[0m\u001b[0m\n\u001b[0;32m   3657\u001b[0m             \u001b[1;31m# If we have a listlike key, _check_indexing_error will raise\u001b[0m\u001b[1;33m\u001b[0m\u001b[1;33m\u001b[0m\u001b[1;33m\u001b[0m\u001b[0m\n",
      "\u001b[1;31mKeyError\u001b[0m: 'kmeans'"
     ]
    }
   ],
   "source": [
    "# 使用3类别的kmeans聚类\n",
    "df['kmeans'].unique()"
   ]
  },
  {
   "cell_type": "code",
   "execution_count": null,
   "metadata": {},
   "outputs": [],
   "source": [
    "# 使用决策树预测kmeans聚类的类别\n",
    "\n",
    "#划分数据集\n",
    "all_inputs =df[list(data.columns)].values\n",
    "all_classes =df['kmeans'].values\n",
    "\n",
    "(training_inputs,\n",
    " testing_inputs,\n",
    " training_classes,\n",
    " testing_classes) = train_test_split(all_inputs, all_classes, train_size=0.5, random_state=1)\n",
    "\n",
    "#定义决策树模型\n",
    "decision_tree_classifier = DecisionTreeClassifier(random_state=210)\n",
    "#在训练集上训练模型\n",
    "decision_tree_classifier.fit(training_inputs, training_classes)\n",
    "#在测试集上测试\n",
    "# Validate the classifier on the testing set using classification accuracy\n",
    "s=decision_tree_classifier.score(testing_inputs, testing_classes)  #在测试集上的准确性\n"
   ]
  },
  {
   "cell_type": "code",
   "execution_count": null,
   "metadata": {},
   "outputs": [],
   "source": []
  },
  {
   "cell_type": "code",
   "execution_count": 62,
   "metadata": {},
   "outputs": [
    {
     "data": {
      "text/plain": [
       "Index(['id', 'age', 'gender', 'lnincm', 'lnfincm', 'isco08', 'manage',\n",
       "       'dwtype', 'tizhi', 'party', 'hukou', 'wide', 'nwtop', 'edu',\n",
       "       'listening', 'speaking', 'book', 'newsp', 'eread', 'isei08', 'siops08',\n",
       "       'ht', 'wt', 'rd1', 'rd2', 'rd3', 'statswt'],\n",
       "      dtype='object')"
      ]
     },
     "execution_count": 62,
     "metadata": {},
     "output_type": "execute_result"
    }
   ],
   "source": [
    "df.columns"
   ]
  },
  {
   "cell_type": "code",
   "execution_count": 66,
   "metadata": {},
   "outputs": [
    {
     "name": "stdout",
     "output_type": "stream",
     "text": [
      "0.85\n"
     ]
    }
   ],
   "source": [
    "print(s)"
   ]
  },
  {
   "cell_type": "code",
   "execution_count": 2,
   "metadata": {},
   "outputs": [
    {
     "ename": "NameError",
     "evalue": "name 'train_test_split' is not defined",
     "output_type": "error",
     "traceback": [
      "\u001b[1;31m---------------------------------------------------------------------------\u001b[0m",
      "\u001b[1;31mNameError\u001b[0m                                 Traceback (most recent call last)",
      "\u001b[1;32m<ipython-input-2-285b53292a35>\u001b[0m in \u001b[0;36m<module>\u001b[1;34m\u001b[0m\n\u001b[0;32m      7\u001b[0m      \u001b[0mtesting_inputs\u001b[0m\u001b[1;33m,\u001b[0m\u001b[1;33m\u001b[0m\u001b[1;33m\u001b[0m\u001b[0m\n\u001b[0;32m      8\u001b[0m      \u001b[0mtraining_classes\u001b[0m\u001b[1;33m,\u001b[0m\u001b[1;33m\u001b[0m\u001b[1;33m\u001b[0m\u001b[0m\n\u001b[1;32m----> 9\u001b[1;33m      testing_classes) = train_test_split(all_inputs, all_classes, train_size=0.5, random_state=210)\n\u001b[0m\u001b[0;32m     10\u001b[0m     \u001b[0mdecision_tree_classifier\u001b[0m \u001b[1;33m=\u001b[0m \u001b[0mDecisionTreeClassifier\u001b[0m\u001b[1;33m(\u001b[0m\u001b[0mrandom_state\u001b[0m\u001b[1;33m=\u001b[0m\u001b[0mi\u001b[0m\u001b[1;33m)\u001b[0m\u001b[1;33m\u001b[0m\u001b[1;33m\u001b[0m\u001b[0m\n\u001b[0;32m     11\u001b[0m     \u001b[1;31m#训练模型\u001b[0m\u001b[1;33m\u001b[0m\u001b[1;33m\u001b[0m\u001b[1;33m\u001b[0m\u001b[0m\n",
      "\u001b[1;31mNameError\u001b[0m: name 'train_test_split' is not defined"
     ]
    }
   ],
   "source": [
    "# 决策树具有一定的随机性，多运行几次看看\n",
    "\n",
    "# 100个模型的预测准确率\n",
    "scors=list() #定义一个空的集合来储存每次的预测准确性\n",
    "for i in range(0,100):\n",
    "    (training_inputs,\n",
    "     testing_inputs,\n",
    "     training_classes,\n",
    "     testing_classes) = train_test_split(all_inputs, all_classes, train_size=0.5, random_state=210)\n",
    "    decision_tree_classifier = DecisionTreeClassifier(random_state=i)\n",
    "    #训练模型\n",
    "    # Train the classifier on the training set\n",
    "    decision_tree_classifier.fit(training_inputs, training_classes)\n",
    "    #所得模型的准确性\n",
    "    # Validate the classifier on the testing set using classification accuracy\n",
    "    s=decision_tree_classifier.score(testing_inputs, testing_classes)\n",
    "    scors.append(s)"
   ]
  },
  {
   "cell_type": "code",
   "execution_count": 68,
   "metadata": {},
   "outputs": [
    {
     "name": "stdout",
     "output_type": "stream",
     "text": [
      "0.84742 0.008041368042814613\n"
     ]
    }
   ],
   "source": [
    "#看100次准确性的分布\n",
    "scors=np.array(scors)\n",
    "print(scors.mean(),scors.std())\n"
   ]
  },
  {
   "cell_type": "code",
   "execution_count": 69,
   "metadata": {
    "scrolled": true
   },
   "outputs": [
    {
     "data": {
      "image/png": "[encoded data removed]",
      "text/plain": [
       "<Figure size 720x360 with 1 Axes>"
      ]
     },
     "metadata": {
      "needs_background": "light"
     },
     "output_type": "display_data"
    }
   ],
   "source": [
    "#预测准确性可视化\n",
    "fig, (ax1) = plt.subplots(1,1, figsize=(10,5))\n",
    "ax1=sns.barplot(list(range(0,100)),scors)\n",
    "ax1.set_xlabel(\"accuracy\",fontsize=10)\n",
    "ax1.set_ylabel(\"number of models\",fontsize=20)\n",
    "ax1.set_title(\"accuracy distribution of 100 models\",fontsize=20)\n",
    "plt.ylim([0.5, 1])\n",
    "plt.show()"
   ]
  },
  {
   "cell_type": "markdown",
   "metadata": {},
   "source": [
    "### 决策树模型可视化"
   ]
  },
  {
   "cell_type": "code",
   "execution_count": null,
   "metadata": {},
   "outputs": [],
   "source": [
    "# 可视化\n",
    "from six import StringIO\n",
    "import pydotplus\n",
    "import graphviz  \n",
    "from IPython.display import Image\n",
    "from sklearn import tree"
   ]
  },
  {
   "cell_type": "code",
   "execution_count": 71,
   "metadata": {},
   "outputs": [],
   "source": [
    "#区分训练集、测试集\n",
    "(training_inputs,\n",
    " testing_inputs,\n",
    " training_classes,\n",
    " testing_classes) = train_test_split(all_inputs, all_classes, train_size=0.5, random_state=1)"
   ]
  },
  {
   "cell_type": "code",
   "execution_count": 72,
   "metadata": {},
   "outputs": [
    {
     "name": "stdout",
     "output_type": "stream",
     "text": [
      "0.864\n"
     ]
    }
   ],
   "source": [
    "#----不剪枝\n",
    "\n",
    "#定义决策树模型\n",
    "dtc = DecisionTreeClassifier(random_state=20)\n",
    "#在训练集上训练模型\n",
    "dtc.fit(training_inputs, training_classes)\n",
    "#在测试集上测试\n",
    "# Validate the classifier on the testing set using classification accuracy\n",
    "s=dtc.score(testing_inputs, testing_classes)  #在测试集上的准确性\n",
    "print(s)"
   ]
  },
  {
   "cell_type": "code",
   "execution_count": 73,
   "metadata": {},
   "outputs": [],
   "source": [
    "# 要定义特征的标签和类别标签\n",
    "data_feature_name = list(data.columns)\n",
    "data_target_name = ['0','1','2']\n",
    "\n",
    "#不剪枝\n",
    "dt = tree.export_graphviz(dtc,out_file=None,\n",
    "                                feature_names=data_feature_name,\n",
    "                                class_names=data_target_name,\n",
    "                                filled=True, \n",
    "                                rounded=True,\n",
    "                                special_characters=True)\n",
    "graph1 = pydotplus.graph_from_dot_data(dt)\n",
    "img1 = Image(graph1.create_png())\n"
   ]
  },
  {
   "cell_type": "markdown",
   "metadata": {},
   "source": [
    "<img src=\"./pics/ot.png\">"
   ]
  },
  {
   "cell_type": "code",
   "execution_count": 75,
   "metadata": {},
   "outputs": [
    {
     "name": "stdout",
     "output_type": "stream",
     "text": [
      "0.788\n"
     ]
    }
   ],
   "source": [
    "#-----剪枝\n",
    "dt = DecisionTreeClassifier(random_state=20,\n",
    "                            max_depth=3,         #树的最大深度\n",
    "                            min_samples_split=20,  #样本数量大于多少才能进行下一步分枝\n",
    "                            min_samples_leaf=10,    #叶子节点中样本数的最小值\n",
    "                            min_weight_fraction_leaf=0,  #叶子节点所有样本权重和的最小值\n",
    "                            max_leaf_nodes=None,   #最大的叶子节点的个数\n",
    "                            min_impurity_decrease=0)   #最小的不纯度（基尼系数、信息增益等）\n",
    "\n",
    "#训练模型\n",
    "# Train the classifier on the training set\n",
    "dt.fit(training_inputs, training_classes)\n",
    "#所得模型的准确性\n",
    "# Validate the classifier on the testing set using classification accuracy\n",
    "s=dt.score(testing_inputs, testing_classes)\n",
    "print(s)"
   ]
  },
  {
   "cell_type": "code",
   "execution_count": 76,
   "metadata": {},
   "outputs": [],
   "source": [
    "cut_tree = tree.export_graphviz(dt,out_file=None,\n",
    "                                feature_names=data_feature_name,\n",
    "                                class_names=data_target_name,filled=True, \n",
    "                                rounded=True,\n",
    "                                special_characters=True)\n",
    "graph1 = pydotplus.graph_from_dot_data(cut_tree)\n",
    "img1 = Image(graph1.create_png())\n"
   ]
  },
  {
   "cell_type": "code",
   "execution_count": 77,
   "metadata": {},
   "outputs": [
    {
     "data": {
      "text/plain": [
       "True"
      ]
     },
     "execution_count": 77,
     "metadata": {},
     "output_type": "execute_result"
    }
   ],
   "source": [
    "graph1.write_png(\"pics/out1.png\")"
   ]
  },
  {
   "cell_type": "markdown",
   "metadata": {},
   "source": [
    "<img src=\"./pics/out1.png\" width=800 heigth=700>"
   ]
  },
  {
   "cell_type": "markdown",
   "metadata": {},
   "source": [
    "## 回归树\n",
    "\n",
    "决策树还可以用于回归任务，回归树的原理和做法与分类树一样。"
   ]
  },
  {
   "cell_type": "code",
   "execution_count": 78,
   "metadata": {},
   "outputs": [],
   "source": [
    "#调包\n",
    "from sklearn.tree import DecisionTreeRegressor\n",
    "from IPython.display import Image,display"
   ]
  },
  {
   "cell_type": "code",
   "execution_count": 79,
   "metadata": {},
   "outputs": [
    {
     "name": "stdout",
     "output_type": "stream",
     "text": [
      "6.380311424966743\n"
     ]
    }
   ],
   "source": [
    "#回归树\n",
    "inputs=df[feature]\n",
    "labels=df[label]\n",
    "\n",
    "#划分训练集和测试集\n",
    "(train_X,\n",
    " test_X,\n",
    " train_y,\n",
    " test_y) = train_test_split(inputs, labels, train_size=0.5, random_state=5029)\n",
    "\n",
    "\n",
    "#定义回归决策树对象\n",
    "regs = DecisionTreeRegressor(random_state=20,\n",
    "                             max_depth=3,\n",
    "                            min_samples_split=20,  #样本数量大于多少才能进行下一步分枝\n",
    "                            min_samples_leaf=10,  )  #叶子节点中样本数的最小值)\n",
    "#在训练集上训练模型\n",
    "regs.fit(train_X, train_y)\n",
    "#在测试集上预测y\n",
    "y_pred=regs.predict(test_X)\n",
    "\n",
    "print(MSE(test_y['lnincm'],y_pred))\n"
   ]
  },
  {
   "cell_type": "code",
   "execution_count": 80,
   "metadata": {},
   "outputs": [
    {
     "name": "stdout",
     "output_type": "stream",
     "text": [
      "<sklearn.tree._tree.Tree object at 0x7fdb5c122880>\n"
     ]
    }
   ],
   "source": [
    "print(regs.tree_)"
   ]
  },
  {
   "cell_type": "code",
   "execution_count": 81,
   "metadata": {},
   "outputs": [
    {
     "data": {
      "image/png": "[encoded data removed]",
      "text/plain": [
       "<Figure size 432x288 with 1 Axes>"
      ]
     },
     "metadata": {
      "needs_background": "light"
     },
     "output_type": "display_data"
    }
   ],
   "source": [
    "#真实值与预测值分布图\n",
    "\n",
    "# 有中文时防止乱码，必写\n",
    "plt.rcParams['font.sans-serif'] = ['SimHei']\n",
    "plt.rcParams['axes.unicode_minus'] = False\n",
    "\n",
    "\n",
    "sns.distplot(df['lnincm'],bins=20,label='sklearn预测值')\n",
    "sns.distplot(y_pred,bins=20,label='真实值')\n",
    "\n",
    "plt.legend()\n",
    "plt.show()"
   ]
  },
  {
   "cell_type": "code",
   "execution_count": 82,
   "metadata": {},
   "outputs": [],
   "source": [
    "dot_data=tree.export_graphviz(regs,\n",
    "               out_file=None,\n",
    "               feature_names=feature,\n",
    "               class_names=labels,\n",
    "               filled=True,\n",
    "               rounded=True\n",
    "               )\n",
    "graph2=pydotplus.graph_from_dot_data(dot_data)\n",
    "\n",
    "img2 = Image(graph2.create_png())\n"
   ]
  },
  {
   "cell_type": "code",
   "execution_count": 83,
   "metadata": {},
   "outputs": [
    {
     "data": {
      "text/plain": [
       "True"
      ]
     },
     "execution_count": 83,
     "metadata": {},
     "output_type": "execute_result"
    }
   ],
   "source": [
    "graph2.write_png(\"pics/out2.png\")"
   ]
  },
  {
   "cell_type": "markdown",
   "metadata": {},
   "source": [
    " <img src=\"./pics/out2.png\" width=800 heigth=600>"
   ]
  },
  {
   "cell_type": "code",
   "execution_count": 85,
   "metadata": {},
   "outputs": [
    {
     "data": {
      "text/plain": [
       "<bound method BaseEstimator.get_params of DecisionTreeRegressor(max_depth=3, min_samples_leaf=10, min_samples_split=20,\n",
       "                      random_state=20)>"
      ]
     },
     "execution_count": 85,
     "metadata": {},
     "output_type": "execute_result"
    }
   ],
   "source": [
    "#每个样本所处的叶子节点\n",
    "regs.apply(train_X)\n",
    "regs.get_params"
   ]
  },
  {
   "cell_type": "markdown",
   "metadata": {},
   "source": [
    "## 随机森林\n",
    "\n",
    "随机森林是建立在决策树基础上的集成学习器\n",
    "\n",
    "集成学习的三种类型: bagging,boosting,stacking"
   ]
  },
  {
   "cell_type": "code",
   "execution_count": 49,
   "metadata": {},
   "outputs": [],
   "source": [
    "#导入RandomForestClassifier\n",
    "from sklearn.ensemble import RandomForestClassifier"
   ]
  },
  {
   "cell_type": "code",
   "execution_count": null,
   "metadata": {},
   "outputs": [],
   "source": [
    "# 划分训练集测试集\n",
    "(training_inputs,\n",
    " testing_inputs,\n",
    " training_classes,\n",
    " testing_classes) = train_test_split(all_inputs, all_classes, train_size=0.5, random_state=1)\n",
    "\n",
    "\n",
    "#创建随机森林分类器对象\n",
    "rf = RandomForestClassifier(random_state=0,\n",
    "                            n_estimators=100,\n",
    "                            oob_score=True)  #袋外误差\n",
    "#训练模型\n",
    "model= rf.fit(training_inputs,training_classes)\n",
    "\n",
    "#查看袋外误差\n",
    "print(rf.oob_score_)\n",
    "\n",
    "#模型在测试集上的表现\n",
    "print(rf.score(testing_inputs,testing_classes))\n"
   ]
  },
  {
   "cell_type": "markdown",
   "metadata": {},
   "source": [
    "## 特征选择——决策树特征重要性\n",
    "\n",
    "决策树模型的特征重要性可以直接用DecisionTreeClassifier.feature_importances_调取\n"
   ]
  },
  {
   "cell_type": "code",
   "execution_count": 1,
   "metadata": {},
   "outputs": [
    {
     "ename": "NameError",
     "evalue": "name 'DecisionTreeClassifier' is not defined",
     "output_type": "error",
     "traceback": [
      "\u001b[1;31m---------------------------------------------------------------------------\u001b[0m",
      "\u001b[1;31mNameError\u001b[0m                                 Traceback (most recent call last)",
      "\u001b[1;32m<ipython-input-1-002544124043>\u001b[0m in \u001b[0;36m<module>\u001b[1;34m\u001b[0m\n\u001b[0;32m      2\u001b[0m \u001b[1;33m\u001b[0m\u001b[0m\n\u001b[0;32m      3\u001b[0m \u001b[1;31m#定义决策树模型\u001b[0m\u001b[1;33m\u001b[0m\u001b[1;33m\u001b[0m\u001b[1;33m\u001b[0m\u001b[0m\n\u001b[1;32m----> 4\u001b[1;33m \u001b[0mdtc\u001b[0m \u001b[1;33m=\u001b[0m \u001b[0mDecisionTreeClassifier\u001b[0m\u001b[1;33m(\u001b[0m\u001b[0mrandom_state\u001b[0m\u001b[1;33m=\u001b[0m\u001b[1;36m20\u001b[0m\u001b[1;33m)\u001b[0m\u001b[1;33m\u001b[0m\u001b[1;33m\u001b[0m\u001b[0m\n\u001b[0m\u001b[0;32m      5\u001b[0m \u001b[1;31m#在训练集上训练模型\u001b[0m\u001b[1;33m\u001b[0m\u001b[1;33m\u001b[0m\u001b[1;33m\u001b[0m\u001b[0m\n\u001b[0;32m      6\u001b[0m \u001b[0mdtc\u001b[0m\u001b[1;33m.\u001b[0m\u001b[0mfit\u001b[0m\u001b[1;33m(\u001b[0m\u001b[0mtraining_inputs\u001b[0m\u001b[1;33m,\u001b[0m \u001b[0mtraining_classes\u001b[0m\u001b[1;33m)\u001b[0m\u001b[1;33m\u001b[0m\u001b[1;33m\u001b[0m\u001b[0m\n",
      "\u001b[1;31mNameError\u001b[0m: name 'DecisionTreeClassifier' is not defined"
     ]
    }
   ],
   "source": [
    "#决策树特征重要性\n",
    "\n",
    "#定义决策树模型\n",
    "dtc = DecisionTreeClassifier(random_state=20)\n",
    "#在训练集上训练模型\n",
    "dtc.fit(training_inputs, training_classes)\n",
    "importance=list(dtc.feature_importances_)"
   ]
  },
  {
   "cell_type": "code",
   "execution_count": 88,
   "metadata": {},
   "outputs": [],
   "source": [
    "impd=pd.DataFrame(list(zip(data.columns,importance)), \n",
    "                   columns = ['variable', 'importance'])"
   ]
  },
  {
   "cell_type": "code",
   "execution_count": 89,
   "metadata": {},
   "outputs": [
    {
     "data": {
      "text/html": [
       "<div>\n",
       "<style scoped>\n",
       "    .dataframe tbody tr th:only-of-type {\n",
       "        vertical-align: middle;\n",
       "    }\n",
       "\n",
       "    .dataframe tbody tr th {\n",
       "        vertical-align: top;\n",
       "    }\n",
       "\n",
       "    .dataframe thead th {\n",
       "        text-align: right;\n",
       "    }\n",
       "</style>\n",
       "<table border=\"1\" class=\"dataframe\">\n",
       "  <thead>\n",
       "    <tr style=\"text-align: right;\">\n",
       "      <th></th>\n",
       "      <th>variable</th>\n",
       "      <th>importance</th>\n",
       "    </tr>\n",
       "  </thead>\n",
       "  <tbody>\n",
       "    <tr>\n",
       "      <th>0</th>\n",
       "      <td>age</td>\n",
       "      <td>0.004563</td>\n",
       "    </tr>\n",
       "    <tr>\n",
       "      <th>1</th>\n",
       "      <td>gender</td>\n",
       "      <td>0.000000</td>\n",
       "    </tr>\n",
       "    <tr>\n",
       "      <th>2</th>\n",
       "      <td>lnincm</td>\n",
       "      <td>0.036339</td>\n",
       "    </tr>\n",
       "    <tr>\n",
       "      <th>3</th>\n",
       "      <td>lnfincm</td>\n",
       "      <td>0.016050</td>\n",
       "    </tr>\n",
       "    <tr>\n",
       "      <th>4</th>\n",
       "      <td>isco08</td>\n",
       "      <td>0.004054</td>\n",
       "    </tr>\n",
       "    <tr>\n",
       "      <th>5</th>\n",
       "      <td>manage</td>\n",
       "      <td>0.011064</td>\n",
       "    </tr>\n",
       "    <tr>\n",
       "      <th>6</th>\n",
       "      <td>dwtype</td>\n",
       "      <td>0.352393</td>\n",
       "    </tr>\n",
       "    <tr>\n",
       "      <th>7</th>\n",
       "      <td>tizhi</td>\n",
       "      <td>0.004054</td>\n",
       "    </tr>\n",
       "    <tr>\n",
       "      <th>8</th>\n",
       "      <td>party</td>\n",
       "      <td>0.000000</td>\n",
       "    </tr>\n",
       "    <tr>\n",
       "      <th>9</th>\n",
       "      <td>hukou</td>\n",
       "      <td>0.055554</td>\n",
       "    </tr>\n",
       "    <tr>\n",
       "      <th>10</th>\n",
       "      <td>edu</td>\n",
       "      <td>0.000000</td>\n",
       "    </tr>\n",
       "    <tr>\n",
       "      <th>11</th>\n",
       "      <td>wide</td>\n",
       "      <td>0.016168</td>\n",
       "    </tr>\n",
       "    <tr>\n",
       "      <th>12</th>\n",
       "      <td>nwtop</td>\n",
       "      <td>0.034099</td>\n",
       "    </tr>\n",
       "    <tr>\n",
       "      <th>13</th>\n",
       "      <td>listening</td>\n",
       "      <td>0.083758</td>\n",
       "    </tr>\n",
       "    <tr>\n",
       "      <th>14</th>\n",
       "      <td>speaking</td>\n",
       "      <td>0.004561</td>\n",
       "    </tr>\n",
       "    <tr>\n",
       "      <th>15</th>\n",
       "      <td>book</td>\n",
       "      <td>0.005856</td>\n",
       "    </tr>\n",
       "    <tr>\n",
       "      <th>16</th>\n",
       "      <td>newsp</td>\n",
       "      <td>0.002635</td>\n",
       "    </tr>\n",
       "    <tr>\n",
       "      <th>17</th>\n",
       "      <td>eread</td>\n",
       "      <td>0.048272</td>\n",
       "    </tr>\n",
       "    <tr>\n",
       "      <th>18</th>\n",
       "      <td>isei08</td>\n",
       "      <td>0.268187</td>\n",
       "    </tr>\n",
       "    <tr>\n",
       "      <th>19</th>\n",
       "      <td>siops08</td>\n",
       "      <td>0.024173</td>\n",
       "    </tr>\n",
       "    <tr>\n",
       "      <th>20</th>\n",
       "      <td>ht</td>\n",
       "      <td>0.003040</td>\n",
       "    </tr>\n",
       "    <tr>\n",
       "      <th>21</th>\n",
       "      <td>wt</td>\n",
       "      <td>0.025183</td>\n",
       "    </tr>\n",
       "  </tbody>\n",
       "</table>\n",
       "</div>"
      ],
      "text/plain": [
       "     variable  importance\n",
       "0         age    0.004563\n",
       "1      gender    0.000000\n",
       "2      lnincm    0.036339\n",
       "3     lnfincm    0.016050\n",
       "4      isco08    0.004054\n",
       "5      manage    0.011064\n",
       "6      dwtype    0.352393\n",
       "7       tizhi    0.004054\n",
       "8       party    0.000000\n",
       "9       hukou    0.055554\n",
       "10        edu    0.000000\n",
       "11       wide    0.016168\n",
       "12      nwtop    0.034099\n",
       "13  listening    0.083758\n",
       "14   speaking    0.004561\n",
       "15       book    0.005856\n",
       "16      newsp    0.002635\n",
       "17      eread    0.048272\n",
       "18     isei08    0.268187\n",
       "19    siops08    0.024173\n",
       "20         ht    0.003040\n",
       "21         wt    0.025183"
      ]
     },
     "execution_count": 89,
     "metadata": {},
     "output_type": "execute_result"
    }
   ],
   "source": [
    "impd"
   ]
  },
  {
   "cell_type": "code",
   "execution_count": 90,
   "metadata": {},
   "outputs": [
    {
     "data": {
      "image/png": "[encoded data removed]",
      "text/plain": [
       "<Figure size 720x720 with 1 Axes>"
      ]
     },
     "metadata": {
      "needs_background": "light"
     },
     "output_type": "display_data"
    }
   ],
   "source": [
    "#特征重要性可视化\n",
    "plt.figure(figsize=(10,10))\n",
    "sns.barplot(impd['importance'],impd['variable'])\n",
    "\n",
    "plt.title(\"feature importance\",fontsize=20)\n",
    "plt.show()"
   ]
  },
  {
   "cell_type": "markdown",
   "metadata": {},
   "source": [
    "## 使用gridsearch调参"
   ]
  },
  {
   "cell_type": "code",
   "execution_count": 91,
   "metadata": {},
   "outputs": [],
   "source": [
    "# 使用gridsearch的方法调参\n",
    "from sklearn.model_selection import GridSearchCV"
   ]
  },
  {
   "cell_type": "code",
   "execution_count": 92,
   "metadata": {},
   "outputs": [
    {
     "name": "stdout",
     "output_type": "stream",
     "text": [
      "{'max_depth': 5, 'max_features': 15, 'min_samples_leaf': 10} 0.8699999999999999\n"
     ]
    }
   ],
   "source": [
    "#设置参数空间\n",
    "param_test1 = {'max_features':range(4,len(data.columns)+1),   #使用多少feature来预测\n",
    "               'max_depth':range(3,6,1),        # 树的深度      \n",
    "               'min_samples_leaf':range(10,200,50),  #叶子最小样本数\n",
    "               }\n",
    "\n",
    "X=all_inputs\n",
    "y=all_classes\n",
    "\n",
    "grid=[]\n",
    "gsearch = GridSearchCV(\n",
    "           estimator = DecisionTreeClassifier(\n",
    "                                              random_state=20,        \n",
    "                                              #min_samples_leaf=30\n",
    "\n",
    "                                              ), \n",
    "                   param_grid = param_test1,          \n",
    "                   refit=True,\n",
    "                   #scoring='roc_auc',                   \n",
    "                   cv=10)  # 十折交叉验证\n",
    "#拟合模型\n",
    "gsearch.fit(X,y)\n",
    "#保存结果\n",
    "grid={\"best_params\":gsearch.best_params_, \n",
    "          \"best_score\":gsearch.best_score_,\n",
    "          \"cv_results\":gsearch.cv_results_,\n",
    "          \"best_estimator\":gsearch.best_estimator_,\n",
    "          \"best_index\":gsearch.best_index_,\n",
    "          \"scorer\":gsearch.scorer_,\n",
    "          #\"feature_names\":feature_names_in_\n",
    "          }\n",
    "\n",
    "#打印最好模型的参数设置和准确性\n",
    "print(gsearch.best_params_, gsearch.best_score_)\n",
    "\n"
   ]
  }
 ],
 "metadata": {
  "kernelspec": {
   "display_name": "base",
   "language": "python",
   "name": "python3"
  },
  "language_info": {
   "codemirror_mode": {
    "name": "ipython",
    "version": 3
   },
   "file_extension": ".py",
   "mimetype": "text/x-python",
   "name": "python",
   "nbconvert_exporter": "python",
   "pygments_lexer": "ipython3",
   "version": "3.8.5"
  },
  "nbTranslate": {
   "displayLangs": [
    "*"
   ],
   "hotkey": "alt-t",
   "langInMainMenu": true,
   "sourceLang": "en",
   "targetLang": "fr",
   "useGoogleTranslate": true
  },
  "toc": {
   "base_numbering": 1,
   "nav_menu": {
    "height": "54px",
    "width": "165px"
   },
   "number_sections": true,
   "sideBar": true,
   "skip_h1_title": false,
   "title_cell": "Table of Contents",
   "title_sidebar": "Contents",
   "toc_cell": false,
   "toc_position": {
    "height": "calc(100% - 180px)",
    "left": "10px",
    "top": "150px",
    "width": "264px"
   },
   "toc_section_display": true,
   "toc_window_display": true
  },
  "vscode": {
   "interpreter": {
    "hash": "e42634819b8c191a5d07eaf23810ff32516dd8d3875f28ec3e488928fbd3c187"
   }
  }
 },
 "nbformat": 4,
 "nbformat_minor": 2
}
