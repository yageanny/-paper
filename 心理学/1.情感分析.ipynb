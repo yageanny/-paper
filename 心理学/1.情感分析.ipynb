{
 "cells": [
  {
   "cell_type": "code",
   "execution_count": 1,
   "metadata": {},
   "outputs": [
    {
     "name": "stdout",
     "output_type": "stream",
     "text": [
      "Requirement already satisfied: textblob in d:\\programdata\\anaconda3\\lib\\site-packages (0.17.1)\n",
      "Requirement already satisfied: nltk>=3.1 in d:\\programdata\\anaconda3\\lib\\site-packages (from textblob) (3.5)\n",
      "Requirement already satisfied: click in d:\\programdata\\anaconda3\\lib\\site-packages (from nltk>=3.1->textblob) (8.1.3)\n",
      "Requirement already satisfied: joblib in d:\\programdata\\anaconda3\\lib\\site-packages (from nltk>=3.1->textblob) (1.2.0)\n",
      "Requirement already satisfied: regex in d:\\programdata\\anaconda3\\lib\\site-packages (from nltk>=3.1->textblob) (2020.10.15)\n",
      "Requirement already satisfied: tqdm in c:\\users\\颖颖真的可爱\\appdata\\roaming\\python\\python38\\site-packages (from nltk>=3.1->textblob) (4.64.1)\n",
      "Requirement already satisfied: colorama in d:\\programdata\\anaconda3\\lib\\site-packages (from click->nltk>=3.1->textblob) (0.4.6)\n",
      "Note: you may need to restart the kernel to use updated packages.\n"
     ]
    },
    {
     "name": "stderr",
     "output_type": "stream",
     "text": [
      "WARNING: Ignoring invalid distribution -qdm (d:\\programdata\\anaconda3\\lib\\site-packages)\n",
      "WARNING: Ignoring invalid distribution -qdm (d:\\programdata\\anaconda3\\lib\\site-packages)\n",
      "DEPRECATION: pyodbc 4.0.0-unsupported has a non-standard version number. pip 23.3 will enforce this behaviour change. A possible replacement is to upgrade to a newer version of pyodbc or contact the author to suggest that they release a version with a conforming version number. Discussion can be found at https://github.com/pypa/pip/issues/12063\n"
     ]
    }
   ],
   "source": [
    "pip install textblob\n"
   ]
  },
  {
   "cell_type": "code",
   "execution_count": 2,
   "metadata": {},
   "outputs": [
    {
     "name": "stderr",
     "output_type": "stream",
     "text": [
      "d:\\ProgramData\\Anaconda3\\lib\\site-packages\\pandas\\core\\computation\\expressions.py:20: UserWarning: Pandas requires version '2.7.3' or newer of 'numexpr' (version '2.7.1' currently installed).\n",
      "  from pandas.core.computation.check import NUMEXPR_INSTALLED\n",
      "<ipython-input-2-21d675f1917c>:15: UserWarning: Pandas requires version '1.4.3' or newer of 'xlsxwriter' (version '1.3.7' currently installed).\n",
      "  excel_data.to_excel('updated_file_textblob.xlsx', index=False)\n"
     ]
    }
   ],
   "source": [
    "from textblob import TextBlob\n",
    "import pandas as pd\n",
    "\n",
    "# 读取Excel文件\n",
    "excel_data = pd.read_excel('D:\\\\python_code\\\\Textanalysis\\\\2022镇街转派.xlsx')\n",
    "\n",
    "# 假设数据位于名为 'column_name' 的列中\n",
    "text_data = excel_data['回复内容'].tolist()\n",
    "\n",
    "# 对每个文本进行情感分析并存储结果\n",
    "sentiment_scores = [TextBlob(text).sentiment.polarity for text in text_data]\n",
    "excel_data['情感分析结果'] = sentiment_scores  # 添加新列\n",
    "\n",
    "# 将更新后的数据保存回Excel文件\n",
    "excel_data.to_excel('updated_file_textblob.xlsx', index=False)\n"
   ]
  },
  {
   "cell_type": "code",
   "execution_count": null,
   "metadata": {},
   "outputs": [],
   "source": [
    "import pandas as pd\n",
    "from snownlp import SnowNLP\n",
    "\n",
    "# 读取Excel文件\n",
    "excel_data = pd.read_excel('your_file.xlsx')\n",
    "\n",
    "# 假设数据位于名为 'column_name' 的列中\n",
    "text_data = excel_data['column_name'].tolist()\n",
    "\n",
    "# 创建一个情感分析器\n",
    "def analyze_sentiment(text):\n",
    "    s = SnowNLP(text)\n",
    "    return s.sentiments\n",
    "\n",
    "# 对每个文本进行情感分析并存储结果\n",
    "sentiment_scores = [analyze_sentiment(text) for text in text_data]\n",
    "excel_data['情感分析结果'] = sentiment_scores  # 添加新列\n",
    "\n",
    "# 将更新后的数据保存回Excel文件\n",
    "excel_data.to_excel('updated_file.xlsx', index=False)\n"
   ]
  }
 ],
 "metadata": {
  "kernelspec": {
   "display_name": "base",
   "language": "python",
   "name": "python3"
  },
  "language_info": {
   "codemirror_mode": {
    "name": "ipython",
    "version": 3
   },
   "file_extension": ".py",
   "mimetype": "text/x-python",
   "name": "python",
   "nbconvert_exporter": "python",
   "pygments_lexer": "ipython3",
   "version": "3.8.5"
  },
  "orig_nbformat": 4,
  "vscode": {
   "interpreter": {
    "hash": "e42634819b8c191a5d07eaf23810ff32516dd8d3875f28ec3e488928fbd3c187"
   }
  }
 },
 "nbformat": 4,
 "nbformat_minor": 2
}
